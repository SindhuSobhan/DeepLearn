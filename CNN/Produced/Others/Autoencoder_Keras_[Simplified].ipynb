{
  "nbformat": 4,
  "nbformat_minor": 0,
  "metadata": {
    "colab": {
      "name": "Autoencoder_Keras_[Simplified].ipynb",
      "provenance": [],
      "collapsed_sections": [],
      "include_colab_link": true
    },
    "kernelspec": {
      "name": "python3",
      "display_name": "Python 3"
    },
    "accelerator": "GPU"
  },
  "cells": [
    {
      "cell_type": "markdown",
      "metadata": {
        "id": "view-in-github",
        "colab_type": "text"
      },
      "source": [
        "<a href=\"https://colab.research.google.com/github/SindhuSobhan/DeepLearn/blob/CNN/CNN/Produced/Others/Autoencoder_Keras_%5BSimplified%5D.ipynb\" target=\"_parent\"><img src=\"https://colab.research.google.com/assets/colab-badge.svg\" alt=\"Open In Colab\"/></a>"
      ]
    },
    {
      "cell_type": "markdown",
      "metadata": {
        "id": "IAI3I48m1F1_",
        "colab_type": "text"
      },
      "source": [
        "#Autoencoder\n",
        "A simple yet accurate autoencoder model for MNIST dataset. A means for reducing features."
      ]
    },
    {
      "cell_type": "markdown",
      "metadata": {
        "id": "Y2bWpTOt1QuC",
        "colab_type": "text"
      },
      "source": [
        "##Import Libraries"
      ]
    },
    {
      "cell_type": "code",
      "metadata": {
        "id": "MXQXSGi13aHl",
        "colab_type": "code",
        "outputId": "9dd4c764-6a02-492c-f3d3-1d4afc89bafe",
        "colab": {
          "base_uri": "https://localhost:8080/",
          "height": 1000
        }
      },
      "source": [
        "import tensorflow as tf\n",
        "\n",
        "if int(tf.__version__[0]) < 2:\n",
        "  !pip install --upgrade tensorflow"
      ],
      "execution_count": 1,
      "outputs": [
        {
          "output_type": "display_data",
          "data": {
            "text/html": [
              "<p style=\"color: red;\">\n",
              "The default version of TensorFlow in Colab will soon switch to TensorFlow 2.x.<br>\n",
              "We recommend you <a href=\"https://www.tensorflow.org/guide/migrate\" target=\"_blank\">upgrade</a> now \n",
              "or ensure your notebook will continue to use TensorFlow 1.x via the <code>%tensorflow_version 1.x</code> magic:\n",
              "<a href=\"https://colab.research.google.com/notebooks/tensorflow_version.ipynb\" target=\"_blank\">more info</a>.</p>\n"
            ],
            "text/plain": [
              "<IPython.core.display.HTML object>"
            ]
          },
          "metadata": {
            "tags": []
          }
        },
        {
          "output_type": "stream",
          "text": [
            "Collecting tensorflow\n",
            "\u001b[?25l  Downloading https://files.pythonhosted.org/packages/85/d4/c0cd1057b331bc38b65478302114194bd8e1b9c2bbc06e300935c0e93d90/tensorflow-2.1.0-cp36-cp36m-manylinux2010_x86_64.whl (421.8MB)\n",
            "\u001b[K     |████████████████████████████████| 421.8MB 37kB/s \n",
            "\u001b[?25hRequirement already satisfied, skipping upgrade: google-pasta>=0.1.6 in /usr/local/lib/python3.6/dist-packages (from tensorflow) (0.1.8)\n",
            "Collecting tensorflow-estimator<2.2.0,>=2.1.0rc0\n",
            "\u001b[?25l  Downloading https://files.pythonhosted.org/packages/18/90/b77c328a1304437ab1310b463e533fa7689f4bfc41549593056d812fab8e/tensorflow_estimator-2.1.0-py2.py3-none-any.whl (448kB)\n",
            "\u001b[K     |████████████████████████████████| 450kB 40.5MB/s \n",
            "\u001b[?25hRequirement already satisfied, skipping upgrade: wrapt>=1.11.1 in /usr/local/lib/python3.6/dist-packages (from tensorflow) (1.11.2)\n",
            "Requirement already satisfied, skipping upgrade: absl-py>=0.7.0 in /usr/local/lib/python3.6/dist-packages (from tensorflow) (0.9.0)\n",
            "Requirement already satisfied, skipping upgrade: gast==0.2.2 in /usr/local/lib/python3.6/dist-packages (from tensorflow) (0.2.2)\n",
            "Requirement already satisfied, skipping upgrade: wheel>=0.26; python_version >= \"3\" in /usr/local/lib/python3.6/dist-packages (from tensorflow) (0.34.2)\n",
            "Requirement already satisfied, skipping upgrade: termcolor>=1.1.0 in /usr/local/lib/python3.6/dist-packages (from tensorflow) (1.1.0)\n",
            "Requirement already satisfied, skipping upgrade: protobuf>=3.8.0 in /usr/local/lib/python3.6/dist-packages (from tensorflow) (3.10.0)\n",
            "Requirement already satisfied, skipping upgrade: keras-applications>=1.0.8 in /usr/local/lib/python3.6/dist-packages (from tensorflow) (1.0.8)\n",
            "Requirement already satisfied, skipping upgrade: six>=1.12.0 in /usr/local/lib/python3.6/dist-packages (from tensorflow) (1.12.0)\n",
            "Requirement already satisfied, skipping upgrade: numpy<2.0,>=1.16.0 in /usr/local/lib/python3.6/dist-packages (from tensorflow) (1.17.5)\n",
            "Requirement already satisfied, skipping upgrade: astor>=0.6.0 in /usr/local/lib/python3.6/dist-packages (from tensorflow) (0.8.1)\n",
            "Requirement already satisfied, skipping upgrade: opt-einsum>=2.3.2 in /usr/local/lib/python3.6/dist-packages (from tensorflow) (3.1.0)\n",
            "Requirement already satisfied, skipping upgrade: grpcio>=1.8.6 in /usr/local/lib/python3.6/dist-packages (from tensorflow) (1.27.1)\n",
            "Requirement already satisfied, skipping upgrade: scipy==1.4.1; python_version >= \"3\" in /usr/local/lib/python3.6/dist-packages (from tensorflow) (1.4.1)\n",
            "Requirement already satisfied, skipping upgrade: keras-preprocessing>=1.1.0 in /usr/local/lib/python3.6/dist-packages (from tensorflow) (1.1.0)\n",
            "Collecting tensorboard<2.2.0,>=2.1.0\n",
            "\u001b[?25l  Downloading https://files.pythonhosted.org/packages/d9/41/bbf49b61370e4f4d245d4c6051dfb6db80cec672605c91b1652ac8cc3d38/tensorboard-2.1.1-py3-none-any.whl (3.8MB)\n",
            "\u001b[K     |████████████████████████████████| 3.9MB 57.3MB/s \n",
            "\u001b[?25hRequirement already satisfied, skipping upgrade: setuptools in /usr/local/lib/python3.6/dist-packages (from protobuf>=3.8.0->tensorflow) (45.2.0)\n",
            "Requirement already satisfied, skipping upgrade: h5py in /usr/local/lib/python3.6/dist-packages (from keras-applications>=1.0.8->tensorflow) (2.8.0)\n",
            "Requirement already satisfied, skipping upgrade: google-auth<2,>=1.6.3 in /usr/local/lib/python3.6/dist-packages (from tensorboard<2.2.0,>=2.1.0->tensorflow) (1.7.2)\n",
            "Requirement already satisfied, skipping upgrade: google-auth-oauthlib<0.5,>=0.4.1 in /usr/local/lib/python3.6/dist-packages (from tensorboard<2.2.0,>=2.1.0->tensorflow) (0.4.1)\n",
            "Requirement already satisfied, skipping upgrade: requests<3,>=2.21.0 in /usr/local/lib/python3.6/dist-packages (from tensorboard<2.2.0,>=2.1.0->tensorflow) (2.21.0)\n",
            "Requirement already satisfied, skipping upgrade: werkzeug>=0.11.15 in /usr/local/lib/python3.6/dist-packages (from tensorboard<2.2.0,>=2.1.0->tensorflow) (1.0.0)\n",
            "Requirement already satisfied, skipping upgrade: markdown>=2.6.8 in /usr/local/lib/python3.6/dist-packages (from tensorboard<2.2.0,>=2.1.0->tensorflow) (3.2.1)\n",
            "Requirement already satisfied, skipping upgrade: rsa<4.1,>=3.1.4 in /usr/local/lib/python3.6/dist-packages (from google-auth<2,>=1.6.3->tensorboard<2.2.0,>=2.1.0->tensorflow) (4.0)\n",
            "Requirement already satisfied, skipping upgrade: pyasn1-modules>=0.2.1 in /usr/local/lib/python3.6/dist-packages (from google-auth<2,>=1.6.3->tensorboard<2.2.0,>=2.1.0->tensorflow) (0.2.8)\n",
            "Requirement already satisfied, skipping upgrade: cachetools<3.2,>=2.0.0 in /usr/local/lib/python3.6/dist-packages (from google-auth<2,>=1.6.3->tensorboard<2.2.0,>=2.1.0->tensorflow) (3.1.1)\n",
            "Requirement already satisfied, skipping upgrade: requests-oauthlib>=0.7.0 in /usr/local/lib/python3.6/dist-packages (from google-auth-oauthlib<0.5,>=0.4.1->tensorboard<2.2.0,>=2.1.0->tensorflow) (1.3.0)\n",
            "Requirement already satisfied, skipping upgrade: chardet<3.1.0,>=3.0.2 in /usr/local/lib/python3.6/dist-packages (from requests<3,>=2.21.0->tensorboard<2.2.0,>=2.1.0->tensorflow) (3.0.4)\n",
            "Requirement already satisfied, skipping upgrade: urllib3<1.25,>=1.21.1 in /usr/local/lib/python3.6/dist-packages (from requests<3,>=2.21.0->tensorboard<2.2.0,>=2.1.0->tensorflow) (1.24.3)\n",
            "Requirement already satisfied, skipping upgrade: idna<2.9,>=2.5 in /usr/local/lib/python3.6/dist-packages (from requests<3,>=2.21.0->tensorboard<2.2.0,>=2.1.0->tensorflow) (2.8)\n",
            "Requirement already satisfied, skipping upgrade: certifi>=2017.4.17 in /usr/local/lib/python3.6/dist-packages (from requests<3,>=2.21.0->tensorboard<2.2.0,>=2.1.0->tensorflow) (2019.11.28)\n",
            "Requirement already satisfied, skipping upgrade: pyasn1>=0.1.3 in /usr/local/lib/python3.6/dist-packages (from rsa<4.1,>=3.1.4->google-auth<2,>=1.6.3->tensorboard<2.2.0,>=2.1.0->tensorflow) (0.4.8)\n",
            "Requirement already satisfied, skipping upgrade: oauthlib>=3.0.0 in /usr/local/lib/python3.6/dist-packages (from requests-oauthlib>=0.7.0->google-auth-oauthlib<0.5,>=0.4.1->tensorboard<2.2.0,>=2.1.0->tensorflow) (3.1.0)\n",
            "Installing collected packages: tensorflow-estimator, tensorboard, tensorflow\n",
            "  Found existing installation: tensorflow-estimator 1.15.1\n",
            "    Uninstalling tensorflow-estimator-1.15.1:\n",
            "      Successfully uninstalled tensorflow-estimator-1.15.1\n",
            "  Found existing installation: tensorboard 1.15.0\n",
            "    Uninstalling tensorboard-1.15.0:\n",
            "      Successfully uninstalled tensorboard-1.15.0\n",
            "  Found existing installation: tensorflow 1.15.0\n",
            "    Uninstalling tensorflow-1.15.0:\n",
            "      Successfully uninstalled tensorflow-1.15.0\n",
            "Successfully installed tensorboard-2.1.1 tensorflow-2.1.0 tensorflow-estimator-2.1.0\n"
          ],
          "name": "stdout"
        },
        {
          "output_type": "display_data",
          "data": {
            "application/vnd.colab-display-data+json": {
              "pip_warning": {
                "packages": [
                  "tensorboard",
                  "tensorflow",
                  "tensorflow_core",
                  "tensorflow_estimator"
                ]
              }
            }
          },
          "metadata": {
            "tags": []
          }
        }
      ]
    },
    {
      "cell_type": "code",
      "metadata": {
        "id": "g_MyD7eP36bG",
        "colab_type": "code",
        "colab": {}
      },
      "source": [
        "import numpy as np\n",
        "import tensorflow as tf\n",
        "from tensorflow.keras.layers import Dense, Input, Conv2D, MaxPool2D, UpSampling2D\n",
        "from tensorflow.keras import Model\n",
        "from tensorflow.keras.utils import plot_model\n",
        "from tensorflow.keras.datasets import fashion_mnist, mnist\n",
        "import matplotlib.pyplot as plt"
      ],
      "execution_count": 0,
      "outputs": []
    },
    {
      "cell_type": "markdown",
      "metadata": {
        "id": "TeDdlnGI0YMB",
        "colab_type": "text"
      },
      "source": [
        "##MNIST\n"
      ]
    },
    {
      "cell_type": "markdown",
      "metadata": {
        "id": "YdySs3UFlihF",
        "colab_type": "text"
      },
      "source": [
        "###Training"
      ]
    },
    {
      "cell_type": "code",
      "metadata": {
        "id": "JybnvILOd4Ab",
        "colab_type": "code",
        "colab": {}
      },
      "source": [
        "#Define Models\n",
        "def create_Dense_model( encoding_dim = 32):\n",
        "  Inp = Input(shape = (784,), name = \"Input_Layer\")\n",
        "  x = Dense(encoding_dim, activation = 'relu', name = 'Encoding_Layer')(Inp)\n",
        "  Out = Dense(784, activation = 'sigmoid', name = 'Decoding_Layer')(x)\n",
        "\n",
        "  return Model(Inp, Out)\n",
        "\n",
        "\n",
        "\n",
        "\n",
        "def create_CNN_model(encoding_dim = 8):\n",
        "  Inp = Input(shape = (28,28, 1), name = \"Input_Layer\")\n",
        "\n",
        "  x = Conv2D(16, (3,3), padding = 'same', activation = \"relu\", name = \"Conv_Enc_1\")(Inp)\n",
        "  x = MaxPool2D((2,2), name = \"MaxPool_1\")(x)\n",
        "  x = Conv2D(8, (3,3), padding = 'same', activation = \"relu\", name = \"Conv_Enc_2\")(x)\n",
        "  x = MaxPool2D((2,2), name = \"MaxPool_2\")(x) \n",
        "  x = Conv2D(encoding_dim, (3,3), padding = \"same\", activation = \"relu\", name = \"Conv_Enc_3\")(x)\n",
        "  x = MaxPool2D((2,2), padding = \"same\",  name = \"Encoder_Output\")(x) \n",
        "\n",
        "  x = Conv2D(encoding_dim, (3,3), padding = \"same\", activation = \"relu\", name = \"Conv_Dec_1\")(x)\n",
        "  x = UpSampling2D((2,2), name = \"Upsample_1\")(x)\n",
        "  x = Conv2D(8, (3,3), padding = \"same\", activation = \"relu\",  name = \"Conv_Dec_2\")(x)\n",
        "  x = UpSampling2D((2,2), name = \"Upsample_2\")(x)\n",
        "  x = Conv2D(16, (3,3), activation = \"relu\",  name = \"Conv_Dec_3\")(x)\n",
        "  x = UpSampling2D((2,2), name = \"Upsample_3\")(x)\n",
        "\n",
        "  Out = Conv2D(1, (3,3), padding = \"same\", activation = \"sigmoid\",  name = \"Decoded_Output\")(x)\n",
        "\n",
        "  return Model(Inp, Out)"
      ],
      "execution_count": 0,
      "outputs": []
    },
    {
      "cell_type": "code",
      "metadata": {
        "id": "TwArK4Vm1pa7",
        "colab_type": "code",
        "colab": {
          "base_uri": "https://localhost:8080/",
          "height": 1000
        },
        "cellView": "both",
        "outputId": "0ec2bc70-0d49-45d4-b66c-ba58c432e7fc"
      },
      "source": [
        "#@title Choose a model to train { run: \"auto\", vertical-output: true }\n",
        "\n",
        "Model_type = \"CNN\" #@param [\"Dense model\", \"CNN\"]\n",
        "\n",
        "if Model_type == \"Dense model\":\n",
        "  (x_train, _), (x_test, _) = mnist.load_data()\n",
        "  x_train = x_train.astype('float32').reshape(60000, 784) / 255.0\n",
        "  x_test = x_test.astype('float32').reshape(10000, 784) / 255.0\n",
        "\n",
        "  model_dense = create_Dense_model(encoding_dim = 32)\n",
        "\n",
        "  model_dense.summary()\n",
        "\n",
        "  model_dense.compile(optimizer = 'adam', loss = 'binary_crossentropy')\n",
        "  History = model_dense.fit(x_train,\n",
        "                    x_train,\n",
        "                    batch_size = 64,\n",
        "                    epochs = 30,\n",
        "                    verbose = 1)\n",
        "\n",
        "else:\n",
        "  (x_train, _ ), (x_test, _ ) = mnist.load_data()\n",
        "  x_train = x_train.astype('float32').reshape(60000, 28, 28, 1) / 255.0\n",
        "  x_test = x_test.astype('float32').reshape(10000, 28, 28, 1) / 255.0  \n",
        "\n",
        "  model_cnn = create_CNN_model(encoding_dim = 8)\n",
        "\n",
        "  model_cnn.summary()\n",
        "\n",
        "  model_cnn.compile(optimizer = 'adam', loss = 'binary_crossentropy')\n",
        "  History = model_cnn.fit(x_train,\n",
        "                    x_train,\n",
        "                    batch_size = 64,\n",
        "                    epochs = 30,\n",
        "                    verbose = 1)\n",
        "\n"
      ],
      "execution_count": 44,
      "outputs": [
        {
          "output_type": "stream",
          "text": [
            "Model: \"model_10\"\n",
            "_________________________________________________________________\n",
            "Layer (type)                 Output Shape              Param #   \n",
            "=================================================================\n",
            "Input_Layer (InputLayer)     [(None, 28, 28, 1)]       0         \n",
            "_________________________________________________________________\n",
            "Conv_Enc_1 (Conv2D)          (None, 28, 28, 16)        160       \n",
            "_________________________________________________________________\n",
            "MaxPool_1 (MaxPooling2D)     (None, 14, 14, 16)        0         \n",
            "_________________________________________________________________\n",
            "Conv_Enc_2 (Conv2D)          (None, 14, 14, 8)         1160      \n",
            "_________________________________________________________________\n",
            "MaxPool_2 (MaxPooling2D)     (None, 7, 7, 8)           0         \n",
            "_________________________________________________________________\n",
            "Conv_Enc_3 (Conv2D)          (None, 7, 7, 8)           584       \n",
            "_________________________________________________________________\n",
            "Encoder_Output (MaxPooling2D (None, 4, 4, 8)           0         \n",
            "_________________________________________________________________\n",
            "Conv_Dec_1 (Conv2D)          (None, 4, 4, 8)           584       \n",
            "_________________________________________________________________\n",
            "Upsample_1 (UpSampling2D)    (None, 8, 8, 8)           0         \n",
            "_________________________________________________________________\n",
            "Conv_Dec_2 (Conv2D)          (None, 8, 8, 8)           584       \n",
            "_________________________________________________________________\n",
            "Upsample_2 (UpSampling2D)    (None, 16, 16, 8)         0         \n",
            "_________________________________________________________________\n",
            "Conv_Dec_3 (Conv2D)          (None, 14, 14, 16)        1168      \n",
            "_________________________________________________________________\n",
            "Upsample_3 (UpSampling2D)    (None, 28, 28, 16)        0         \n",
            "_________________________________________________________________\n",
            "Decoded_Output (Conv2D)      (None, 28, 28, 1)         145       \n",
            "=================================================================\n",
            "Total params: 4,385\n",
            "Trainable params: 4,385\n",
            "Non-trainable params: 0\n",
            "_________________________________________________________________\n",
            "Train on 60000 samples\n",
            "Epoch 1/30\n",
            "60000/60000 [==============================] - 5s 88us/sample - loss: 0.1762\n",
            "Epoch 2/30\n",
            "60000/60000 [==============================] - 4s 73us/sample - loss: 0.1224\n",
            "Epoch 3/30\n",
            "60000/60000 [==============================] - 4s 73us/sample - loss: 0.1138\n",
            "Epoch 4/30\n",
            "60000/60000 [==============================] - 4s 72us/sample - loss: 0.1091\n",
            "Epoch 5/30\n",
            "60000/60000 [==============================] - 4s 73us/sample - loss: 0.1058\n",
            "Epoch 6/30\n",
            "60000/60000 [==============================] - 4s 73us/sample - loss: 0.1033\n",
            "Epoch 7/30\n",
            "60000/60000 [==============================] - 4s 72us/sample - loss: 0.1015\n",
            "Epoch 8/30\n",
            "60000/60000 [==============================] - 4s 73us/sample - loss: 0.1001\n",
            "Epoch 9/30\n",
            "60000/60000 [==============================] - 4s 73us/sample - loss: 0.0989\n",
            "Epoch 10/30\n",
            "60000/60000 [==============================] - 4s 73us/sample - loss: 0.0980\n",
            "Epoch 11/30\n",
            "60000/60000 [==============================] - 4s 72us/sample - loss: 0.0972\n",
            "Epoch 12/30\n",
            "60000/60000 [==============================] - 4s 72us/sample - loss: 0.0965\n",
            "Epoch 13/30\n",
            "60000/60000 [==============================] - 4s 72us/sample - loss: 0.0958\n",
            "Epoch 14/30\n",
            "60000/60000 [==============================] - 4s 73us/sample - loss: 0.0953\n",
            "Epoch 15/30\n",
            "60000/60000 [==============================] - 4s 73us/sample - loss: 0.0948\n",
            "Epoch 16/30\n",
            "60000/60000 [==============================] - 4s 73us/sample - loss: 0.0945\n",
            "Epoch 17/30\n",
            "60000/60000 [==============================] - 4s 73us/sample - loss: 0.0940\n",
            "Epoch 18/30\n",
            "60000/60000 [==============================] - 4s 73us/sample - loss: 0.0937\n",
            "Epoch 19/30\n",
            "60000/60000 [==============================] - 4s 73us/sample - loss: 0.0935\n",
            "Epoch 20/30\n",
            "60000/60000 [==============================] - 4s 73us/sample - loss: 0.0932\n",
            "Epoch 21/30\n",
            "60000/60000 [==============================] - 4s 72us/sample - loss: 0.0929\n",
            "Epoch 22/30\n",
            "60000/60000 [==============================] - 4s 72us/sample - loss: 0.0927\n",
            "Epoch 23/30\n",
            "60000/60000 [==============================] - 4s 72us/sample - loss: 0.0925\n",
            "Epoch 24/30\n",
            "60000/60000 [==============================] - 4s 72us/sample - loss: 0.0923\n",
            "Epoch 25/30\n",
            "60000/60000 [==============================] - 4s 72us/sample - loss: 0.0921\n",
            "Epoch 26/30\n",
            "60000/60000 [==============================] - 4s 72us/sample - loss: 0.0920\n",
            "Epoch 27/30\n",
            "60000/60000 [==============================] - 4s 72us/sample - loss: 0.0918\n",
            "Epoch 28/30\n",
            "60000/60000 [==============================] - 4s 72us/sample - loss: 0.0916\n",
            "Epoch 29/30\n",
            "60000/60000 [==============================] - 4s 72us/sample - loss: 0.0915\n",
            "Epoch 30/30\n",
            "60000/60000 [==============================] - 4s 73us/sample - loss: 0.0914\n"
          ],
          "name": "stdout"
        }
      ]
    },
    {
      "cell_type": "markdown",
      "metadata": {
        "id": "QRcsJQqyjiBr",
        "colab_type": "text"
      },
      "source": [
        "###Plotting"
      ]
    },
    {
      "cell_type": "code",
      "metadata": {
        "id": "eWzRu4xBAiKx",
        "colab_type": "code",
        "outputId": "40ecf616-e73f-46f6-e0a4-4c06d88d5810",
        "colab": {
          "base_uri": "https://localhost:8080/",
          "height": 285
        }
      },
      "source": [
        "plt.style.use('ggplot')\n",
        "plt.plot(History.epoch, History.history['loss'])"
      ],
      "execution_count": 45,
      "outputs": [
        {
          "output_type": "execute_result",
          "data": {
            "text/plain": [
              "[<matplotlib.lines.Line2D at 0x7f21b9627eb8>]"
            ]
          },
          "metadata": {
            "tags": []
          },
          "execution_count": 45
        },
        {
          "output_type": "display_data",
          "data": {
            "image/png": "[encoded data removed]",
            "text/plain": [
              "<Figure size 432x288 with 1 Axes>"
            ]
          },
          "metadata": {
            "tags": []
          }
        }
      ]
    },
    {
      "cell_type": "code",
      "metadata": {
        "id": "Hp6UrFQQ-z0R",
        "colab_type": "code",
        "outputId": "18af7a1e-c176-4052-c6a5-37f0b2047abf",
        "colab": {
          "base_uri": "https://localhost:8080/",
          "height": 248
        }
      },
      "source": [
        "# From https://blog.keras.io/building-autoencoders-in-keras.html\n",
        "\n",
        "if Model_type == \"Dense model\":\n",
        "  model = model_dense\n",
        "else:\n",
        "  model= model_cnn\n",
        "\n",
        "decoded_imgs = model.predict(x_test)\n",
        "\n",
        "n = 10\n",
        "plt.figure(figsize=(20, 4))\n",
        "for i in range(1, n+1):\n",
        "    # display original\n",
        "    ax = plt.subplot(2, n, i)\n",
        "    plt.imshow(x_test[i].reshape(28, 28))\n",
        "    plt.gray()\n",
        "    ax.get_xaxis().set_visible(False)\n",
        "    ax.get_yaxis().set_visible(False)\n",
        "\n",
        "    # display reconstruction\n",
        "    ax = plt.subplot(2, n, i + n)\n",
        "    plt.imshow(decoded_imgs[i].reshape(28, 28))\n",
        "    plt.gray()\n",
        "    ax.get_xaxis().set_visible(False)\n",
        "    ax.get_yaxis().set_visible(False)\n",
        "plt.show()"
      ],
      "execution_count": 46,
      "outputs": [
        {
          "output_type": "display_data",
          "data": {
            "image/png": "[encoded data removed]",
            "text/plain": [
              "<Figure size 1440x288 with 20 Axes>"
            ]
          },
          "metadata": {
            "tags": []
          }
        }
      ]
    },
    {
      "cell_type": "markdown",
      "metadata": {
        "id": "YRDbYM8CkDzC",
        "colab_type": "text"
      },
      "source": [
        "##FMNIST"
      ]
    },
    {
      "cell_type": "markdown",
      "metadata": {
        "id": "DIIMoneGlmD1",
        "colab_type": "text"
      },
      "source": [
        "###Training"
      ]
    },
    {
      "cell_type": "code",
      "metadata": {
        "id": "EXdgEtDSjtlw",
        "colab_type": "code",
        "colab": {}
      },
      "source": [
        "#Define Models\n",
        "def create_Dense_model( encoding_dim = 64):\n",
        "  Inp = Input(shape = (784,), name = \"Input_Layer\")\n",
        "  x = Dense(encoding_dim, activation = 'relu', name = 'Encoding_Layer')(Inp)\n",
        "  Out = Dense(784, activation = 'sigmoid', name = 'Decoding_Layer')(x)\n",
        "\n",
        "  return Model(Inp, Out)\n",
        "\n",
        "\n",
        "\n",
        "\n",
        "def create_CNN_model(encoding_dim = 8):\n",
        "  Inp = Input(shape = (28,28, 1), name = \"Input_Layer\")\n",
        "\n",
        "  x = Conv2D(64, (3,3), padding = 'same', activation = \"relu\", name = \"Conv_Enc_1\")(Inp)\n",
        "  x = MaxPool2D((2,2), name = \"MaxPool_1\")(x)\n",
        "  x = Conv2D(32, (3,3), padding = 'same', activation = \"relu\", name = \"Conv_Enc_2\")(x)\n",
        "  x = MaxPool2D((2,2), name = \"MaxPool_2\")(x) \n",
        "  x = Conv2D(encoding_dim, (3,3), padding = \"same\", activation = \"relu\", name = \"Conv_Enc_3\")(x)\n",
        "  x = MaxPool2D((2,2), padding = \"same\",  name = \"Encoder_Output\")(x) \n",
        "\n",
        "  x = Conv2D(encoding_dim, (3,3), padding = \"same\", activation = \"relu\", name = \"Conv_Dec_1\")(x)\n",
        "  x = UpSampling2D((2,2), name = \"Upsample_1\")(x)\n",
        "  x = Conv2D(32, (3,3), padding = \"same\", activation = \"relu\",  name = \"Conv_Dec_2\")(x)\n",
        "  x = UpSampling2D((2,2), name = \"Upsample_2\")(x)\n",
        "  x = Conv2D(64, (3,3), activation = \"relu\",  name = \"Conv_Dec_3\")(x)\n",
        "  x = UpSampling2D((2,2), name = \"Upsample_3\")(x)\n",
        "\n",
        "  Out = Conv2D(1, (3,3), padding = \"same\", activation = \"sigmoid\",  name = \"Decoded_Output\")(x)\n",
        "\n",
        "  return Model(Inp, Out)"
      ],
      "execution_count": 0,
      "outputs": []
    },
    {
      "cell_type": "code",
      "metadata": {
        "id": "BiA8J9ObkKyB",
        "colab_type": "code",
        "colab": {
          "base_uri": "https://localhost:8080/",
          "height": 1000
        },
        "outputId": "a6fc35a0-13ce-4231-e271-7655848d494c"
      },
      "source": [
        "#@title Choose a model to train { run: \"auto\", vertical-output: true }\n",
        "\n",
        "Model_type = \"CNN\" #@param [\"Dense model\", \"CNN\"]\n",
        "\n",
        "if Model_type == \"Dense model\":\n",
        "  (x_train, _), (x_test, _) = fashion_mnist.load_data()\n",
        "  x_train = x_train.astype('float32').reshape(60000, 784) / 255.0\n",
        "  x_test = x_test.astype('float32').reshape(10000, 784) / 255.0\n",
        "\n",
        "  model_dense = create_Dense_model(encoding_dim = 64)\n",
        "\n",
        "  model_dense.summary()\n",
        "\n",
        "  model_dense.compile(optimizer = 'adam', loss = 'binary_crossentropy')\n",
        "  History = model_dense.fit(x_train,\n",
        "                    x_train,\n",
        "                    batch_size = 32,\n",
        "                    epochs = 50,\n",
        "                    verbose = 1)\n",
        "\n",
        "else:\n",
        "  (x_train, _ ), (x_test, _ ) = fashion_mnist.load_data()\n",
        "  x_train = x_train.astype('float32').reshape(60000, 28, 28, 1) / 255.0\n",
        "  x_test = x_test.astype('float32').reshape(10000, 28, 28, 1) / 255.0  \n",
        "\n",
        "  model_cnn = create_CNN_model(encoding_dim = 16)\n",
        "\n",
        "  model_cnn.summary()\n",
        "\n",
        "  model_cnn.compile(optimizer = 'adam', loss = 'binary_crossentropy')\n",
        "  History = model_cnn.fit(x_train,\n",
        "                    x_train,\n",
        "                    batch_size = 32,\n",
        "                    epochs = 50,\n",
        "                    verbose = 1)\n",
        "\n"
      ],
      "execution_count": 69,
      "outputs": [
        {
          "output_type": "stream",
          "text": [
            "Model: \"model_19\"\n",
            "_________________________________________________________________\n",
            "Layer (type)                 Output Shape              Param #   \n",
            "=================================================================\n",
            "Input_Layer (InputLayer)     [(None, 28, 28, 1)]       0         \n",
            "_________________________________________________________________\n",
            "Conv_Enc_1 (Conv2D)          (None, 28, 28, 64)        640       \n",
            "_________________________________________________________________\n",
            "MaxPool_1 (MaxPooling2D)     (None, 14, 14, 64)        0         \n",
            "_________________________________________________________________\n",
            "Conv_Enc_2 (Conv2D)          (None, 14, 14, 32)        18464     \n",
            "_________________________________________________________________\n",
            "MaxPool_2 (MaxPooling2D)     (None, 7, 7, 32)          0         \n",
            "_________________________________________________________________\n",
            "Conv_Enc_3 (Conv2D)          (None, 7, 7, 16)          4624      \n",
            "_________________________________________________________________\n",
            "Encoder_Output (MaxPooling2D (None, 4, 4, 16)          0         \n",
            "_________________________________________________________________\n",
            "Conv_Dec_1 (Conv2D)          (None, 4, 4, 16)          2320      \n",
            "_________________________________________________________________\n",
            "Upsample_1 (UpSampling2D)    (None, 8, 8, 16)          0         \n",
            "_________________________________________________________________\n",
            "Conv_Dec_2 (Conv2D)          (None, 8, 8, 32)          4640      \n",
            "_________________________________________________________________\n",
            "Upsample_2 (UpSampling2D)    (None, 16, 16, 32)        0         \n",
            "_________________________________________________________________\n",
            "Conv_Dec_3 (Conv2D)          (None, 14, 14, 64)        18496     \n",
            "_________________________________________________________________\n",
            "Upsample_3 (UpSampling2D)    (None, 28, 28, 64)        0         \n",
            "_________________________________________________________________\n",
            "Decoded_Output (Conv2D)      (None, 28, 28, 1)         577       \n",
            "=================================================================\n",
            "Total params: 49,761\n",
            "Trainable params: 49,761\n",
            "Non-trainable params: 0\n",
            "_________________________________________________________________\n",
            "Train on 60000 samples\n",
            "Epoch 1/50\n",
            "60000/60000 [==============================] - 10s 164us/sample - loss: 0.2963\n",
            "Epoch 2/50\n",
            "60000/60000 [==============================] - 9s 157us/sample - loss: 0.2762\n",
            "Epoch 3/50\n",
            "60000/60000 [==============================] - 9s 158us/sample - loss: 0.2717\n",
            "Epoch 4/50\n",
            "60000/60000 [==============================] - 9s 158us/sample - loss: 0.2693\n",
            "Epoch 5/50\n",
            "60000/60000 [==============================] - 9s 157us/sample - loss: 0.2678\n",
            "Epoch 6/50\n",
            "60000/60000 [==============================] - 10s 159us/sample - loss: 0.2666\n",
            "Epoch 7/50\n",
            "60000/60000 [==============================] - 9s 156us/sample - loss: 0.2657\n",
            "Epoch 8/50\n",
            "60000/60000 [==============================] - 9s 157us/sample - loss: 0.2650\n",
            "Epoch 9/50\n",
            "60000/60000 [==============================] - 9s 158us/sample - loss: 0.2644\n",
            "Epoch 10/50\n",
            "60000/60000 [==============================] - 9s 157us/sample - loss: 0.2639\n",
            "Epoch 11/50\n",
            "60000/60000 [==============================] - 9s 158us/sample - loss: 0.2635\n",
            "Epoch 12/50\n",
            "60000/60000 [==============================] - 9s 158us/sample - loss: 0.2631\n",
            "Epoch 13/50\n",
            "60000/60000 [==============================] - 9s 158us/sample - loss: 0.2627\n",
            "Epoch 14/50\n",
            "60000/60000 [==============================] - 9s 157us/sample - loss: 0.2625\n",
            "Epoch 15/50\n",
            "60000/60000 [==============================] - 9s 157us/sample - loss: 0.2622\n",
            "Epoch 16/50\n",
            "60000/60000 [==============================] - 9s 157us/sample - loss: 0.2619\n",
            "Epoch 17/50\n",
            "60000/60000 [==============================] - 9s 156us/sample - loss: 0.2617\n",
            "Epoch 18/50\n",
            "60000/60000 [==============================] - 9s 157us/sample - loss: 0.2615\n",
            "Epoch 19/50\n",
            "60000/60000 [==============================] - 9s 157us/sample - loss: 0.2613\n",
            "Epoch 20/50\n",
            "60000/60000 [==============================] - 9s 157us/sample - loss: 0.2611\n",
            "Epoch 21/50\n",
            "60000/60000 [==============================] - 10s 160us/sample - loss: 0.2609\n",
            "Epoch 22/50\n",
            "60000/60000 [==============================] - 10s 161us/sample - loss: 0.2607\n",
            "Epoch 23/50\n",
            "60000/60000 [==============================] - 9s 157us/sample - loss: 0.2606\n",
            "Epoch 24/50\n",
            "60000/60000 [==============================] - 9s 157us/sample - loss: 0.2604\n",
            "Epoch 25/50\n",
            "60000/60000 [==============================] - 9s 157us/sample - loss: 0.2603\n",
            "Epoch 26/50\n",
            "60000/60000 [==============================] - 9s 157us/sample - loss: 0.2602\n",
            "Epoch 27/50\n",
            "60000/60000 [==============================] - 9s 157us/sample - loss: 0.2600\n",
            "Epoch 28/50\n",
            "60000/60000 [==============================] - 9s 158us/sample - loss: 0.2599\n",
            "Epoch 29/50\n",
            "60000/60000 [==============================] - 9s 157us/sample - loss: 0.2598\n",
            "Epoch 30/50\n",
            "60000/60000 [==============================] - 9s 158us/sample - loss: 0.2597\n",
            "Epoch 31/50\n",
            "60000/60000 [==============================] - 9s 157us/sample - loss: 0.2596\n",
            "Epoch 32/50\n",
            "60000/60000 [==============================] - 9s 157us/sample - loss: 0.2595\n",
            "Epoch 33/50\n",
            "60000/60000 [==============================] - 9s 157us/sample - loss: 0.2594\n",
            "Epoch 34/50\n",
            "60000/60000 [==============================] - 9s 157us/sample - loss: 0.2594\n",
            "Epoch 35/50\n",
            "60000/60000 [==============================] - 9s 157us/sample - loss: 0.2593\n",
            "Epoch 36/50\n",
            "60000/60000 [==============================] - 9s 157us/sample - loss: 0.2592\n",
            "Epoch 37/50\n",
            "60000/60000 [==============================] - 9s 157us/sample - loss: 0.2592\n",
            "Epoch 38/50\n",
            "60000/60000 [==============================] - 10s 160us/sample - loss: 0.2591\n",
            "Epoch 39/50\n",
            "60000/60000 [==============================] - 9s 157us/sample - loss: 0.2590\n",
            "Epoch 40/50\n",
            "60000/60000 [==============================] - 9s 157us/sample - loss: 0.2589\n",
            "Epoch 41/50\n",
            "60000/60000 [==============================] - 9s 157us/sample - loss: 0.2589\n",
            "Epoch 42/50\n",
            "60000/60000 [==============================] - 9s 157us/sample - loss: 0.2588\n",
            "Epoch 43/50\n",
            "60000/60000 [==============================] - 9s 157us/sample - loss: 0.2588\n",
            "Epoch 44/50\n",
            "60000/60000 [==============================] - 9s 157us/sample - loss: 0.2587\n",
            "Epoch 45/50\n",
            "60000/60000 [==============================] - 9s 156us/sample - loss: 0.2586\n",
            "Epoch 46/50\n",
            "60000/60000 [==============================] - 9s 157us/sample - loss: 0.2586\n",
            "Epoch 47/50\n",
            "60000/60000 [==============================] - 9s 158us/sample - loss: 0.2585\n",
            "Epoch 48/50\n",
            "60000/60000 [==============================] - 9s 157us/sample - loss: 0.2585\n",
            "Epoch 49/50\n",
            "60000/60000 [==============================] - 9s 157us/sample - loss: 0.2585\n",
            "Epoch 50/50\n",
            "60000/60000 [==============================] - 9s 157us/sample - loss: 0.2584\n"
          ],
          "name": "stdout"
        }
      ]
    },
    {
      "cell_type": "code",
      "metadata": {
        "id": "9hpoFbQfkcy7",
        "colab_type": "code",
        "colab": {
          "base_uri": "https://localhost:8080/",
          "height": 282
        },
        "outputId": "32d3a47a-4b1c-4480-f064-b63ca16201cc"
      },
      "source": [
        "plt.style.use('ggplot')\n",
        "plt.plot(History.epoch, History.history['loss'])"
      ],
      "execution_count": 70,
      "outputs": [
        {
          "output_type": "execute_result",
          "data": {
            "text/plain": [
              "[<matplotlib.lines.Line2D at 0x7f21b565e668>]"
            ]
          },
          "metadata": {
            "tags": []
          },
          "execution_count": 70
        },
        {
          "output_type": "display_data",
          "data": {
            "image/png": "[encoded data removed]",
            "text/plain": [
              "<Figure size 432x288 with 1 Axes>"
            ]
          },
          "metadata": {
            "tags": []
          }
        }
      ]
    },
    {
      "cell_type": "code",
      "metadata": {
        "id": "tnsRs0Y2kf9U",
        "colab_type": "code",
        "colab": {
          "base_uri": "https://localhost:8080/",
          "height": 248
        },
        "outputId": "39d44ba7-9cbc-4de0-ab1c-40fa8bc26963"
      },
      "source": [
        "# From https://blog.keras.io/building-autoencoders-in-keras.html\n",
        "\n",
        "if Model_type == \"Dense model\":\n",
        "  model = model_dense\n",
        "else:\n",
        "  model= model_cnn\n",
        "\n",
        "decoded_imgs = model.predict(x_test)\n",
        "\n",
        "n = 10\n",
        "plt.figure(figsize=(20, 4))\n",
        "for i in range(1, n+1):\n",
        "    # display original\n",
        "    ax = plt.subplot(2, n, i)\n",
        "    plt.imshow(x_test[i].reshape(28, 28))\n",
        "    plt.gray()\n",
        "    ax.get_xaxis().set_visible(False)\n",
        "    ax.get_yaxis().set_visible(False)\n",
        "\n",
        "    # display reconstruction\n",
        "    ax = plt.subplot(2, n, i + n)\n",
        "    plt.imshow(decoded_imgs[i].reshape(28, 28))\n",
        "    plt.gray()\n",
        "    ax.get_xaxis().set_visible(False)\n",
        "    ax.get_yaxis().set_visible(False)\n",
        "plt.show()"
      ],
      "execution_count": 71,
      "outputs": [
        {
          "output_type": "display_data",
          "data": {
            "image/png": "[encoded data removed]",
            "text/plain": [
              "<Figure size 1440x288 with 20 Axes>"
            ]
          },
          "metadata": {
            "tags": []
          }
        }
      ]
    }
  ]
}