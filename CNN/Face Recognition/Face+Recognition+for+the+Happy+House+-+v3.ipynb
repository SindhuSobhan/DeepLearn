{
  "nbformat": 4,
  "nbformat_minor": 0,
  "metadata": {
    "coursera": {
      "course_slug": "convolutional-neural-networks",
      "graded_item_id": "IaknP",
      "launcher_item_id": "5UMr4"
    },
    "kernelspec": {
      "name": "python3",
      "display_name": "Python 3"
    },
    "language_info": {
      "codemirror_mode": {
        "name": "ipython",
        "version": 3
      },
      "file_extension": ".py",
      "mimetype": "text/x-python",
      "name": "python",
      "nbconvert_exporter": "python",
      "pygments_lexer": "ipython3",
      "version": "3.6.0"
    },
    "colab": {
      "name": "Face+Recognition+for+the+Happy+House+-+v3.ipynb",
      "version": "0.3.2",
      "provenance": [],
      "toc_visible": true
    },
    "accelerator": "GPU"
  },
  "cells": [
    {
      "cell_type": "markdown",
      "metadata": {
        "id": "0f62tOSWZK55",
        "colab_type": "text"
      },
      "source": [
        "# Face Recognition for the Happy House\n",
        "\n",
        "Many of the ideas presented here are from [FaceNet](https://arxiv.org/pdf/1503.03832.pdf). \n",
        "\n",
        "Face recognition problems commonly fall into two categories: \n",
        "\n",
        "- **Face Verification** - \"is this the claimed person?\". For example, at some airports, you can pass through customs by letting a system scan your passport and then verifying that you (the person carrying the passport) are the correct person. A mobile phone that unlocks using your face is also using face verification. This is a 1:1 matching problem. \n",
        "- **Face Recognition** - \"who is this person?\". This is a 1:K matching problem. \n",
        "\n",
        "FaceNet learns a neural network that encodes a face image into a vector of 128 numbers. By comparing two such vectors, you can then determine if two pictures are of the same person.\n",
        "    \n"
      ]
    },
    {
      "cell_type": "markdown",
      "metadata": {
        "id": "Sf1uc6jVGZdT",
        "colab_type": "text"
      },
      "source": [
        "#1 - Load, Save and Change Directory"
      ]
    },
    {
      "cell_type": "code",
      "metadata": {
        "id": "6VKXaPfcZK57",
        "colab_type": "code",
        "outputId": "ffa7cc6c-4a37-431c-bed5-df772cda739a",
        "colab": {
          "base_uri": "https://localhost:8080/",
          "height": 51
        }
      },
      "source": [
        "# Load Libraries\n",
        "from keras import backend as K\n",
        "K.set_image_data_format('channels_first')\n",
        "import cv2\n",
        "import os\n",
        "import numpy as np\n",
        "from numpy import genfromtxt\n",
        "import pandas as pd\n",
        "import tensorflow as tf\n",
        "import dlib\n",
        "from PIL import Image\n",
        "from skimage import io\n",
        "\n",
        "%matplotlib inline\n",
        "%load_ext autoreload\n",
        "%autoreload 2"
      ],
      "execution_count": 55,
      "outputs": [
        {
          "output_type": "stream",
          "text": [
            "The autoreload extension is already loaded. To reload it, use:\n",
            "  %reload_ext autoreload\n"
          ],
          "name": "stdout"
        }
      ]
    },
    {
      "cell_type": "code",
      "metadata": {
        "id": "mGRJKoBUb1Mk",
        "colab_type": "code",
        "outputId": "a8f28816-76c2-49fe-f980-faef7e631b77",
        "colab": {
          "base_uri": "https://localhost:8080/",
          "height": 54
        }
      },
      "source": [
        "# Mount Drive\n",
        "from os.path import join\n",
        "from google.colab import drive\n",
        "\n",
        "ROOT = \"/content/drive\"\n",
        "drive.mount(ROOT)"
      ],
      "execution_count": 2,
      "outputs": [
        {
          "output_type": "stream",
          "text": [
            "Drive already mounted at /content/drive; to attempt to forcibly remount, call drive.mount(\"/content/drive\", force_remount=True).\n"
          ],
          "name": "stdout"
        }
      ]
    },
    {
      "cell_type": "code",
      "metadata": {
        "id": "8nMFsBqXgBig",
        "colab_type": "code",
        "outputId": "d9808987-4f1d-4ab0-b0c0-f4f09a07edbf",
        "colab": {
          "base_uri": "https://localhost:8080/",
          "height": 34
        }
      },
      "source": [
        "# Change working directory\n",
        "cd '/content/drive/My Drive/Colab/Workspace/DeepLearn/CNN_Data/Face Recognition OpenFace'"
      ],
      "execution_count": 3,
      "outputs": [
        {
          "output_type": "stream",
          "text": [
            "/content/drive/My Drive/Colab/Workspace/DeepLearn/CNN_Data/Face Recognition OpenFace\n"
          ],
          "name": "stdout"
        }
      ]
    },
    {
      "cell_type": "code",
      "metadata": {
        "id": "kR6Kspyw-iyM",
        "colab_type": "code",
        "colab": {}
      },
      "source": [
        "# Create folder to save Git contents\n",
        "# Check if such a folder exists from previous runtime. If yes, delete it.\n",
        "path = '/content/drive/My Drive/Colab/Workspace/DeepLearn/CNN_Data/Face Recognition OpenFace'\n",
        "\n",
        "files = os.listdir(path)\n",
        "\n",
        "if 'Github' in files:\n",
        "  !rm -r Github\n",
        "  "
      ],
      "execution_count": 0,
      "outputs": []
    },
    {
      "cell_type": "code",
      "metadata": {
        "id": "orWHeNgYfdi7",
        "colab_type": "code",
        "outputId": "fe56877f-b1a9-4b94-f997-0a41e81eb222",
        "colab": {
          "base_uri": "https://localhost:8080/",
          "height": 136
        }
      },
      "source": [
        "# Make a new Github directory\n",
        "!mkdir Github\n",
        "\n",
        "# Define path for the Github folder\n",
        "path = join('/content/drive', 'My Drive/Colab/Workspace/DeepLearn/CNN_Data/Face Recognition OpenFace/Github')\n",
        "\n",
        "# Clone Git contents to the folder created \n",
        "!git clone https://github.com/SindhuSobhan/DeepLearn.git \"{path}\"\n",
        "  "
      ],
      "execution_count": 7,
      "outputs": [
        {
          "output_type": "stream",
          "text": [
            "Cloning into '/content/drive/My Drive/Colab/Workspace/DeepLearn/CNN_Data/Face Recognition OpenFace/Github'...\n",
            "remote: Enumerating objects: 156, done.\u001b[K\n",
            "remote: Counting objects:   0% (1/156)\u001b[K\rremote: Counting objects:   1% (2/156)\u001b[K\rremote: Counting objects:   2% (4/156)\u001b[K\rremote: Counting objects:   3% (5/156)\u001b[K\rremote: Counting objects:   4% (7/156)\u001b[K\rremote: Counting objects:   5% (8/156)\u001b[K\rremote: Counting objects:   6% (10/156)\u001b[K\rremote: Counting objects:   7% (11/156)\u001b[K\rremote: Counting objects:   8% (13/156)\u001b[K\rremote: Counting objects:   9% (15/156)\u001b[K\rremote: Counting objects:  10% (16/156)\u001b[K\rremote: Counting objects:  11% (18/156)\u001b[K\rremote: Counting objects:  12% (19/156)\u001b[K\rremote: Counting objects:  13% (21/156)\u001b[K\rremote: Counting objects:  14% (22/156)\u001b[K\rremote: Counting objects:  15% (24/156)\u001b[K\rremote: Counting objects:  16% (25/156)\u001b[K\rremote: Counting objects:  17% (27/156)\u001b[K\rremote: Counting objects:  18% (29/156)\u001b[K\rremote: Counting objects:  19% (30/156)\u001b[K\rremote: Counting objects:  20% (32/156)\u001b[K\rremote: Counting objects:  21% (33/156)\u001b[K\rremote: Counting objects:  22% (35/156)\u001b[K\rremote: Counting objects:  23% (36/156)\u001b[K\rremote: Counting objects:  24% (38/156)\u001b[K\rremote: Counting objects:  25% (39/156)\u001b[K\rremote: Counting objects:  26% (41/156)\u001b[K\rremote: Counting objects:  27% (43/156)\u001b[K\rremote: Counting objects:  28% (44/156)\u001b[K\rremote: Counting objects:  29% (46/156)\u001b[K\rremote: Counting objects:  30% (47/156)\u001b[K\rremote: Counting objects:  31% (49/156)\u001b[K\rremote: Counting objects:  32% (50/156)\u001b[K\rremote: Counting objects:  33% (52/156)\u001b[K\rremote: Counting objects:  34% (54/156)\u001b[K\rremote: Counting objects:  35% (55/156)\u001b[K\rremote: Counting objects:  36% (57/156)\u001b[K\rremote: Counting objects:  37% (58/156)\u001b[K\rremote: Counting objects:  38% (60/156)\u001b[K\rremote: Counting objects:  39% (61/156)\u001b[K\rremote: Counting objects:  40% (63/156)\u001b[K\rremote: Counting objects:  41% (64/156)\u001b[K\rremote: Counting objects:  42% (66/156)\u001b[K\rremote: Counting objects:  43% (68/156)\u001b[K\rremote: Counting objects:  44% (69/156)\u001b[K\rremote: Counting objects:  45% (71/156)\u001b[K\rremote: Counting objects:  46% (72/156)\u001b[K\rremote: Counting objects:  47% (74/156)\u001b[K\rremote: Counting objects:  48% (75/156)\u001b[K\rremote: Counting objects:  49% (77/156)\u001b[K\rremote: Counting objects:  50% (78/156)\u001b[K\rremote: Counting objects:  51% (80/156)\u001b[K\rremote: Counting objects:  52% (82/156)\u001b[K\rremote: Counting objects:  53% (83/156)\u001b[K\rremote: Counting objects:  54% (85/156)\u001b[K\rremote: Counting objects:  55% (86/156)\u001b[K\rremote: Counting objects:  56% (88/156)\u001b[K\rremote: Counting objects:  57% (89/156)\u001b[K\rremote: Counting objects:  58% (91/156)\u001b[K\rremote: Counting objects:  59% (93/156)\u001b[K\rremote: Counting objects:  60% (94/156)\u001b[K\rremote: Counting objects:  61% (96/156)\u001b[K\rremote: Counting objects:  62% (97/156)\u001b[K\rremote: Counting objects:  63% (99/156)\u001b[K\rremote: Counting objects:  64% (100/156)\rremote: Counting objects:  65% (102/156)\u001b[K\rremote: Counting objects:  66% (103/156)\u001b[K\rremote: Counting objects:  67% (105/156)\u001b[K\rremote: Counting objects:  68% (107/156)\u001b[K\rremote: Counting objects:  69% (108/156)\u001b[K\rremote: Counting objects:  70% (110/156)\u001b[K\rremote: Counting objects:  71% (111/156)\u001b[K\rremote: Counting objects:  72% (113/156)\u001b[K\rremote: Counting objects:  73% (114/156)\u001b[K\rremote: Counting objects:  74% (116/156)\u001b[K\rremote: Counting objects:  75% (117/156)\u001b[K\rremote: Counting objects:  76% (119/156)\u001b[K\rremote: Counting objects:  77% (121/156)\u001b[K\rremote: Counting objects:  78% (122/156)\u001b[K\rremote: Counting objects:  79% (124/156)\u001b[K\rremote: Counting objects:  80% (125/156)\u001b[K\rremote: Counting objects:  81% (127/156)\u001b[K\rremote: Counting objects:  82% (128/156)\u001b[K\rremote: Counting objects:  83% (130/156)\u001b[K\rremote: Counting objects:  84% (132/156)\u001b[K\rremote: Counting objects:  85% (133/156)\u001b[K\rremote: Counting objects:  86% (135/156)\u001b[K\rremote: Counting objects:  87% (136/156)\u001b[K\rremote: Counting objects:  88% (138/156)\u001b[K\rremote: Counting objects:  89% (139/156)\u001b[K\rremote: Counting objects:  90% (141/156)\u001b[K\rremote: Counting objects:  91% (142/156)\u001b[K\rremote: Counting objects:  92% (144/156)\u001b[K\rremote: Counting objects:  93% (146/156)\u001b[K\rremote: Counting objects:  94% (147/156)\u001b[K\rremote: Counting objects:  95% (149/156)\u001b[K\rremote: Counting objects:  96% (150/156)\u001b[K\rremote: Counting objects:  97% (152/156)\u001b[K\rremote: Counting objects:  98% (153/156)\u001b[K\rremote: Counting objects:  99% (155/156)\u001b[K\rremote: Counting objects: 100% (156/156)\u001b[K\rremote: Counting objects: 100% (156/156), done.\u001b[K\n",
            "remote: Compressing objects: 100% (135/135), done.\u001b[K\n",
            "remote: Total 156 (delta 32), reused 95 (delta 17), pack-reused 0\n",
            "Receiving objects: 100% (156/156), 22.29 MiB | 9.41 MiB/s, done.\n",
            "Resolving deltas: 100% (32/32), done.\n"
          ],
          "name": "stdout"
        }
      ]
    },
    {
      "cell_type": "code",
      "metadata": {
        "id": "aLwtES20gmTZ",
        "colab_type": "code",
        "outputId": "732f5f02-dcee-4fe6-c054-9dc818917589",
        "colab": {
          "base_uri": "https://localhost:8080/",
          "height": 34
        }
      },
      "source": [
        "# Change working directory\n",
        "cd '/content/drive/My Drive/Colab/Workspace/DeepLearn/CNN_Data/Face Recognition OpenFace/Github'"
      ],
      "execution_count": 8,
      "outputs": [
        {
          "output_type": "stream",
          "text": [
            "/content/drive/My Drive/Colab/Workspace/DeepLearn/CNN_Data/Face Recognition OpenFace/Github\n"
          ],
          "name": "stdout"
        }
      ]
    },
    {
      "cell_type": "code",
      "metadata": {
        "id": "drTzeke-fgQI",
        "colab_type": "code",
        "outputId": "4d554a9c-c395-4949-ec92-5592bad2380b",
        "colab": {
          "base_uri": "https://localhost:8080/",
          "height": 51
        }
      },
      "source": [
        "# Switch branch if needed\n",
        "!git checkout CNN"
      ],
      "execution_count": 9,
      "outputs": [
        {
          "output_type": "stream",
          "text": [
            "Branch 'CNN' set up to track remote branch 'CNN' from 'origin'.\n",
            "Switched to a new branch 'CNN'\n"
          ],
          "name": "stdout"
        }
      ]
    },
    {
      "cell_type": "code",
      "metadata": {
        "id": "Q4_nRsVagwYL",
        "colab_type": "code",
        "outputId": "fda9234e-5cc6-4248-c60b-c130caebb448",
        "colab": {
          "base_uri": "https://localhost:8080/",
          "height": 34
        }
      },
      "source": [
        "# Switch current working folder to Github folder containing files\n",
        "cd '/content/drive/My Drive/Colab/Workspace/DeepLearn/CNN_Data/Face Recognition OpenFace/Github/CNN/Face Recognition'"
      ],
      "execution_count": 10,
      "outputs": [
        {
          "output_type": "stream",
          "text": [
            "/content/drive/My Drive/Colab/Workspace/DeepLearn/CNN_Data/Face Recognition OpenFace/Github/CNN/Face Recognition\n"
          ],
          "name": "stdout"
        }
      ]
    },
    {
      "cell_type": "code",
      "metadata": {
        "id": "yMZkO9wibh52",
        "colab_type": "code",
        "colab": {}
      },
      "source": [
        "# import custom libraries\n",
        "from fr_utils import *\n",
        "from inception_blocks_v2 import *\n"
      ],
      "execution_count": 0,
      "outputs": []
    },
    {
      "cell_type": "markdown",
      "metadata": {
        "id": "Kv5nz4e9Ggod",
        "colab_type": "text"
      },
      "source": [
        "#2 - Face Detection"
      ]
    },
    {
      "cell_type": "markdown",
      "metadata": {
        "id": "g1_S4V-JVCT9",
        "colab_type": "text"
      },
      "source": [
        "Code for Face Detection. The code is inspired from the answer by Katrina Malakhova on [this](https://stackoverflow.com/questions/13211745/detect-face-then-autocrop-pictures) StackOverflow page.\n",
        "\n",
        "The code works by using the inbuilt face detection function in the dlib library. Of the two face detection functions, frontal_face_detector and CNN_face_detector, the latter was found to provide better results. \n",
        "\n",
        "The function provides the coordinates of the bounding box which can be used to crop the image such that only the face is used to produce the encoding later. The cropped image is also resized to 96 by 96 so that it can be fed into the FaceNet model. The resized and cropped images can either be saved in a new folder specified by save_direc, or the image array can be obtained by keeping the save argument as false in the function."
      ]
    },
    {
      "cell_type": "code",
      "metadata": {
        "id": "ds8imy93Gpcg",
        "colab_type": "code",
        "colab": {}
      },
      "source": [
        "def detect_faces(image):\n",
        "  # Create a face detector (We choose CNN model)\n",
        "  face_detector = dlib.cnn_face_detection_model_v1('mmod_human_face_detector.dat')\n",
        "\n",
        "  # Run detector and get bounding boxes of the faces on image.\n",
        "  detected_faces = face_detector(image, 1)\n",
        "  face_frames = [(x.rect.left(), x.rect.top(),\n",
        "                    x.rect.right(), x.rect.bottom()) for x in detected_faces]\n",
        "\n",
        "  return face_frames\n",
        "  \n",
        "  \n",
        "  \n",
        "def crop_with_face_frame(image):\n",
        "  # Detect faces\n",
        "  detected_faces = detect_faces(image)\n",
        "  face = None\n",
        "  \n",
        "  # Crop faces and plot\n",
        "  for n, face_rect in enumerate(detected_faces):\n",
        "    face = np.array(Image.fromarray(image).crop(face_rect))\n",
        "  return face\n",
        "\n",
        "\n",
        "\n",
        "def process_and_save_image(image_path, save_direc, save = False):\n",
        "  # Load image\n",
        "  image = io.imread(image_path)\n",
        "  \n",
        "  # Get filename\n",
        "  im_name = os.path.split(image_path)[-1]\n",
        "  \n",
        "  # Crop face out of image\n",
        "  image = crop_with_face_frame(image)\n",
        "  \n",
        "  # Resize image for the CNN\n",
        "  image = cv2.resize(image, (96, 96), interpolation = cv2.INTER_AREA)\n",
        "  \n",
        "  # Convert the image to an Image type object\n",
        "  im = Image.fromarray(image)\n",
        "  \n",
        "  # Save the image as a jpg file or return the image as an array\n",
        "  if save:\n",
        "    im.save(os.path.join(save_direc, im_name))\n",
        "  else:\n",
        "    return image\n",
        "  "
      ],
      "execution_count": 0,
      "outputs": []
    },
    {
      "cell_type": "code",
      "metadata": {
        "id": "gRMm_9VtHBha",
        "colab_type": "code",
        "colab": {}
      },
      "source": [
        "# Specify path to sirectory where the folder for processed images is to be created\n",
        "path = '/content/drive/My Drive/Colab/Workspace/DeepLearn/CNN_Data/Face Recognition OpenFace/Github/CNN/Face Recognition'\n",
        "\n",
        "# Get all existing files/folder names from that directory\n",
        "files = os.listdir(path)\n",
        "\n",
        "# If such folder exists from previous runtime, remove it. Otherwise, create a new folder. \n",
        "if 'processed_images' in files:\n",
        "  !rm -r processed_images\n",
        "else:\n",
        "  !mkdir processed_images"
      ],
      "execution_count": 0,
      "outputs": []
    },
    {
      "cell_type": "markdown",
      "metadata": {
        "id": "-O8ieL5fXpbU",
        "colab_type": "text"
      },
      "source": [
        "Let us save the images after cropping and resizing them in a folder callled preprocessed images. **This folder is in the same directory as this file and other custom library files**. We will be converting any .png files to .jpg so that they can be fed into the model withot any channel size issues."
      ]
    },
    {
      "cell_type": "code",
      "metadata": {
        "id": "zmfdvTeYG9kk",
        "colab_type": "code",
        "colab": {}
      },
      "source": [
        "# The base path for all file handling\n",
        "base_path = '/content/drive/My Drive/Colab/Workspace/DeepLearn/CNN_Data/Face Recognition OpenFace/Github/CNN/Face Recognition'\n",
        "# Original image path\n",
        "path = os.path.join(base_path, 'images')\n",
        "# Processed image directory\n",
        "save_direc = os.path.join(base_path, 'processed_images')\n",
        "\n",
        "# Save files as .jpg in save_direc. The name of the file remains the same.\n",
        "for file in files:\n",
        "  direc = os.path.join(path, file)\n",
        "  if '.png' in file:\n",
        "    new_path = direc[:-3] + \"jpg\"\n",
        "    Image.open(direc).convert('RGB').save(new_path , \"JPEG\")\n",
        "    process_and_save_image(new_path, save_direc, save = True)\n",
        "  else:\n",
        "    process_and_save_image(direc, save_direc, save = True)"
      ],
      "execution_count": 0,
      "outputs": []
    },
    {
      "cell_type": "markdown",
      "metadata": {
        "id": "1ycm_3aDGwr6",
        "colab_type": "text"
      },
      "source": [
        "#3 - Face Recognition"
      ]
    },
    {
      "cell_type": "markdown",
      "metadata": {
        "id": "ywMOc-deZK6C",
        "colab_type": "text"
      },
      "source": [
        "## 1 - Encoding face images into a 128-dimensional vector \n",
        "\n",
        "### 1.1 - Using an ConvNet  to compute encodings\n",
        "\n",
        "The FaceNet model takes a lot of data and a long time to train. So following common practice in applied deep learning settings, let's just load weights that someone else has already trained. The network architecture follows the Inception model from [Szegedy *et al.*](https://arxiv.org/abs/1409.4842). \n"
      ]
    },
    {
      "cell_type": "markdown",
      "metadata": {
        "id": "FPMsRitnZK6D",
        "colab_type": "text"
      },
      "source": [
        "The key things you need to know are:\n",
        "\n",
        "- This network uses 96x96 dimensional RGB images as its input. Specifically, inputs a face image (or batch of $m$ face images) as a tensor of shape $(m, n_C, n_H, n_W) = (m, 3, 96, 96)$ \n",
        "- It outputs a matrix of shape $(m, 128)$ that encodes each input face image into a 128-dimensional vector\n",
        "\n",
        "Run the cell below to create the model for face images."
      ]
    },
    {
      "cell_type": "code",
      "metadata": {
        "id": "XuR_HF34ZK6E",
        "colab_type": "code",
        "outputId": "961d8e83-4421-4bd5-db0f-5ba090c54421",
        "colab": {
          "base_uri": "https://localhost:8080/",
          "height": 309
        }
      },
      "source": [
        "FRmodel = faceRecoModel(input_shape=(3, 96, 96))"
      ],
      "execution_count": 12,
      "outputs": [
        {
          "output_type": "stream",
          "text": [
            "WARNING:tensorflow:From /usr/local/lib/python3.6/dist-packages/keras/backend/tensorflow_backend.py:66: The name tf.get_default_graph is deprecated. Please use tf.compat.v1.get_default_graph instead.\n",
            "\n",
            "WARNING:tensorflow:From /usr/local/lib/python3.6/dist-packages/keras/backend/tensorflow_backend.py:541: The name tf.placeholder is deprecated. Please use tf.compat.v1.placeholder instead.\n",
            "\n",
            "WARNING:tensorflow:From /usr/local/lib/python3.6/dist-packages/keras/backend/tensorflow_backend.py:4432: The name tf.random_uniform is deprecated. Please use tf.random.uniform instead.\n",
            "\n",
            "WARNING:tensorflow:From /usr/local/lib/python3.6/dist-packages/keras/backend/tensorflow_backend.py:190: The name tf.get_default_session is deprecated. Please use tf.compat.v1.get_default_session instead.\n",
            "\n",
            "WARNING:tensorflow:From /usr/local/lib/python3.6/dist-packages/keras/backend/tensorflow_backend.py:197: The name tf.ConfigProto is deprecated. Please use tf.compat.v1.ConfigProto instead.\n",
            "\n",
            "WARNING:tensorflow:From /usr/local/lib/python3.6/dist-packages/keras/backend/tensorflow_backend.py:2041: The name tf.nn.fused_batch_norm is deprecated. Please use tf.compat.v1.nn.fused_batch_norm instead.\n",
            "\n",
            "WARNING:tensorflow:From /usr/local/lib/python3.6/dist-packages/keras/backend/tensorflow_backend.py:4267: The name tf.nn.max_pool is deprecated. Please use tf.nn.max_pool2d instead.\n",
            "\n",
            "WARNING:tensorflow:From /usr/local/lib/python3.6/dist-packages/keras/backend/tensorflow_backend.py:4271: The name tf.nn.avg_pool is deprecated. Please use tf.nn.avg_pool2d instead.\n",
            "\n"
          ],
          "name": "stdout"
        }
      ]
    },
    {
      "cell_type": "code",
      "metadata": {
        "id": "F2T7BvDCZK6G",
        "colab_type": "code",
        "outputId": "22cb6586-b13f-4ac4-efc3-52647997d108",
        "colab": {
          "base_uri": "https://localhost:8080/",
          "height": 34
        }
      },
      "source": [
        "print(\"Total Params:\", FRmodel.count_params())"
      ],
      "execution_count": 0,
      "outputs": [
        {
          "output_type": "stream",
          "text": [
            "Total Params: 3743280\n"
          ],
          "name": "stdout"
        }
      ]
    },
    {
      "cell_type": "markdown",
      "metadata": {
        "id": "Hghbg8W4ZK6K",
        "colab_type": "text"
      },
      "source": [
        "By using a 128-neuron fully connected layer as its last layer, the model ensures that the output is an encoding vector of size 128. You then use the encodings the compare two face images as follows:\n",
        "\n",
        "So, an encoding is a good one if: \n",
        "- The encodings of two images of the same person are quite similar to each other \n",
        "- The encodings of two images of different persons are very different\n",
        "\n",
        "The triplet loss function formalizes this, and tries to \"push\" the encodings of two images of the same person (Anchor and Positive) closer together, while \"pulling\" the encodings of two images of different persons (Anchor, Negative) further apart. \n",
        "\n"
      ]
    },
    {
      "cell_type": "markdown",
      "metadata": {
        "id": "IJ2CkPyVZK6L",
        "colab_type": "text"
      },
      "source": [
        "\n",
        "\n",
        "### 1.2 - The Triplet Loss (Function not needed for this project)\n",
        "\n",
        "For an image $x$, we denote its encoding $f(x)$, where $f$ is the function computed by the neural network.\n",
        "\n",
        "<!--\n",
        "We will also add a normalization step at the end of our model so that $\\mid \\mid f(x) \\mid \\mid_2 = 1$ (means the vector of encoding should be of norm 1).\n",
        "!-->\n",
        "\n",
        "Training will use triplets of images $(A, P, N)$:  \n",
        "\n",
        "- A is an \"Anchor\" image--a picture of a person. \n",
        "- P is a \"Positive\" image--a picture of the same person as the Anchor image.\n",
        "- N is a \"Negative\" image--a picture of a different person than the Anchor image.\n",
        "\n",
        "These triplets are picked from our training dataset. We will write $(A^{(i)}, P^{(i)}, N^{(i)})$ to denote the $i$-th training example. \n",
        "\n",
        "You'd like to make sure that an image $A^{(i)}$ of an individual is closer to the Positive $P^{(i)}$ than to the Negative image $N^{(i)}$) by at least a margin $\\alpha$:\n",
        "\n",
        "$$\\mid \\mid f(A^{(i)}) - f(P^{(i)}) \\mid \\mid_2^2 + \\alpha < \\mid \\mid f(A^{(i)}) - f(N^{(i)}) \\mid \\mid_2^2$$\n",
        "\n",
        "You would thus like to minimize the following \"triplet cost\":\n",
        "\n",
        "$$\\mathcal{J} = \\sum^{m}_{i=1} \\large[ \\small \\underbrace{\\mid \\mid f(A^{(i)}) - f(P^{(i)}) \\mid \\mid_2^2}_\\text{(1)} - \\underbrace{\\mid \\mid f(A^{(i)}) - f(N^{(i)}) \\mid \\mid_2^2}_\\text{(2)} + \\alpha \\large ] \\small_+ \\tag{3}$$\n",
        "\n",
        "Here, we are using the notation \"$[z]_+$\" to denote $max(z,0)$.  \n",
        "\n",
        "Notes:\n",
        "- The term (1) is the squared distance between the anchor \"A\" and the positive \"P\" for a given triplet; you want this to be small. \n",
        "- The term (2) is the squared distance between the anchor \"A\" and the negative \"N\" for a given triplet, you want this to be relatively large, so it thus makes sense to have a minus sign preceding it. \n",
        "- $\\alpha$ is called the margin. It is a hyperparameter that you should pick manually. We will use $\\alpha = 0.2$. \n",
        "\n",
        "Most implementations also normalize the encoding vectors  to have norm equal one (i.e., $\\mid \\mid f(img)\\mid \\mid_2$=1); you won't have to worry about that here.\n",
        "\n",
        "**Exercise**: Implement the triplet loss as defined by formula (3). Here are the 4 steps:\n",
        "1. Compute the distance between the encodings of \"anchor\" and \"positive\": $\\mid \\mid f(A^{(i)}) - f(P^{(i)}) \\mid \\mid_2^2$\n",
        "2. Compute the distance between the encodings of \"anchor\" and \"negative\": $\\mid \\mid f(A^{(i)}) - f(N^{(i)}) \\mid \\mid_2^2$\n",
        "3. Compute the formula per training example: $ \\mid \\mid f(A^{(i)}) - f(P^{(i)}) \\mid \\mid_2^2 - \\mid \\mid f(A^{(i)}) - f(N^{(i)}) \\mid \\mid_2^2 + \\alpha$\n",
        "3. Compute the full formula by taking the max with zero and summing over the training examples:\n",
        "$$\\mathcal{J} = \\sum^{m}_{i=1} \\large[ \\small \\mid \\mid f(A^{(i)}) - f(P^{(i)}) \\mid \\mid_2^2 - \\mid \\mid f(A^{(i)}) - f(N^{(i)}) \\mid \\mid_2^2+ \\alpha \\large ] \\small_+ \\tag{3}$$\n",
        "\n",
        "Useful functions: `tf.reduce_sum()`, `tf.square()`, `tf.subtract()`, `tf.add()`, `tf.maximum()`.\n",
        "For steps 1 and 2, you will need to sum over the entries of $\\mid \\mid f(A^{(i)}) - f(P^{(i)}) \\mid \\mid_2^2$ and $\\mid \\mid f(A^{(i)}) - f(N^{(i)}) \\mid \\mid_2^2$ while for step 4 you will need to sum over the training examples."
      ]
    },
    {
      "cell_type": "code",
      "metadata": {
        "id": "7JVEdf9aZK6L",
        "colab_type": "code",
        "colab": {}
      },
      "source": [
        "def triplet_loss(y_true, y_pred, alpha = 0.2):\n",
        "    \"\"\"\n",
        "    Implementation of the triplet loss as defined by formula (3)\n",
        "    \n",
        "    Arguments:\n",
        "    y_true -- true labels, required when you define a loss in Keras, you don't need it in this function.\n",
        "    y_pred -- python list containing three objects:\n",
        "            anchor -- the encodings for the anchor images, of shape (None, 128)\n",
        "            positive -- the encodings for the positive images, of shape (None, 128)\n",
        "            negative -- the encodings for the negative images, of shape (None, 128)\n",
        "    \n",
        "    Returns:\n",
        "    loss -- real number, value of the loss\n",
        "    \"\"\"\n",
        "    \n",
        "    anchor, positive, negative = y_pred[0], y_pred[1], y_pred[2]\n",
        "    \n",
        "    # Compute the (encoding) distance between the anchor and the positive, you will need to sum over axis=-1\n",
        "    pos_dist = tf.reduce_sum(tf.square(tf.subtract(anchor, positive)), axis = -1)\n",
        "    # Compute the (encoding) distance between the anchor and the negative, you will need to sum over axis=-1\n",
        "    neg_dist = tf.reduce_sum(tf.square(tf.subtract(anchor, negative)), axis = -1)\n",
        "    # Subtract the two previous distances and add alpha.\n",
        "    basic_loss = tf.add(tf.subtract(pos_dist, neg_dist), alpha)\n",
        "    # Take the maximum of basic_loss and 0.0. Sum over the training examples.\n",
        "    loss = tf.reduce_sum(tf.maximum(basic_loss, 0))\n",
        "    \n",
        "    return loss"
      ],
      "execution_count": 0,
      "outputs": []
    },
    {
      "cell_type": "markdown",
      "metadata": {
        "id": "ncVbfuoKZK6V",
        "colab_type": "text"
      },
      "source": [
        "## 2 - Loading the trained model\n",
        "\n",
        "FaceNet is trained by minimizing the triplet loss. But since training requires a lot of data and a lot of computation, we won't train it from scratch here. Instead, we load a previously trained model. Load a model using the following cell; this might take a couple of minutes to run. "
      ]
    },
    {
      "cell_type": "code",
      "metadata": {
        "id": "Y9Fz6k1eZK6W",
        "colab_type": "code",
        "outputId": "6a225943-43bd-46dd-9ca3-f5dfd68710fc",
        "colab": {
          "base_uri": "https://localhost:8080/",
          "height": 71
        }
      },
      "source": [
        "#FRmodel.compile(optimizer = 'adam', loss = triplet_loss, metrics = ['accuracy'])\n",
        "weights_directory = '/content/drive/My Drive/Colab/Workspace/DeepLearn/CNN_Data/Face Recognition OpenFace/weights'\n",
        "load_weights_from_FaceNet(FRmodel, weights_directory)"
      ],
      "execution_count": 14,
      "outputs": [
        {
          "output_type": "stream",
          "text": [
            "WARNING:tensorflow:From /usr/local/lib/python3.6/dist-packages/keras/optimizers.py:793: The name tf.train.Optimizer is deprecated. Please use tf.compat.v1.train.Optimizer instead.\n",
            "\n"
          ],
          "name": "stdout"
        }
      ]
    },
    {
      "cell_type": "markdown",
      "metadata": {
        "id": "_8sFk4RvZK6b",
        "colab_type": "text"
      },
      "source": [
        "## 3 - Applying the model"
      ]
    },
    {
      "cell_type": "markdown",
      "metadata": {
        "id": "baAimUAYZK6c",
        "colab_type": "text"
      },
      "source": [
        "### 3.1 - Face Verification\n",
        "\n",
        "Let's build a database for each authorised person. To generate the encoding we use `img_to_encoding(image_path, model)` which basically runs the forward propagation of the model on the specified image. \n"
      ]
    },
    {
      "cell_type": "code",
      "metadata": {
        "id": "GWSUOqqCZK6d",
        "colab_type": "code",
        "colab": {}
      },
      "source": [
        "database = {}\n",
        "database[\"danielle\"] = img_to_encoding(\"processed_images/danielle.jpg\", FRmodel)\n",
        "database[\"younes\"] = img_to_encoding(\"processed_images/younes.jpg\", FRmodel)\n",
        "database[\"tian\"] = img_to_encoding(\"processed_images/tian.jpg\", FRmodel)\n",
        "database[\"andrew\"] = img_to_encoding(\"processed_images/andrew.jpg\", FRmodel)\n",
        "database[\"kian\"] = img_to_encoding(\"processed_images/kian.jpg\", FRmodel)\n",
        "database[\"dan\"] = img_to_encoding(\"processed_images/dan.jpg\", FRmodel)\n",
        "database[\"sebastiano\"] = img_to_encoding(\"processed_images/sebastiano.jpg\", FRmodel)\n",
        "database[\"bertrand\"] = img_to_encoding(\"processed_images/bertrand.jpg\", FRmodel)\n",
        "database[\"kevin\"] = img_to_encoding(\"processed_images/kevin.jpg\", FRmodel)\n",
        "database[\"felix\"] = img_to_encoding(\"processed_images/felix.jpg\", FRmodel)\n",
        "database[\"benoit\"] = img_to_encoding(\"processed_images/benoit.jpg\", FRmodel)\n",
        "database[\"arnaud\"] = img_to_encoding(\"processed_images/arnaud.jpg\", FRmodel)\n",
        "database[\"sobhan\"] = img_to_encoding(\"processed_images/sobhan.jpg\", FRmodel)\n",
        "database[\"sobhan1\"] = img_to_encoding(\"processed_images/sobhan1.jpg\", FRmodel)\n",
        "database[\"neeraj\"] = img_to_encoding(\"processed_images/Neeraj.jpg\", FRmodel)"
      ],
      "execution_count": 0,
      "outputs": []
    },
    {
      "cell_type": "markdown",
      "metadata": {
        "id": "p0_RbFdDZK6k",
        "colab_type": "text"
      },
      "source": [
        "Implement the verify() function which checks if the front-door camera picture (`image_path`) is actually the person called \"identity\". "
      ]
    },
    {
      "cell_type": "code",
      "metadata": {
        "id": "xBNSUiB-ZK6l",
        "colab_type": "code",
        "colab": {}
      },
      "source": [
        "def verify(image_path, identity, database, model):\n",
        "    \"\"\"\n",
        "    Function that verifies if the person on the \"image_path\" image is \"identity\".\n",
        "    \n",
        "    Arguments:\n",
        "    image_path -- path to an image\n",
        "    identity -- string, name of the person you'd like to verify the identity. Has to be a resident of the Happy house.\n",
        "    database -- python dictionary mapping names of allowed people's names (strings) to their encodings (vectors).\n",
        "    model -- your Inception model instance in Keras\n",
        "    \n",
        "    Returns:\n",
        "    dist -- distance between the image_path and the image of \"identity\" in the database.\n",
        "    door_open -- True, if the door should open. False otherwise.\n",
        "    \"\"\"\n",
        "    \n",
        "    # Process image\n",
        "    image_name = os.path.split(image_path)[-1]\n",
        "    save_direc = '/tmp'\n",
        "    process_and_save_image(image_path, save_direc , save = True)\n",
        "    \n",
        "   # Compute the encoding for the image. Use img_to_encoding() see example above. (≈ 1 line)\n",
        "    image_path = os.path.join(save_direc, image_name)\n",
        "    io.imshow(image_path)\n",
        "    encoding = img_to_encoding(image_path, model)\n",
        "    \n",
        "    # Compute distance with identity's image (≈ 1 line)\n",
        "    dist = np.linalg.norm(database[identity] - encoding)\n",
        "    \n",
        "    # Open the door if dist < 0.7, else don't open (≈ 3 lines)\n",
        "    if dist < 0.7:\n",
        "        print(\"It's \" + str(identity) + \", welcome home!\")\n",
        "        door_open = None\n",
        "    else:\n",
        "        print(\"It's not \" + str(identity) + \", please go away\")\n",
        "        door_open = None\n",
        "        \n",
        "    return dist, door_open"
      ],
      "execution_count": 0,
      "outputs": []
    },
    {
      "cell_type": "markdown",
      "metadata": {
        "id": "5n0ZnAGNZK6v",
        "colab_type": "text"
      },
      "source": [
        "Let us verify with a new image."
      ]
    },
    {
      "cell_type": "code",
      "metadata": {
        "id": "C2nkptYFZK6w",
        "colab_type": "code",
        "colab": {}
      },
      "source": [
        "verify(\"/content/sobhan1.jpg\", \"sobhan\", database, FRmodel)"
      ],
      "execution_count": 0,
      "outputs": []
    },
    {
      "cell_type": "markdown",
      "metadata": {
        "id": "-WMzzYgjZK63",
        "colab_type": "text"
      },
      "source": [
        "### 3.2 - Face Recognition\n",
        "\n",
        "\n",
        "To reduce such shenanigans, you'd like to change your face verification system to a face recognition system. This way, no one has to carry an ID card anymore. An authorized person can just walk up to the house, and the front door will unlock for them! \n",
        "\n",
        "Implement `who_is_it()`. We will have to go through the following steps:\n",
        "1. Compute the target encoding of the image from image_path\n",
        "2. Find the encoding from the database that has smallest distance with the target encoding. We will..\n",
        "    - Initialize the `min_dist` variable to a large enough number (100). It will help you keep track of what is the closest encoding to the input's encoding.\n",
        "    - Loop over the database dictionary's names and encodings. To loop use `for (name, db_enc) in database.items()`.\n",
        "        - Compute L2 distance between the target \"encoding\" and the current \"encoding\" from the database.\n",
        "        - If this distance is less than the min_dist, then set min_dist to dist, and identity to name."
      ]
    },
    {
      "cell_type": "code",
      "metadata": {
        "id": "2VmspCwwZK64",
        "colab_type": "code",
        "colab": {}
      },
      "source": [
        "def who_is_it(image_path, database, model):\n",
        "    \"\"\"\n",
        "    Implements face recognition for the happy house by finding who is the person on the image_path image.\n",
        "    \n",
        "    Arguments:\n",
        "    image_path -- path to an image\n",
        "    database -- database containing image encodings along with the name of the person on the image\n",
        "    model -- your Inception model instance in Keras\n",
        "    \n",
        "    Returns:\n",
        "    min_dist -- the minimum distance between image_path encoding and the encodings from the database\n",
        "    identity -- string, the name prediction for the person on image_path\n",
        "    \"\"\"\n",
        "    \n",
        "    \n",
        "    ## Compute the target \"encoding\" for the image. Use img_to_encoding() see example above. ## (≈ 1 line)\n",
        "    encoding = img_to_encoding(image_path, model)\n",
        "    \n",
        "    ## Find the closest encoding ##\n",
        "    \n",
        "    # Initialize \"min_dist\" to a large value, say 100 (≈1 line)\n",
        "    min_dist = 1e3\n",
        "    \n",
        "    # Loop over the database dictionary's names and encodings.\n",
        "    for (name, db_enc) in database.items():\n",
        "        \n",
        "        # Compute L2 distance between the target \"encoding\" and the current \"emb\" from the database. (≈ 1 line)\n",
        "        dist = np.linalg.norm(database[name] - encoding)\n",
        "\n",
        "        # If this distance is less than the min_dist, then set min_dist to dist, and identity to name. (≈ 3 lines)\n",
        "        if dist < min_dist:\n",
        "            min_dist = dist\n",
        "            identity = name\n",
        "\n",
        "    \n",
        "    if min_dist > 0.7:\n",
        "        print(\"Not in the database.\")\n",
        "    else:\n",
        "        print (\"it's \" + str(identity) + \", the distance is \" + str(min_dist))\n",
        "        \n",
        "    return min_dist, identity"
      ],
      "execution_count": 0,
      "outputs": []
    },
    {
      "cell_type": "markdown",
      "metadata": {
        "id": "UM8wUYgrZK6-",
        "colab_type": "text"
      },
      "source": [
        "Let us check a new image."
      ]
    },
    {
      "cell_type": "code",
      "metadata": {
        "scrolled": false,
        "id": "lTv-QbaHZK6_",
        "colab_type": "code",
        "outputId": "3b198a0a-5129-46d6-b796-b54c2ad83152",
        "colab": {
          "base_uri": "https://localhost:8080/",
          "height": 51
        }
      },
      "source": [
        "who_is_it(\"/content/photo3.jpg\", database, FRmodel)"
      ],
      "execution_count": 54,
      "outputs": [
        {
          "output_type": "stream",
          "text": [
            "it's sobhan, the distance is 0.5752792\n"
          ],
          "name": "stdout"
        },
        {
          "output_type": "execute_result",
          "data": {
            "text/plain": [
              "(0.5752792, 'sobhan')"
            ]
          },
          "metadata": {
            "tags": []
          },
          "execution_count": 54
        }
      ]
    },
    {
      "cell_type": "markdown",
      "metadata": {
        "id": "CE0-Rir2ZK7I",
        "colab_type": "text"
      },
      "source": [
        "\n",
        "Although we won't implement it here, here're some ways to further improve the algorithm:\n",
        "- Put more images of each person (under different lighting conditions, taken on different days, etc.) into the database. Then given a new image, compare the new face to multiple pictures of the person. This would increae accuracy.\n",
        "- SVM Classifier can be added on top of the encodings to classify/recognise images of persons. This approch requires a much larger dataset for training than the current approach which does not require training and can work with only one image of the person. However, the current approach performs badly when lighting conditions are different between the image in the database and the image to be recognised."
      ]
    },
    {
      "cell_type": "markdown",
      "metadata": {
        "id": "FiX7bX2CZK7K",
        "colab_type": "text"
      },
      "source": [
        "### References:\n",
        "\n",
        "- Florian Schroff, Dmitry Kalenichenko, James Philbin (2015). [FaceNet: A Unified Embedding for Face Recognition and Clustering](https://arxiv.org/pdf/1503.03832.pdf)\n",
        "- Yaniv Taigman, Ming Yang, Marc'Aurelio Ranzato, Lior Wolf (2014). [DeepFace: Closing the gap to human-level performance in face verification](https://research.fb.com/wp-content/uploads/2016/11/deepface-closing-the-gap-to-human-level-performance-in-face-verification.pdf) \n",
        "- The pretrained model we use is inspired by Victor Sy Wang's implementation and was loaded using his code: https://github.com/iwantooxxoox/Keras-OpenFace.\n",
        "- Our implementation also took a lot of inspiration from the official FaceNet github repository: https://github.com/davidsandberg/facenet \n"
      ]
    }
  ]
}