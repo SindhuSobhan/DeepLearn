{
  "nbformat": 4,
  "nbformat_minor": 0,
  "metadata": {
    "coursera": {
      "course_slug": "convolutional-neural-networks",
      "graded_item_id": "IaknP",
      "launcher_item_id": "5UMr4"
    },
    "kernelspec": {
      "name": "python3",
      "display_name": "Python 3"
    },
    "language_info": {
      "codemirror_mode": {
        "name": "ipython",
        "version": 3
      },
      "file_extension": ".py",
      "mimetype": "text/x-python",
      "name": "python",
      "nbconvert_exporter": "python",
      "pygments_lexer": "ipython3",
      "version": "3.6.0"
    },
    "colab": {
      "name": "Face+Recognition+for+the+Happy+House+-+v3.ipynb",
      "version": "0.3.2",
      "provenance": [],
      "toc_visible": true
    },
    "accelerator": "GPU"
  },
  "cells": [
    {
      "cell_type": "markdown",
      "metadata": {
        "id": "0f62tOSWZK55",
        "colab_type": "text"
      },
      "source": [
        "# Face Recognition for the Happy House\n",
        "\n",
        "Many of the ideas presented here are from [FaceNet](https://arxiv.org/pdf/1503.03832.pdf). In lecture, we also talked about [DeepFace](https://research.fb.com/wp-content/uploads/2016/11/deepface-closing-the-gap-to-human-level-performance-in-face-verification.pdf). \n",
        "\n",
        "Face recognition problems commonly fall into two categories: \n",
        "\n",
        "- **Face Verification** - \"is this the claimed person?\". For example, at some airports, you can pass through customs by letting a system scan your passport and then verifying that you (the person carrying the passport) are the correct person. A mobile phone that unlocks using your face is also using face verification. This is a 1:1 matching problem. \n",
        "- **Face Recognition** - \"who is this person?\". For example, the video lecture showed a face recognition video (https://www.youtube.com/watch?v=wr4rx0Spihs) of Baidu employees entering the office without needing to otherwise identify themselves. This is a 1:K matching problem. \n",
        "\n",
        "FaceNet learns a neural network that encodes a face image into a vector of 128 numbers. By comparing two such vectors, you can then determine if two pictures are of the same person.\n",
        "    \n"
      ]
    },
    {
      "cell_type": "code",
      "metadata": {
        "id": "6VKXaPfcZK57",
        "colab_type": "code",
        "outputId": "f7c7a12b-9120-4240-9638-f1dafa4e7e6c",
        "colab": {
          "base_uri": "https://localhost:8080/",
          "height": 51
        }
      },
      "source": [
        "from keras.models import Sequential\n",
        "from keras.layers import Conv2D, ZeroPadding2D, Activation, Input, concatenate\n",
        "from keras.models import Model\n",
        "from keras.layers.normalization import BatchNormalization\n",
        "from keras.layers.pooling import MaxPooling2D, AveragePooling2D\n",
        "from keras.layers.merge import Concatenate\n",
        "from keras.layers.core import Lambda, Flatten, Dense\n",
        "from keras.initializers import glorot_uniform\n",
        "from keras.engine.topology import Layer\n",
        "from keras import backend as K\n",
        "K.set_image_data_format('channels_first')\n",
        "import cv2\n",
        "import os\n",
        "import numpy as np\n",
        "from numpy import genfromtxt\n",
        "import pandas as pd\n",
        "import tensorflow as tf\n",
        "import dlib\n",
        "from PIL import Image\n",
        "from skimage import io\n",
        "\n",
        "%matplotlib inline\n",
        "%load_ext autoreload\n",
        "%autoreload 2"
      ],
      "execution_count": 21,
      "outputs": [
        {
          "output_type": "stream",
          "text": [
            "The autoreload extension is already loaded. To reload it, use:\n",
            "  %reload_ext autoreload\n"
          ],
          "name": "stdout"
        }
      ]
    },
    {
      "cell_type": "code",
      "metadata": {
        "id": "mGRJKoBUb1Mk",
        "colab_type": "code",
        "outputId": "a8f28816-76c2-49fe-f980-faef7e631b77",
        "colab": {
          "base_uri": "https://localhost:8080/",
          "height": 54
        }
      },
      "source": [
        "from os.path import join\n",
        "from google.colab import drive\n",
        "\n",
        "ROOT = \"/content/drive\"\n",
        "drive.mount(ROOT)"
      ],
      "execution_count": 2,
      "outputs": [
        {
          "output_type": "stream",
          "text": [
            "Drive already mounted at /content/drive; to attempt to forcibly remount, call drive.mount(\"/content/drive\", force_remount=True).\n"
          ],
          "name": "stdout"
        }
      ]
    },
    {
      "cell_type": "code",
      "metadata": {
        "id": "8nMFsBqXgBig",
        "colab_type": "code",
        "outputId": "d9808987-4f1d-4ab0-b0c0-f4f09a07edbf",
        "colab": {
          "base_uri": "https://localhost:8080/",
          "height": 34
        }
      },
      "source": [
        "cd '/content/drive/My Drive/Colab/Workspace/DeepLearn/CNN_Data/Face Recognition OpenFace'"
      ],
      "execution_count": 3,
      "outputs": [
        {
          "output_type": "stream",
          "text": [
            "/content/drive/My Drive/Colab/Workspace/DeepLearn/CNN_Data/Face Recognition OpenFace\n"
          ],
          "name": "stdout"
        }
      ]
    },
    {
      "cell_type": "code",
      "metadata": {
        "id": "kR6Kspyw-iyM",
        "colab_type": "code",
        "colab": {}
      },
      "source": [
        "path = '/content/drive/My Drive/Colab/Workspace/DeepLearn/CNN_Data/Face Recognition OpenFace'\n",
        "\n",
        "files = os.listdir(path)\n",
        "\n",
        "if 'Github' in files:\n",
        "  !rm -r Github\n",
        "  "
      ],
      "execution_count": 0,
      "outputs": []
    },
    {
      "cell_type": "code",
      "metadata": {
        "id": "orWHeNgYfdi7",
        "colab_type": "code",
        "outputId": "fe56877f-b1a9-4b94-f997-0a41e81eb222",
        "colab": {
          "base_uri": "https://localhost:8080/",
          "height": 136
        }
      },
      "source": [
        "!mkdir Github\n",
        "\n",
        "# Setup Git repo to Content/Github directory\n",
        "path = join('/content/drive', 'My Drive/Colab/Workspace/DeepLearn/CNN_Data/Face Recognition OpenFace/Github')\n",
        "\n",
        "!git clone https://github.com/SindhuSobhan/DeepLearn.git \"{path}\"\n",
        "  "
      ],
      "execution_count": 7,
      "outputs": [
        {
          "output_type": "stream",
          "text": [
            "Cloning into '/content/drive/My Drive/Colab/Workspace/DeepLearn/CNN_Data/Face Recognition OpenFace/Github'...\n",
            "remote: Enumerating objects: 156, done.\u001b[K\n",
            "remote: Counting objects:   0% (1/156)\u001b[K\rremote: Counting objects:   1% (2/156)\u001b[K\rremote: Counting objects:   2% (4/156)\u001b[K\rremote: Counting objects:   3% (5/156)\u001b[K\rremote: Counting objects:   4% (7/156)\u001b[K\rremote: Counting objects:   5% (8/156)\u001b[K\rremote: Counting objects:   6% (10/156)\u001b[K\rremote: Counting objects:   7% (11/156)\u001b[K\rremote: Counting objects:   8% (13/156)\u001b[K\rremote: Counting objects:   9% (15/156)\u001b[K\rremote: Counting objects:  10% (16/156)\u001b[K\rremote: Counting objects:  11% (18/156)\u001b[K\rremote: Counting objects:  12% (19/156)\u001b[K\rremote: Counting objects:  13% (21/156)\u001b[K\rremote: Counting objects:  14% (22/156)\u001b[K\rremote: Counting objects:  15% (24/156)\u001b[K\rremote: Counting objects:  16% (25/156)\u001b[K\rremote: Counting objects:  17% (27/156)\u001b[K\rremote: Counting objects:  18% (29/156)\u001b[K\rremote: Counting objects:  19% (30/156)\u001b[K\rremote: Counting objects:  20% (32/156)\u001b[K\rremote: Counting objects:  21% (33/156)\u001b[K\rremote: Counting objects:  22% (35/156)\u001b[K\rremote: Counting objects:  23% (36/156)\u001b[K\rremote: Counting objects:  24% (38/156)\u001b[K\rremote: Counting objects:  25% (39/156)\u001b[K\rremote: Counting objects:  26% (41/156)\u001b[K\rremote: Counting objects:  27% (43/156)\u001b[K\rremote: Counting objects:  28% (44/156)\u001b[K\rremote: Counting objects:  29% (46/156)\u001b[K\rremote: Counting objects:  30% (47/156)\u001b[K\rremote: Counting objects:  31% (49/156)\u001b[K\rremote: Counting objects:  32% (50/156)\u001b[K\rremote: Counting objects:  33% (52/156)\u001b[K\rremote: Counting objects:  34% (54/156)\u001b[K\rremote: Counting objects:  35% (55/156)\u001b[K\rremote: Counting objects:  36% (57/156)\u001b[K\rremote: Counting objects:  37% (58/156)\u001b[K\rremote: Counting objects:  38% (60/156)\u001b[K\rremote: Counting objects:  39% (61/156)\u001b[K\rremote: Counting objects:  40% (63/156)\u001b[K\rremote: Counting objects:  41% (64/156)\u001b[K\rremote: Counting objects:  42% (66/156)\u001b[K\rremote: Counting objects:  43% (68/156)\u001b[K\rremote: Counting objects:  44% (69/156)\u001b[K\rremote: Counting objects:  45% (71/156)\u001b[K\rremote: Counting objects:  46% (72/156)\u001b[K\rremote: Counting objects:  47% (74/156)\u001b[K\rremote: Counting objects:  48% (75/156)\u001b[K\rremote: Counting objects:  49% (77/156)\u001b[K\rremote: Counting objects:  50% (78/156)\u001b[K\rremote: Counting objects:  51% (80/156)\u001b[K\rremote: Counting objects:  52% (82/156)\u001b[K\rremote: Counting objects:  53% (83/156)\u001b[K\rremote: Counting objects:  54% (85/156)\u001b[K\rremote: Counting objects:  55% (86/156)\u001b[K\rremote: Counting objects:  56% (88/156)\u001b[K\rremote: Counting objects:  57% (89/156)\u001b[K\rremote: Counting objects:  58% (91/156)\u001b[K\rremote: Counting objects:  59% (93/156)\u001b[K\rremote: Counting objects:  60% (94/156)\u001b[K\rremote: Counting objects:  61% (96/156)\u001b[K\rremote: Counting objects:  62% (97/156)\u001b[K\rremote: Counting objects:  63% (99/156)\u001b[K\rremote: Counting objects:  64% (100/156)\rremote: Counting objects:  65% (102/156)\u001b[K\rremote: Counting objects:  66% (103/156)\u001b[K\rremote: Counting objects:  67% (105/156)\u001b[K\rremote: Counting objects:  68% (107/156)\u001b[K\rremote: Counting objects:  69% (108/156)\u001b[K\rremote: Counting objects:  70% (110/156)\u001b[K\rremote: Counting objects:  71% (111/156)\u001b[K\rremote: Counting objects:  72% (113/156)\u001b[K\rremote: Counting objects:  73% (114/156)\u001b[K\rremote: Counting objects:  74% (116/156)\u001b[K\rremote: Counting objects:  75% (117/156)\u001b[K\rremote: Counting objects:  76% (119/156)\u001b[K\rremote: Counting objects:  77% (121/156)\u001b[K\rremote: Counting objects:  78% (122/156)\u001b[K\rremote: Counting objects:  79% (124/156)\u001b[K\rremote: Counting objects:  80% (125/156)\u001b[K\rremote: Counting objects:  81% (127/156)\u001b[K\rremote: Counting objects:  82% (128/156)\u001b[K\rremote: Counting objects:  83% (130/156)\u001b[K\rremote: Counting objects:  84% (132/156)\u001b[K\rremote: Counting objects:  85% (133/156)\u001b[K\rremote: Counting objects:  86% (135/156)\u001b[K\rremote: Counting objects:  87% (136/156)\u001b[K\rremote: Counting objects:  88% (138/156)\u001b[K\rremote: Counting objects:  89% (139/156)\u001b[K\rremote: Counting objects:  90% (141/156)\u001b[K\rremote: Counting objects:  91% (142/156)\u001b[K\rremote: Counting objects:  92% (144/156)\u001b[K\rremote: Counting objects:  93% (146/156)\u001b[K\rremote: Counting objects:  94% (147/156)\u001b[K\rremote: Counting objects:  95% (149/156)\u001b[K\rremote: Counting objects:  96% (150/156)\u001b[K\rremote: Counting objects:  97% (152/156)\u001b[K\rremote: Counting objects:  98% (153/156)\u001b[K\rremote: Counting objects:  99% (155/156)\u001b[K\rremote: Counting objects: 100% (156/156)\u001b[K\rremote: Counting objects: 100% (156/156), done.\u001b[K\n",
            "remote: Compressing objects: 100% (135/135), done.\u001b[K\n",
            "remote: Total 156 (delta 32), reused 95 (delta 17), pack-reused 0\n",
            "Receiving objects: 100% (156/156), 22.29 MiB | 9.41 MiB/s, done.\n",
            "Resolving deltas: 100% (32/32), done.\n"
          ],
          "name": "stdout"
        }
      ]
    },
    {
      "cell_type": "code",
      "metadata": {
        "id": "aLwtES20gmTZ",
        "colab_type": "code",
        "outputId": "732f5f02-dcee-4fe6-c054-9dc818917589",
        "colab": {
          "base_uri": "https://localhost:8080/",
          "height": 34
        }
      },
      "source": [
        "cd '/content/drive/My Drive/Colab/Workspace/DeepLearn/CNN_Data/Face Recognition OpenFace/Github'"
      ],
      "execution_count": 8,
      "outputs": [
        {
          "output_type": "stream",
          "text": [
            "/content/drive/My Drive/Colab/Workspace/DeepLearn/CNN_Data/Face Recognition OpenFace/Github\n"
          ],
          "name": "stdout"
        }
      ]
    },
    {
      "cell_type": "code",
      "metadata": {
        "id": "drTzeke-fgQI",
        "colab_type": "code",
        "outputId": "4d554a9c-c395-4949-ec92-5592bad2380b",
        "colab": {
          "base_uri": "https://localhost:8080/",
          "height": 51
        }
      },
      "source": [
        "# Switch branch if needed\n",
        "!git checkout CNN"
      ],
      "execution_count": 9,
      "outputs": [
        {
          "output_type": "stream",
          "text": [
            "Branch 'CNN' set up to track remote branch 'CNN' from 'origin'.\n",
            "Switched to a new branch 'CNN'\n"
          ],
          "name": "stdout"
        }
      ]
    },
    {
      "cell_type": "code",
      "metadata": {
        "id": "Q4_nRsVagwYL",
        "colab_type": "code",
        "outputId": "fda9234e-5cc6-4248-c60b-c130caebb448",
        "colab": {
          "base_uri": "https://localhost:8080/",
          "height": 34
        }
      },
      "source": [
        "# Switch current working folder to Github folder containing files\n",
        "cd '/content/drive/My Drive/Colab/Workspace/DeepLearn/CNN_Data/Face Recognition OpenFace/Github/CNN/Face Recognition'"
      ],
      "execution_count": 10,
      "outputs": [
        {
          "output_type": "stream",
          "text": [
            "/content/drive/My Drive/Colab/Workspace/DeepLearn/CNN_Data/Face Recognition OpenFace/Github/CNN/Face Recognition\n"
          ],
          "name": "stdout"
        }
      ]
    },
    {
      "cell_type": "code",
      "metadata": {
        "id": "yMZkO9wibh52",
        "colab_type": "code",
        "colab": {}
      },
      "source": [
        "from fr_utils import *\n",
        "\n",
        "from inception_blocks_v2 import *\n"
      ],
      "execution_count": 0,
      "outputs": []
    },
    {
      "cell_type": "markdown",
      "metadata": {
        "id": "TQafg8bGZK6B",
        "colab_type": "text"
      },
      "source": [
        "## 0 - Naive Face Verification\n",
        "\n",
        "In Face Verification, you're given two images and you have to tell if they are of the same person. The simplest way to do this is to compare the two images pixel-by-pixel. If the distance between the raw images are less than a chosen threshold, it may be the same person! \n"
      ]
    },
    {
      "cell_type": "markdown",
      "metadata": {
        "collapsed": true,
        "id": "njbFjsJJZK6C",
        "colab_type": "text"
      },
      "source": [
        "Of course, this algorithm performs really poorly, since the pixel values change dramatically due to variations in lighting, orientation of the person's face, even minor changes in head position, and so on. \n",
        "\n",
        "You'll see that rather than using the raw image, you can learn an encoding $f(img)$ so that element-wise comparisons of this encoding gives more accurate judgements as to whether two pictures are of the same person."
      ]
    },
    {
      "cell_type": "markdown",
      "metadata": {
        "id": "ywMOc-deZK6C",
        "colab_type": "text"
      },
      "source": [
        "## 1 - Encoding face images into a 128-dimensional vector \n",
        "\n",
        "### 1.1 - Using an ConvNet  to compute encodings\n",
        "\n",
        "The FaceNet model takes a lot of data and a long time to train. So following common practice in applied deep learning settings, let's just load weights that someone else has already trained. The network architecture follows the Inception model from [Szegedy *et al.*](https://arxiv.org/abs/1409.4842). We have provided an inception network implementation. You can look in the file `inception_blocks.py` to see how it is implemented (do so by going to \"File->Open...\" at the top of the Jupyter notebook).  \n"
      ]
    },
    {
      "cell_type": "markdown",
      "metadata": {
        "id": "FPMsRitnZK6D",
        "colab_type": "text"
      },
      "source": [
        "The key things you need to know are:\n",
        "\n",
        "- This network uses 96x96 dimensional RGB images as its input. Specifically, inputs a face image (or batch of $m$ face images) as a tensor of shape $(m, n_C, n_H, n_W) = (m, 3, 96, 96)$ \n",
        "- It outputs a matrix of shape $(m, 128)$ that encodes each input face image into a 128-dimensional vector\n",
        "\n",
        "Run the cell below to create the model for face images."
      ]
    },
    {
      "cell_type": "code",
      "metadata": {
        "id": "XuR_HF34ZK6E",
        "colab_type": "code",
        "outputId": "961d8e83-4421-4bd5-db0f-5ba090c54421",
        "colab": {
          "base_uri": "https://localhost:8080/",
          "height": 309
        }
      },
      "source": [
        "FRmodel = faceRecoModel(input_shape=(3, 96, 96))"
      ],
      "execution_count": 12,
      "outputs": [
        {
          "output_type": "stream",
          "text": [
            "WARNING:tensorflow:From /usr/local/lib/python3.6/dist-packages/keras/backend/tensorflow_backend.py:66: The name tf.get_default_graph is deprecated. Please use tf.compat.v1.get_default_graph instead.\n",
            "\n",
            "WARNING:tensorflow:From /usr/local/lib/python3.6/dist-packages/keras/backend/tensorflow_backend.py:541: The name tf.placeholder is deprecated. Please use tf.compat.v1.placeholder instead.\n",
            "\n",
            "WARNING:tensorflow:From /usr/local/lib/python3.6/dist-packages/keras/backend/tensorflow_backend.py:4432: The name tf.random_uniform is deprecated. Please use tf.random.uniform instead.\n",
            "\n",
            "WARNING:tensorflow:From /usr/local/lib/python3.6/dist-packages/keras/backend/tensorflow_backend.py:190: The name tf.get_default_session is deprecated. Please use tf.compat.v1.get_default_session instead.\n",
            "\n",
            "WARNING:tensorflow:From /usr/local/lib/python3.6/dist-packages/keras/backend/tensorflow_backend.py:197: The name tf.ConfigProto is deprecated. Please use tf.compat.v1.ConfigProto instead.\n",
            "\n",
            "WARNING:tensorflow:From /usr/local/lib/python3.6/dist-packages/keras/backend/tensorflow_backend.py:2041: The name tf.nn.fused_batch_norm is deprecated. Please use tf.compat.v1.nn.fused_batch_norm instead.\n",
            "\n",
            "WARNING:tensorflow:From /usr/local/lib/python3.6/dist-packages/keras/backend/tensorflow_backend.py:4267: The name tf.nn.max_pool is deprecated. Please use tf.nn.max_pool2d instead.\n",
            "\n",
            "WARNING:tensorflow:From /usr/local/lib/python3.6/dist-packages/keras/backend/tensorflow_backend.py:4271: The name tf.nn.avg_pool is deprecated. Please use tf.nn.avg_pool2d instead.\n",
            "\n"
          ],
          "name": "stdout"
        }
      ]
    },
    {
      "cell_type": "code",
      "metadata": {
        "id": "F2T7BvDCZK6G",
        "colab_type": "code",
        "outputId": "22cb6586-b13f-4ac4-efc3-52647997d108",
        "colab": {
          "base_uri": "https://localhost:8080/",
          "height": 34
        }
      },
      "source": [
        "print(\"Total Params:\", FRmodel.count_params())"
      ],
      "execution_count": 0,
      "outputs": [
        {
          "output_type": "stream",
          "text": [
            "Total Params: 3743280\n"
          ],
          "name": "stdout"
        }
      ]
    },
    {
      "cell_type": "markdown",
      "metadata": {
        "id": "OpCzIGKQZK6J",
        "colab_type": "text"
      },
      "source": [
        "** Expected Output **\n",
        "<table>\n",
        "<center>\n",
        "Total Params: 3743280\n",
        "</center>\n",
        "</table>\n"
      ]
    },
    {
      "cell_type": "markdown",
      "metadata": {
        "id": "Hghbg8W4ZK6K",
        "colab_type": "text"
      },
      "source": [
        "By using a 128-neuron fully connected layer as its last layer, the model ensures that the output is an encoding vector of size 128. You then use the encodings the compare two face images as follows:\n",
        "\n",
        "So, an encoding is a good one if: \n",
        "- The encodings of two images of the same person are quite similar to each other \n",
        "- The encodings of two images of different persons are very different\n",
        "\n",
        "The triplet loss function formalizes this, and tries to \"push\" the encodings of two images of the same person (Anchor and Positive) closer together, while \"pulling\" the encodings of two images of different persons (Anchor, Negative) further apart. \n",
        "\n"
      ]
    },
    {
      "cell_type": "markdown",
      "metadata": {
        "id": "IJ2CkPyVZK6L",
        "colab_type": "text"
      },
      "source": [
        "\n",
        "\n",
        "### 1.2 - The Triplet Loss\n",
        "\n",
        "For an image $x$, we denote its encoding $f(x)$, where $f$ is the function computed by the neural network.\n",
        "\n",
        "<!--\n",
        "We will also add a normalization step at the end of our model so that $\\mid \\mid f(x) \\mid \\mid_2 = 1$ (means the vector of encoding should be of norm 1).\n",
        "!-->\n",
        "\n",
        "Training will use triplets of images $(A, P, N)$:  \n",
        "\n",
        "- A is an \"Anchor\" image--a picture of a person. \n",
        "- P is a \"Positive\" image--a picture of the same person as the Anchor image.\n",
        "- N is a \"Negative\" image--a picture of a different person than the Anchor image.\n",
        "\n",
        "These triplets are picked from our training dataset. We will write $(A^{(i)}, P^{(i)}, N^{(i)})$ to denote the $i$-th training example. \n",
        "\n",
        "You'd like to make sure that an image $A^{(i)}$ of an individual is closer to the Positive $P^{(i)}$ than to the Negative image $N^{(i)}$) by at least a margin $\\alpha$:\n",
        "\n",
        "$$\\mid \\mid f(A^{(i)}) - f(P^{(i)}) \\mid \\mid_2^2 + \\alpha < \\mid \\mid f(A^{(i)}) - f(N^{(i)}) \\mid \\mid_2^2$$\n",
        "\n",
        "You would thus like to minimize the following \"triplet cost\":\n",
        "\n",
        "$$\\mathcal{J} = \\sum^{m}_{i=1} \\large[ \\small \\underbrace{\\mid \\mid f(A^{(i)}) - f(P^{(i)}) \\mid \\mid_2^2}_\\text{(1)} - \\underbrace{\\mid \\mid f(A^{(i)}) - f(N^{(i)}) \\mid \\mid_2^2}_\\text{(2)} + \\alpha \\large ] \\small_+ \\tag{3}$$\n",
        "\n",
        "Here, we are using the notation \"$[z]_+$\" to denote $max(z,0)$.  \n",
        "\n",
        "Notes:\n",
        "- The term (1) is the squared distance between the anchor \"A\" and the positive \"P\" for a given triplet; you want this to be small. \n",
        "- The term (2) is the squared distance between the anchor \"A\" and the negative \"N\" for a given triplet, you want this to be relatively large, so it thus makes sense to have a minus sign preceding it. \n",
        "- $\\alpha$ is called the margin. It is a hyperparameter that you should pick manually. We will use $\\alpha = 0.2$. \n",
        "\n",
        "Most implementations also normalize the encoding vectors  to have norm equal one (i.e., $\\mid \\mid f(img)\\mid \\mid_2$=1); you won't have to worry about that here.\n",
        "\n",
        "**Exercise**: Implement the triplet loss as defined by formula (3). Here are the 4 steps:\n",
        "1. Compute the distance between the encodings of \"anchor\" and \"positive\": $\\mid \\mid f(A^{(i)}) - f(P^{(i)}) \\mid \\mid_2^2$\n",
        "2. Compute the distance between the encodings of \"anchor\" and \"negative\": $\\mid \\mid f(A^{(i)}) - f(N^{(i)}) \\mid \\mid_2^2$\n",
        "3. Compute the formula per training example: $ \\mid \\mid f(A^{(i)}) - f(P^{(i)}) \\mid \\mid_2^2 - \\mid \\mid f(A^{(i)}) - f(N^{(i)}) \\mid \\mid_2^2 + \\alpha$\n",
        "3. Compute the full formula by taking the max with zero and summing over the training examples:\n",
        "$$\\mathcal{J} = \\sum^{m}_{i=1} \\large[ \\small \\mid \\mid f(A^{(i)}) - f(P^{(i)}) \\mid \\mid_2^2 - \\mid \\mid f(A^{(i)}) - f(N^{(i)}) \\mid \\mid_2^2+ \\alpha \\large ] \\small_+ \\tag{3}$$\n",
        "\n",
        "Useful functions: `tf.reduce_sum()`, `tf.square()`, `tf.subtract()`, `tf.add()`, `tf.maximum()`.\n",
        "For steps 1 and 2, you will need to sum over the entries of $\\mid \\mid f(A^{(i)}) - f(P^{(i)}) \\mid \\mid_2^2$ and $\\mid \\mid f(A^{(i)}) - f(N^{(i)}) \\mid \\mid_2^2$ while for step 4 you will need to sum over the training examples."
      ]
    },
    {
      "cell_type": "code",
      "metadata": {
        "id": "7JVEdf9aZK6L",
        "colab_type": "code",
        "colab": {}
      },
      "source": [
        "# GRADED FUNCTION: triplet_loss\n",
        "\n",
        "def triplet_loss(y_true, y_pred, alpha = 0.2):\n",
        "    \"\"\"\n",
        "    Implementation of the triplet loss as defined by formula (3)\n",
        "    \n",
        "    Arguments:\n",
        "    y_true -- true labels, required when you define a loss in Keras, you don't need it in this function.\n",
        "    y_pred -- python list containing three objects:\n",
        "            anchor -- the encodings for the anchor images, of shape (None, 128)\n",
        "            positive -- the encodings for the positive images, of shape (None, 128)\n",
        "            negative -- the encodings for the negative images, of shape (None, 128)\n",
        "    \n",
        "    Returns:\n",
        "    loss -- real number, value of the loss\n",
        "    \"\"\"\n",
        "    \n",
        "    anchor, positive, negative = y_pred[0], y_pred[1], y_pred[2]\n",
        "    \n",
        "    ### START CODE HERE ### (≈ 4 lines)\n",
        "    # Step 1: Compute the (encoding) distance between the anchor and the positive, you will need to sum over axis=-1\n",
        "    pos_dist = tf.reduce_sum(tf.square(tf.subtract(anchor, positive)), axis = -1)\n",
        "    # Step 2: Compute the (encoding) distance between the anchor and the negative, you will need to sum over axis=-1\n",
        "    neg_dist = tf.reduce_sum(tf.square(tf.subtract(anchor, negative)), axis = -1)\n",
        "    # Step 3: subtract the two previous distances and add alpha.\n",
        "    basic_loss = tf.add(tf.subtract(pos_dist, neg_dist), alpha)\n",
        "    # Step 4: Take the maximum of basic_loss and 0.0. Sum over the training examples.\n",
        "    loss = tf.reduce_sum(tf.maximum(basic_loss, 0))\n",
        "    ### END CODE HERE ###\n",
        "    \n",
        "    return loss"
      ],
      "execution_count": 0,
      "outputs": []
    },
    {
      "cell_type": "code",
      "metadata": {
        "id": "d_Vs01f-ZK6O",
        "colab_type": "code",
        "outputId": "5b9b49e9-9ba2-41b5-bf59-91ab4fc10a36",
        "colab": {
          "base_uri": "https://localhost:8080/",
          "height": 34
        }
      },
      "source": [
        "with tf.Session() as test:\n",
        "    tf.set_random_seed(1)\n",
        "    y_true = (None, None, None)\n",
        "    y_pred = (tf.random_normal([3, 128], mean=6, stddev=0.1, seed = 1),\n",
        "              tf.random_normal([3, 128], mean=1, stddev=1, seed = 1),\n",
        "              tf.random_normal([3, 128], mean=3, stddev=4, seed = 1))\n",
        "    loss = triplet_loss(y_true, y_pred)\n",
        "    \n",
        "    print(\"loss = \" + str(loss.eval()))"
      ],
      "execution_count": 0,
      "outputs": [
        {
          "output_type": "stream",
          "text": [
            "loss = 528.1427\n"
          ],
          "name": "stdout"
        }
      ]
    },
    {
      "cell_type": "markdown",
      "metadata": {
        "id": "g1EGrmD8ZK6U",
        "colab_type": "text"
      },
      "source": [
        "**Expected Output**:\n",
        "\n",
        "<table>\n",
        "    <tr>\n",
        "        <td>\n",
        "            **loss**\n",
        "        </td>\n",
        "        <td>\n",
        "           528.143\n",
        "        </td>\n",
        "    </tr>\n",
        "\n",
        "</table>"
      ]
    },
    {
      "cell_type": "markdown",
      "metadata": {
        "id": "ncVbfuoKZK6V",
        "colab_type": "text"
      },
      "source": [
        "## 2 - Loading the trained model\n",
        "\n",
        "FaceNet is trained by minimizing the triplet loss. But since training requires a lot of data and a lot of computation, we won't train it from scratch here. Instead, we load a previously trained model. Load a model using the following cell; this might take a couple of minutes to run. "
      ]
    },
    {
      "cell_type": "code",
      "metadata": {
        "id": "Y9Fz6k1eZK6W",
        "colab_type": "code",
        "outputId": "6a225943-43bd-46dd-9ca3-f5dfd68710fc",
        "colab": {
          "base_uri": "https://localhost:8080/",
          "height": 71
        }
      },
      "source": [
        "FRmodel.compile(optimizer = 'adam', loss = triplet_loss, metrics = ['accuracy'])\n",
        "weights_directory = '/content/drive/My Drive/Colab/Workspace/DeepLearn/CNN_Data/Face Recognition OpenFace/weights'\n",
        "load_weights_from_FaceNet(FRmodel, weights_directory)"
      ],
      "execution_count": 14,
      "outputs": [
        {
          "output_type": "stream",
          "text": [
            "WARNING:tensorflow:From /usr/local/lib/python3.6/dist-packages/keras/optimizers.py:793: The name tf.train.Optimizer is deprecated. Please use tf.compat.v1.train.Optimizer instead.\n",
            "\n"
          ],
          "name": "stdout"
        }
      ]
    },
    {
      "cell_type": "markdown",
      "metadata": {
        "id": "U5jgHKVYZK6Z",
        "colab_type": "text"
      },
      "source": [
        "Here're some examples of distances between the encodings between three individuals:\n",
        "\n",
        "\n",
        "\n",
        "Let's now use this model to perform face verification and face recognition! "
      ]
    },
    {
      "cell_type": "markdown",
      "metadata": {
        "id": "_8sFk4RvZK6b",
        "colab_type": "text"
      },
      "source": [
        "## 3 - Applying the model"
      ]
    },
    {
      "cell_type": "markdown",
      "metadata": {
        "id": "v8FLS2YWZK6b",
        "colab_type": "text"
      },
      "source": [
        "Back to the Happy House! Residents are living blissfully since you implemented happiness recognition for the house in an earlier assignment.  \n",
        "\n",
        "However, several issues keep coming up: The Happy House became so happy that every happy person in the neighborhood is coming to hang out in your living room. It is getting really crowded, which is having a negative impact on the residents of the house. All these random happy people are also eating all your food. \n",
        "\n",
        "So, you decide to change the door entry policy, and not just let random happy people enter anymore, even if they are happy! Instead, you'd like to build a **Face verification** system so as to only let people from a specified list come in. To get admitted, each person has to swipe an ID card (identification card) to identify themselves at the door. The face recognition system then checks that they are who they claim to be. "
      ]
    },
    {
      "cell_type": "markdown",
      "metadata": {
        "id": "baAimUAYZK6c",
        "colab_type": "text"
      },
      "source": [
        "### 3.1 - Face Verification\n",
        "\n",
        "Let's build a database containing one encoding vector for each person allowed to enter the happy house. To generate the encoding we use `img_to_encoding(image_path, model)` which basically runs the forward propagation of the model on the specified image. \n",
        "\n",
        "Run the following code to build the database (represented as a python dictionary). This database maps each person's name to a 128-dimensional encoding of their face."
      ]
    },
    {
      "cell_type": "code",
      "metadata": {
        "id": "GGoU5h0Y6PUX",
        "colab_type": "code",
        "colab": {}
      },
      "source": [
        "def detect_faces(image):\n",
        "  # Create a face detector\n",
        "  face_detector = dlib.cnn_face_detection_model_v1('mmod_human_face_detector.dat')\n",
        "\n",
        "  # Run detector and get bounding boxes of the faces on image.\n",
        "  detected_faces = face_detector(image, 1)\n",
        "  face_frames = [(x.rect.left(), x.rect.top(),\n",
        "                    x.rect.right(), x.rect.bottom()) for x in detected_faces]\n",
        "\n",
        "  return face_frames\n",
        "  \n",
        "  \n",
        "  \n",
        "def crop_with_face_frame(image):\n",
        "  # Detect faces\n",
        "  detected_faces = detect_faces(image)\n",
        "  face = None\n",
        "  # Crop faces and plot\n",
        "  for n, face_rect in enumerate(detected_faces):\n",
        "    face = np.array(Image.fromarray(image).crop(face_rect))\n",
        "  return face\n",
        "\n",
        "\n",
        "\n",
        "def process_and_save_image(image_path, save_direc, save = False):\n",
        "  # Load image\n",
        "  image = io.imread(image_path)\n",
        "  \n",
        "  # Get filename\n",
        "  im_name = os.path.split(image_path)[-1]\n",
        "  \n",
        "  # Crop face out of image\n",
        "  image = crop_with_face_frame(image)\n",
        "  \n",
        "  # Resize image for the CNN\n",
        "  image = cv2.resize(image, (96, 96), interpolation = cv2.INTER_AREA)\n",
        "  \n",
        "  im = Image.fromarray(image)\n",
        "  \n",
        "  if save:\n",
        "    im.save(os.path.join(save_direc, im_name))\n",
        "  else:\n",
        "    return image\n",
        "  "
      ],
      "execution_count": 0,
      "outputs": []
    },
    {
      "cell_type": "code",
      "metadata": {
        "id": "d3dCEI2X6c9w",
        "colab_type": "code",
        "colab": {}
      },
      "source": [
        "!mkdir processed_images"
      ],
      "execution_count": 0,
      "outputs": []
    },
    {
      "cell_type": "code",
      "metadata": {
        "id": "-cWhl_GX8XAa",
        "colab_type": "code",
        "colab": {}
      },
      "source": [
        "base_path = '/content/drive/My Drive/Colab/Workspace/DeepLearn/CNN_Data/Face Recognition OpenFace/Github/CNN/Face Recognition'\n",
        "path = os.path.join(base_path, 'images')\n",
        "save_direc = os.path.join(base_path, 'processed_images')\n",
        "\n",
        "for file in files:\n",
        "  direc = os.path.join(path, file)\n",
        "  if '.png' in file:\n",
        "    new_path = direc[:-3] + \"jpg\"\n",
        "    Image.open(direc).convert('RGB').save(new_path , \"JPEG\")\n",
        "    process_and_save_image(new_path, save_direc, save = True)\n",
        "  else:\n",
        "    process_and_save_image(direc, save_direc, save = True)\n",
        "  "
      ],
      "execution_count": 0,
      "outputs": []
    },
    {
      "cell_type": "code",
      "metadata": {
        "id": "GWSUOqqCZK6d",
        "colab_type": "code",
        "colab": {}
      },
      "source": [
        "database = {}\n",
        "database[\"danielle\"] = img_to_encoding(\"processed_images/danielle.jpg\", FRmodel)\n",
        "database[\"younes\"] = img_to_encoding(\"processed_images/younes.jpg\", FRmodel)\n",
        "database[\"tian\"] = img_to_encoding(\"processed_images/tian.jpg\", FRmodel)\n",
        "database[\"andrew\"] = img_to_encoding(\"processed_images/andrew.jpg\", FRmodel)\n",
        "database[\"kian\"] = img_to_encoding(\"processed_images/kian.jpg\", FRmodel)\n",
        "database[\"dan\"] = img_to_encoding(\"processed_images/dan.jpg\", FRmodel)\n",
        "database[\"sebastiano\"] = img_to_encoding(\"processed_images/sebastiano.jpg\", FRmodel)\n",
        "database[\"bertrand\"] = img_to_encoding(\"processed_images/bertrand.jpg\", FRmodel)\n",
        "database[\"kevin\"] = img_to_encoding(\"processed_images/kevin.jpg\", FRmodel)\n",
        "database[\"felix\"] = img_to_encoding(\"processed_images/felix.jpg\", FRmodel)\n",
        "database[\"benoit\"] = img_to_encoding(\"processed_images/benoit.jpg\", FRmodel)\n",
        "database[\"arnaud\"] = img_to_encoding(\"processed_images/arnaud.jpg\", FRmodel)\n",
        "database[\"sobhan\"] = img_to_encoding(\"processed_images/sobhan.jpg\", FRmodel)\n",
        "database[\"sobhan1\"] = img_to_encoding(\"processed_images/sobhan1.jpg\", FRmodel)\n",
        "database[\"neeraj\"] = img_to_encoding(\"processed_images/Neeraj.jpg\", FRmodel)"
      ],
      "execution_count": 0,
      "outputs": []
    },
    {
      "cell_type": "markdown",
      "metadata": {
        "id": "p0_RbFdDZK6k",
        "colab_type": "text"
      },
      "source": [
        "Now, when someone shows up at your front door and swipes their ID card (thus giving you their name), you can look up their encoding in the database, and use it to check if the person standing at the front door matches the name on the ID.\n",
        "\n",
        "**Exercise**: Implement the verify() function which checks if the front-door camera picture (`image_path`) is actually the person called \"identity\". You will have to go through the following steps:\n",
        "1. Compute the encoding of the image from image_path\n",
        "2. Compute the distance about this encoding and the encoding of the identity image stored in the database\n",
        "3. Open the door if the distance is less than 0.7, else do not open.\n",
        "\n",
        "As presented above, you should use the L2 distance (np.linalg.norm). (Note: In this implementation, compare the L2 distance, not the square of the L2 distance, to the threshold 0.7.) "
      ]
    },
    {
      "cell_type": "code",
      "metadata": {
        "id": "xBNSUiB-ZK6l",
        "colab_type": "code",
        "colab": {}
      },
      "source": [
        "# GRADED FUNCTION: verify\n",
        "\n",
        "def verify(image_path, identity, database, model):\n",
        "    \"\"\"\n",
        "    Function that verifies if the person on the \"image_path\" image is \"identity\".\n",
        "    \n",
        "    Arguments:\n",
        "    image_path -- path to an image\n",
        "    identity -- string, name of the person you'd like to verify the identity. Has to be a resident of the Happy house.\n",
        "    database -- python dictionary mapping names of allowed people's names (strings) to their encodings (vectors).\n",
        "    model -- your Inception model instance in Keras\n",
        "    \n",
        "    Returns:\n",
        "    dist -- distance between the image_path and the image of \"identity\" in the database.\n",
        "    door_open -- True, if the door should open. False otherwise.\n",
        "    \"\"\"\n",
        "    \n",
        "    # Process image\n",
        "    image_name = os.path.split(image_path)[-1]\n",
        "    save_direc = '/tmp'\n",
        "    process_and_save_image(image_path, save_direc , save = True)\n",
        "    \n",
        "   # Compute the encoding for the image. Use img_to_encoding() see example above. (≈ 1 line)\n",
        "    image_path = os.path.join(save_direc, image_name)\n",
        "    io.imshow(image_path)\n",
        "    encoding = img_to_encoding(image_path, model)\n",
        "    \n",
        "    # Step 2: Compute distance with identity's image (≈ 1 line)\n",
        "    dist = np.linalg.norm(database[identity] - encoding)\n",
        "    \n",
        "    # Step 3: Open the door if dist < 0.7, else don't open (≈ 3 lines)\n",
        "    if dist < 0.7:\n",
        "        print(\"It's \" + str(identity) + \", welcome home!\")\n",
        "        door_open = None\n",
        "    else:\n",
        "        print(\"It's not \" + str(identity) + \", please go away\")\n",
        "        door_open = None\n",
        "        \n",
        "    ### END CODE HERE ###\n",
        "        \n",
        "    return dist, door_open"
      ],
      "execution_count": 0,
      "outputs": []
    },
    {
      "cell_type": "markdown",
      "metadata": {
        "id": "5n0ZnAGNZK6v",
        "colab_type": "text"
      },
      "source": [
        "Younes is trying to enter the Happy House and the camera takes a picture of him (\"images/camera_0.jpg\")."
      ]
    },
    {
      "cell_type": "code",
      "metadata": {
        "id": "C2nkptYFZK6w",
        "colab_type": "code",
        "outputId": "583567df-2041-4d48-d4b1-75d9e18752c1",
        "colab": {
          "base_uri": "https://localhost:8080/",
          "height": 331
        }
      },
      "source": [
        "verify(\"/content/sobhan1.jpg\", \"sobhan\", database, FRmodel)"
      ],
      "execution_count": 49,
      "outputs": [
        {
          "output_type": "stream",
          "text": [
            "It's not sobhan, please go away\n"
          ],
          "name": "stdout"
        },
        {
          "output_type": "execute_result",
          "data": {
            "text/plain": [
              "(0.9256829, None)"
            ]
          },
          "metadata": {
            "tags": []
          },
          "execution_count": 49
        },
        {
          "output_type": "display_data",
          "data": {
            "image/png": "[encoded data removed]",
            "text/plain": [
              "<Figure size 432x288 with 1 Axes>"
            ]
          },
          "metadata": {
            "tags": []
          }
        }
      ]
    },
    {
      "cell_type": "markdown",
      "metadata": {
        "collapsed": true,
        "id": "OL2CZMNAZK6z",
        "colab_type": "text"
      },
      "source": [
        "**Expected Output**:\n",
        "\n",
        "<table>\n",
        "    <tr>\n",
        "        <td>\n",
        "            **It's younes, welcome home!**\n",
        "        </td>\n",
        "        <td>\n",
        "           (0.65939283, True)\n",
        "        </td>\n",
        "    </tr>\n",
        "\n",
        "</table>"
      ]
    },
    {
      "cell_type": "markdown",
      "metadata": {
        "collapsed": true,
        "id": "L-lES5qeZK60",
        "colab_type": "text"
      },
      "source": [
        "Benoit, who broke the aquarium last weekend, has been banned from the house and removed from the database. He stole Kian's ID card and came back to the house to try to present himself as Kian. The front-door camera took a picture of Benoit (\"images/camera_2.jpg). Let's run the verification algorithm to check if benoit can enter."
      ]
    },
    {
      "cell_type": "code",
      "metadata": {
        "id": "5tgD_TFKZK60",
        "colab_type": "code",
        "outputId": "f3a436e1-f23e-441d-8acd-3f33da9c4436",
        "colab": {
          "base_uri": "https://localhost:8080/",
          "height": 51
        }
      },
      "source": [
        "verify(\"images/kian.jpg\", \"kian\", database, FRmodel)"
      ],
      "execution_count": 0,
      "outputs": [
        {
          "output_type": "stream",
          "text": [
            "It's kian, welcome home!\n"
          ],
          "name": "stdout"
        },
        {
          "output_type": "execute_result",
          "data": {
            "text/plain": [
              "(0.0, None)"
            ]
          },
          "metadata": {
            "tags": []
          },
          "execution_count": 23
        }
      ]
    },
    {
      "cell_type": "markdown",
      "metadata": {
        "id": "-rtbtlzXZK63",
        "colab_type": "text"
      },
      "source": [
        "**Expected Output**:\n",
        "\n",
        "<table>\n",
        "    <tr>\n",
        "        <td>\n",
        "            **It's not kian, please go away**\n",
        "        </td>\n",
        "        <td>\n",
        "           (0.86224014, False)\n",
        "        </td>\n",
        "    </tr>\n",
        "\n",
        "</table>"
      ]
    },
    {
      "cell_type": "markdown",
      "metadata": {
        "id": "-WMzzYgjZK63",
        "colab_type": "text"
      },
      "source": [
        "### 3.2 - Face Recognition\n",
        "\n",
        "Your face verification system is mostly working well. But since Kian got his ID card stolen, when he came back to the house that evening he couldn't get in! \n",
        "\n",
        "To reduce such shenanigans, you'd like to change your face verification system to a face recognition system. This way, no one has to carry an ID card anymore. An authorized person can just walk up to the house, and the front door will unlock for them! \n",
        "\n",
        "You'll implement a face recognition system that takes as input an image, and figures out if it is one of the authorized persons (and if so, who). Unlike the previous face verification system, we will no longer get a person's name as another input. \n",
        "\n",
        "**Exercise**: Implement `who_is_it()`. You will have to go through the following steps:\n",
        "1. Compute the target encoding of the image from image_path\n",
        "2. Find the encoding from the database that has smallest distance with the target encoding. \n",
        "    - Initialize the `min_dist` variable to a large enough number (100). It will help you keep track of what is the closest encoding to the input's encoding.\n",
        "    - Loop over the database dictionary's names and encodings. To loop use `for (name, db_enc) in database.items()`.\n",
        "        - Compute L2 distance between the target \"encoding\" and the current \"encoding\" from the database.\n",
        "        - If this distance is less than the min_dist, then set min_dist to dist, and identity to name."
      ]
    },
    {
      "cell_type": "code",
      "metadata": {
        "id": "2VmspCwwZK64",
        "colab_type": "code",
        "colab": {}
      },
      "source": [
        "# GRADED FUNCTION: who_is_it\n",
        "\n",
        "def who_is_it(image_path, database, model):\n",
        "    \"\"\"\n",
        "    Implements face recognition for the happy house by finding who is the person on the image_path image.\n",
        "    \n",
        "    Arguments:\n",
        "    image_path -- path to an image\n",
        "    database -- database containing image encodings along with the name of the person on the image\n",
        "    model -- your Inception model instance in Keras\n",
        "    \n",
        "    Returns:\n",
        "    min_dist -- the minimum distance between image_path encoding and the encodings from the database\n",
        "    identity -- string, the name prediction for the person on image_path\n",
        "    \"\"\"\n",
        "    \n",
        "    ### START CODE HERE ### \n",
        "    \n",
        "    ## Step 1: Compute the target \"encoding\" for the image. Use img_to_encoding() see example above. ## (≈ 1 line)\n",
        "    encoding = img_to_encoding(image_path, model)\n",
        "    \n",
        "    ## Step 2: Find the closest encoding ##\n",
        "    \n",
        "    # Initialize \"min_dist\" to a large value, say 100 (≈1 line)\n",
        "    min_dist = 1e3\n",
        "    \n",
        "    # Loop over the database dictionary's names and encodings.\n",
        "    for (name, db_enc) in database.items():\n",
        "        \n",
        "        # Compute L2 distance between the target \"encoding\" and the current \"emb\" from the database. (≈ 1 line)\n",
        "        dist = np.linalg.norm(database[name] - encoding)\n",
        "\n",
        "        # If this distance is less than the min_dist, then set min_dist to dist, and identity to name. (≈ 3 lines)\n",
        "        if dist < min_dist:\n",
        "            min_dist = dist\n",
        "            identity = name\n",
        "\n",
        "    ### END CODE HERE ###\n",
        "    \n",
        "    if min_dist > 0.7:\n",
        "        print(\"Not in the database.\")\n",
        "    else:\n",
        "        print (\"it's \" + str(identity) + \", the distance is \" + str(min_dist))\n",
        "        \n",
        "    return min_dist, identity"
      ],
      "execution_count": 0,
      "outputs": []
    },
    {
      "cell_type": "markdown",
      "metadata": {
        "id": "UM8wUYgrZK6-",
        "colab_type": "text"
      },
      "source": [
        "Younes is at the front-door and the camera takes a picture of him (\"images/camera_0.jpg\"). Let's see if your who_it_is() algorithm identifies Younes. "
      ]
    },
    {
      "cell_type": "code",
      "metadata": {
        "scrolled": false,
        "id": "lTv-QbaHZK6_",
        "colab_type": "code",
        "outputId": "3b198a0a-5129-46d6-b796-b54c2ad83152",
        "colab": {
          "base_uri": "https://localhost:8080/",
          "height": 51
        }
      },
      "source": [
        "who_is_it(\"/content/photo3.jpg\", database, FRmodel)"
      ],
      "execution_count": 54,
      "outputs": [
        {
          "output_type": "stream",
          "text": [
            "it's sobhan, the distance is 0.5752792\n"
          ],
          "name": "stdout"
        },
        {
          "output_type": "execute_result",
          "data": {
            "text/plain": [
              "(0.5752792, 'sobhan')"
            ]
          },
          "metadata": {
            "tags": []
          },
          "execution_count": 54
        }
      ]
    },
    {
      "cell_type": "markdown",
      "metadata": {
        "id": "9mfuxlHAZK7H",
        "colab_type": "text"
      },
      "source": [
        "**Expected Output**:\n",
        "\n",
        "<table>\n",
        "    <tr>\n",
        "        <td>\n",
        "            **it's younes, the distance is 0.659393**\n",
        "        </td>\n",
        "        <td>\n",
        "           (0.65939283, 'younes')\n",
        "        </td>\n",
        "    </tr>\n",
        "\n",
        "</table>"
      ]
    },
    {
      "cell_type": "markdown",
      "metadata": {
        "id": "6u0CWttQZK7H",
        "colab_type": "text"
      },
      "source": [
        "You can change \"`camera_0.jpg`\" (picture of younes) to \"`camera_1.jpg`\" (picture of bertrand) and see the result."
      ]
    },
    {
      "cell_type": "markdown",
      "metadata": {
        "id": "CE0-Rir2ZK7I",
        "colab_type": "text"
      },
      "source": [
        "Your Happy House is running well. It only lets in authorized persons, and people don't need to carry an ID card around anymore! \n",
        "\n",
        "You've now seen how a state-of-the-art face recognition system works.\n",
        "\n",
        "Although we won't implement it here, here're some ways to further improve the algorithm:\n",
        "- Put more images of each person (under different lighting conditions, taken on different days, etc.) into the database. Then given a new image, compare the new face to multiple pictures of the person. This would increae accuracy.\n",
        "- Crop the images to just contain the face, and less of the \"border\" region around the face. This preprocessing removes some of the irrelevant pixels around the face, and also makes the algorithm more robust.\n"
      ]
    },
    {
      "cell_type": "markdown",
      "metadata": {
        "id": "RMDsAYF4ZK7J",
        "colab_type": "text"
      },
      "source": [
        "<font color='blue'>\n",
        "**What you should remember**:\n",
        "- Face verification solves an easier 1:1 matching problem; face recognition addresses a harder 1:K matching problem. \n",
        "- The triplet loss is an effective loss function for training a neural network to learn an encoding of a face image.\n",
        "- The same encoding can be used for verification and recognition. Measuring distances between two images' encodings allows you to determine whether they are pictures of the same person. "
      ]
    },
    {
      "cell_type": "markdown",
      "metadata": {
        "id": "BnXeJ0JcZK7K",
        "colab_type": "text"
      },
      "source": [
        "Congrats on finishing this assignment! \n"
      ]
    },
    {
      "cell_type": "markdown",
      "metadata": {
        "id": "FiX7bX2CZK7K",
        "colab_type": "text"
      },
      "source": [
        "### References:\n",
        "\n",
        "- Florian Schroff, Dmitry Kalenichenko, James Philbin (2015). [FaceNet: A Unified Embedding for Face Recognition and Clustering](https://arxiv.org/pdf/1503.03832.pdf)\n",
        "- Yaniv Taigman, Ming Yang, Marc'Aurelio Ranzato, Lior Wolf (2014). [DeepFace: Closing the gap to human-level performance in face verification](https://research.fb.com/wp-content/uploads/2016/11/deepface-closing-the-gap-to-human-level-performance-in-face-verification.pdf) \n",
        "- The pretrained model we use is inspired by Victor Sy Wang's implementation and was loaded using his code: https://github.com/iwantooxxoox/Keras-OpenFace.\n",
        "- Our implementation also took a lot of inspiration from the official FaceNet github repository: https://github.com/davidsandberg/facenet \n"
      ]
    }
  ]
}