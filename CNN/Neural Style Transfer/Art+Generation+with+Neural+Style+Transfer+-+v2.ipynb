{
  "nbformat": 4,
  "nbformat_minor": 0,
  "metadata": {
    "coursera": {
      "course_slug": "convolutional-neural-networks",
      "graded_item_id": "owWbQ",
      "launcher_item_id": "lEthw"
    },
    "kernelspec": {
      "name": "python3",
      "display_name": "Python 3"
    },
    "language_info": {
      "codemirror_mode": {
        "name": "ipython",
        "version": 3
      },
      "file_extension": ".py",
      "mimetype": "text/x-python",
      "name": "python",
      "nbconvert_exporter": "python",
      "pygments_lexer": "ipython3",
      "version": "3.6.0"
    },
    "colab": {
      "name": "Art+Generation+with+Neural+Style+Transfer+-+v2.ipynb",
      "version": "0.3.2",
      "provenance": [],
      "toc_visible": true
    },
    "accelerator": "GPU"
  },
  "cells": [
    {
      "cell_type": "markdown",
      "metadata": {
        "id": "PMT1TMPMZulF",
        "colab_type": "text"
      },
      "source": [
        "# **Deep Learning & Art: Neural Style Transfer**\n",
        "\n",
        "Implement neural style transfer using tensorflow\n",
        "\n",
        "![TajMahal](https://drive.google.com/uc?id=1FYCjCC9DbjQJY_2bZi-5Hk13sQhc0KXS)\n",
        "\n",
        "\n",
        "     \n",
        "        \n",
        "          \n",
        "            \n",
        "            \n",
        "           \n",
        "\n",
        "\n",
        "\n"
      ]
    },
    {
      "cell_type": "markdown",
      "metadata": {
        "id": "Gj5xXZgSpY0m",
        "colab_type": "text"
      },
      "source": [
        "#1 - Load and Store"
      ]
    },
    {
      "cell_type": "markdown",
      "metadata": {
        "id": "Y8J7Im4rnt0g",
        "colab_type": "text"
      },
      "source": [
        "##Fetch required libraries"
      ]
    },
    {
      "cell_type": "code",
      "metadata": {
        "id": "8Q20fNOunoAN",
        "colab_type": "code",
        "colab": {}
      },
      "source": [
        "import os\n",
        "import sys\n",
        "import scipy.io\n",
        "import scipy.misc\n",
        "import matplotlib.pyplot as plt\n",
        "from matplotlib.pyplot import imshow\n",
        "from PIL import Image\n",
        "import numpy as np\n",
        "import tensorflow as tf\n",
        "from skimage import io\n",
        "from os.path import join\n",
        "\n",
        "%matplotlib inline"
      ],
      "execution_count": 0,
      "outputs": []
    },
    {
      "cell_type": "markdown",
      "metadata": {
        "id": "ymDU2-lwjt-C",
        "colab_type": "text"
      },
      "source": [
        "## Load Google Drive to access data files"
      ]
    },
    {
      "cell_type": "code",
      "metadata": {
        "id": "sgA3EScubIjC",
        "colab_type": "code",
        "outputId": "357a1839-c092-4eb9-9e97-4378eac839bf",
        "colab": {
          "base_uri": "https://localhost:8080/",
          "height": 122
        }
      },
      "source": [
        "from os.path import join\n",
        "from google.colab import drive\n",
        "\n",
        "ROOT = \"/content/drive\"\n",
        "drive.mount(ROOT)"
      ],
      "execution_count": 2,
      "outputs": [
        {
          "output_type": "stream",
          "text": [
            "Go to this URL in a browser: https://accounts.google.com/o/oauth2/auth?client_id=947318989803-6bn6qk8qdgf4n4g3pfee6491hc0brc4i.apps.googleusercontent.com&redirect_uri=urn%3Aietf%3Awg%3Aoauth%3A2.0%3Aoob&scope=email%20https%3A%2F%2Fwww.googleapis.com%2Fauth%2Fdocs.test%20https%3A%2F%2Fwww.googleapis.com%2Fauth%2Fdrive%20https%3A%2F%2Fwww.googleapis.com%2Fauth%2Fdrive.photos.readonly%20https%3A%2F%2Fwww.googleapis.com%2Fauth%2Fpeopleapi.readonly&response_type=code\n",
            "\n",
            "Enter your authorization code:\n",
            "··········\n",
            "Mounted at /content/drive\n"
          ],
          "name": "stdout"
        }
      ]
    },
    {
      "cell_type": "markdown",
      "metadata": {
        "id": "weLd3c_dj8_q",
        "colab_type": "text"
      },
      "source": [
        "## Steps to setup  and use Github repo to Google Drive (Optional)\n",
        "If not added already\n",
        "\n"
      ]
    },
    {
      "cell_type": "code",
      "metadata": {
        "id": "n5sCwRw4kZDD",
        "colab_type": "code",
        "colab": {}
      },
      "source": [
        "# Clone git repo to path provided\n",
        "path = join(Root, 'My Drive/Colab/Workspace/DeepLearn/CNN/')\n",
        "!git clone https://github.com/SindhuSobhan/DeepLearn.git \"{path}\""
      ],
      "execution_count": 0,
      "outputs": []
    },
    {
      "cell_type": "code",
      "metadata": {
        "id": "mdQ4_tXnlH1o",
        "colab_type": "code",
        "colab": {}
      },
      "source": [
        "# change working directory\n",
        "cd '/content/drive/My Drive/Colab/Workspace/DeepLearn/CNN/'"
      ],
      "execution_count": 0,
      "outputs": []
    },
    {
      "cell_type": "code",
      "metadata": {
        "id": "5GfiizBPiqaA",
        "colab_type": "code",
        "outputId": "1b17a370-efdc-46f0-b180-ec14ec9cef82",
        "colab": {
          "base_uri": "https://localhost:8080/",
          "height": 51
        }
      },
      "source": [
        "# check git branch\n",
        "!git branch"
      ],
      "execution_count": 0,
      "outputs": [
        {
          "output_type": "stream",
          "text": [
            "* \u001b[32mCNN\u001b[m\n",
            "  master\u001b[m\n"
          ],
          "name": "stdout"
        }
      ]
    },
    {
      "cell_type": "code",
      "metadata": {
        "id": "jPs5Ujvgitpg",
        "colab_type": "code",
        "outputId": "9b73abe4-7e43-457b-ba85-ba664a9295ef",
        "colab": {
          "base_uri": "https://localhost:8080/",
          "height": 51
        }
      },
      "source": [
        "# If needed change branch\n",
        "!git checkout CNN"
      ],
      "execution_count": 0,
      "outputs": [
        {
          "output_type": "stream",
          "text": [
            "Branch 'CNN' set up to track remote branch 'CNN' from 'origin'.\n",
            "Switched to a new branch 'CNN'\n"
          ],
          "name": "stdout"
        }
      ]
    },
    {
      "cell_type": "code",
      "metadata": {
        "id": "miqoKI7Yi8uQ",
        "colab_type": "code",
        "outputId": "4cdcac2f-740b-4c3e-f8c5-00f2ae9f9521",
        "colab": {
          "base_uri": "https://localhost:8080/",
          "height": 34
        }
      },
      "source": [
        "# Pull if needed\n",
        "!git pull"
      ],
      "execution_count": 0,
      "outputs": [
        {
          "output_type": "stream",
          "text": [
            "Already up to date.\n"
          ],
          "name": "stdout"
        }
      ]
    },
    {
      "cell_type": "code",
      "metadata": {
        "id": "4uKVR5EZkRcF",
        "colab_type": "code",
        "outputId": "e6d56e54-c7eb-4bee-f5d4-38cc59f004b6",
        "colab": {
          "base_uri": "https://localhost:8080/",
          "height": 34
        }
      },
      "source": [
        "# Change working directory to folder containing necessary files\n",
        "cd '/content/drive/My Drive/Colab/Workspace/DeepLearn/CNN/CNN'"
      ],
      "execution_count": 0,
      "outputs": [
        {
          "output_type": "stream",
          "text": [
            "/content/drive/My Drive/Colab/Workspace/DeepLearn/CNN/CNN\n"
          ],
          "name": "stdout"
        }
      ]
    },
    {
      "cell_type": "markdown",
      "metadata": {
        "id": "6qDM8W5Vmuib",
        "colab_type": "text"
      },
      "source": [
        "## Steps to use Github without Google Drive (Recommended)"
      ]
    },
    {
      "cell_type": "code",
      "metadata": {
        "id": "Tj9xZ445k0zg",
        "colab_type": "code",
        "outputId": "f1763819-cc12-4b68-90e8-fdbee6f251bf",
        "colab": {
          "base_uri": "https://localhost:8080/",
          "height": 136
        }
      },
      "source": [
        "# Setup Git repo to Content/Github directory\n",
        "path = join('/content', 'Github')\n",
        "!git clone https://github.com/SindhuSobhan/DeepLearn.git \"{path}\""
      ],
      "execution_count": 3,
      "outputs": [
        {
          "output_type": "stream",
          "text": [
            "Cloning into '/content/Github'...\n",
            "remote: Enumerating objects: 110, done.\u001b[K\n",
            "remote: Counting objects:   0% (1/110)\u001b[K\rremote: Counting objects:   1% (2/110)\u001b[K\rremote: Counting objects:   2% (3/110)\u001b[K\rremote: Counting objects:   3% (4/110)\u001b[K\rremote: Counting objects:   4% (5/110)\u001b[K\rremote: Counting objects:   5% (6/110)\u001b[K\rremote: Counting objects:   6% (7/110)\u001b[K\rremote: Counting objects:   7% (8/110)\u001b[K\rremote: Counting objects:   8% (9/110)\u001b[K\rremote: Counting objects:   9% (10/110)\u001b[K\rremote: Counting objects:  10% (11/110)\u001b[K\rremote: Counting objects:  11% (13/110)\u001b[K\rremote: Counting objects:  12% (14/110)\u001b[K\rremote: Counting objects:  13% (15/110)\u001b[K\rremote: Counting objects:  14% (16/110)\u001b[K\rremote: Counting objects:  15% (17/110)\u001b[K\rremote: Counting objects:  16% (18/110)\u001b[K\rremote: Counting objects:  17% (19/110)\u001b[K\rremote: Counting objects:  18% (20/110)\u001b[K\rremote: Counting objects:  19% (21/110)\u001b[K\rremote: Counting objects:  20% (22/110)\u001b[K\rremote: Counting objects:  21% (24/110)\u001b[K\rremote: Counting objects:  22% (25/110)\u001b[K\rremote: Counting objects:  23% (26/110)\u001b[K\rremote: Counting objects:  24% (27/110)\u001b[K\rremote: Counting objects:  25% (28/110)\u001b[K\rremote: Counting objects:  26% (29/110)\u001b[K\rremote: Counting objects:  27% (30/110)\u001b[K\rremote: Counting objects:  28% (31/110)\u001b[K\rremote: Counting objects:  29% (32/110)\u001b[K\rremote: Counting objects:  30% (33/110)\u001b[K\rremote: Counting objects:  31% (35/110)\u001b[K\rremote: Counting objects:  32% (36/110)\u001b[K\rremote: Counting objects:  33% (37/110)\u001b[K\rremote: Counting objects:  34% (38/110)\u001b[K\rremote: Counting objects:  35% (39/110)\u001b[K\rremote: Counting objects:  36% (40/110)\u001b[K\rremote: Counting objects:  37% (41/110)\u001b[K\rremote: Counting objects:  38% (42/110)\u001b[K\rremote: Counting objects:  39% (43/110)\u001b[K\rremote: Counting objects:  40% (44/110)\u001b[K\rremote: Counting objects:  41% (46/110)\u001b[K\rremote: Counting objects:  42% (47/110)\u001b[K\rremote: Counting objects:  43% (48/110)\u001b[K\rremote: Counting objects:  44% (49/110)\u001b[K\rremote: Counting objects:  45% (50/110)\u001b[K\rremote: Counting objects:  46% (51/110)\u001b[K\rremote: Counting objects:  47% (52/110)\u001b[K\rremote: Counting objects:  48% (53/110)\u001b[K\rremote: Counting objects:  49% (54/110)\u001b[K\rremote: Counting objects:  50% (55/110)\u001b[K\rremote: Counting objects:  51% (57/110)\u001b[K\rremote: Counting objects:  52% (58/110)\u001b[K\rremote: Counting objects:  53% (59/110)\u001b[K\rremote: Counting objects:  54% (60/110)\u001b[K\rremote: Counting objects:  55% (61/110)\u001b[K\rremote: Counting objects:  56% (62/110)\u001b[K\rremote: Counting objects:  57% (63/110)\u001b[K\rremote: Counting objects:  58% (64/110)\u001b[K\rremote: Counting objects:  59% (65/110)\u001b[K\rremote: Counting objects:  60% (66/110)\u001b[K\rremote: Counting objects:  61% (68/110)\u001b[K\rremote: Counting objects:  62% (69/110)\u001b[K\rremote: Counting objects:  63% (70/110)\u001b[K\rremote: Counting objects:  64% (71/110)\u001b[K\rremote: Counting objects:  65% (72/110)\u001b[K\rremote: Counting objects:  66% (73/110)\u001b[K\rremote: Counting objects:  67% (74/110)\u001b[K\rremote: Counting objects:  68% (75/110)\u001b[K\rremote: Counting objects:  69% (76/110)\u001b[K\rremote: Counting objects:  70% (77/110)\u001b[K\rremote: Counting objects:  71% (79/110)\u001b[K\rremote: Counting objects:  72% (80/110)\u001b[K\rremote: Counting objects:  73% (81/110)\u001b[K\rremote: Counting objects:  74% (82/110)\u001b[K\rremote: Counting objects:  75% (83/110)\u001b[K\rremote: Counting objects:  76% (84/110)\u001b[K\rremote: Counting objects:  77% (85/110)\u001b[K\rremote: Counting objects:  78% (86/110)\u001b[K\rremote: Counting objects:  79% (87/110)\u001b[K\rremote: Counting objects:  80% (88/110)\u001b[K\rremote: Counting objects:  81% (90/110)\u001b[K\rremote: Counting objects:  82% (91/110)\u001b[K\rremote: Counting objects:  83% (92/110)\u001b[K\rremote: Counting objects:  84% (93/110)\u001b[K\rremote: Counting objects:  85% (94/110)\u001b[K\rremote: Counting objects:  86% (95/110)\u001b[K\rremote: Counting objects:  87% (96/110)\u001b[K\rremote: Counting objects:  88% (97/110)\u001b[K\rremote: Counting objects:  89% (98/110)\u001b[K\rremote: Counting objects:  90% (99/110)\u001b[K\rremote: Counting objects:  91% (101/110)\u001b[K\rremote: Counting objects:  92% (102/110)\u001b[K\rremote: Counting objects:  93% (103/110)\u001b[K\rremote: Counting objects:  94% (104/110)\u001b[K\rremote: Counting objects:  95% (105/110)\u001b[K\rremote: Counting objects:  96% (106/110)\u001b[K\rremote: Counting objects:  97% (107/110)\u001b[K\rremote: Counting objects:  98% (108/110)\u001b[K\rremote: Counting objects:  99% (109/110)\u001b[K\rremote: Counting objects: 100% (110/110)\u001b[K\rremote: Counting objects: 100% (110/110), done.\u001b[K\n",
            "remote: Compressing objects: 100% (99/99), done.\u001b[K\n",
            "remote: Total 110 (delta 21), reused 52 (delta 7), pack-reused 0\u001b[K\n",
            "Receiving objects: 100% (110/110), 17.91 MiB | 30.11 MiB/s, done.\n",
            "Resolving deltas: 100% (21/21), done.\n"
          ],
          "name": "stdout"
        }
      ]
    },
    {
      "cell_type": "code",
      "metadata": {
        "id": "hvBSWK2wk9Ap",
        "colab_type": "code",
        "outputId": "45e1fd06-07ac-4396-8e02-4ac31d1c0cef",
        "colab": {
          "base_uri": "https://localhost:8080/",
          "height": 34
        }
      },
      "source": [
        "# Change working directory\n",
        "cd '/content/Github'"
      ],
      "execution_count": 4,
      "outputs": [
        {
          "output_type": "stream",
          "text": [
            "/content/Github\n"
          ],
          "name": "stdout"
        }
      ]
    },
    {
      "cell_type": "code",
      "metadata": {
        "id": "TA7CKHMalmID",
        "colab_type": "code",
        "outputId": "ca5e430a-71c5-4870-db77-2eaa35d692bd",
        "colab": {
          "base_uri": "https://localhost:8080/",
          "height": 51
        }
      },
      "source": [
        "# Switch branch if needed\n",
        "!git checkout CNN\n",
        "# Pull if required\n",
        "#!git pull"
      ],
      "execution_count": 5,
      "outputs": [
        {
          "output_type": "stream",
          "text": [
            "Branch 'CNN' set up to track remote branch 'CNN' from 'origin'.\n",
            "Switched to a new branch 'CNN'\n"
          ],
          "name": "stdout"
        }
      ]
    },
    {
      "cell_type": "code",
      "metadata": {
        "id": "q7OZbmrdlt8q",
        "colab_type": "code",
        "outputId": "8f7c060b-1806-4218-e934-9d5b3825158c",
        "colab": {
          "base_uri": "https://localhost:8080/",
          "height": 34
        }
      },
      "source": [
        "# Switch current working folder to Github folder containing files\n",
        "cd '/content/Github/CNN/Neural Style Transfer'"
      ],
      "execution_count": 1,
      "outputs": [
        {
          "output_type": "stream",
          "text": [
            "/content/Github/CNN/Neural Style Transfer\n"
          ],
          "name": "stdout"
        }
      ]
    },
    {
      "cell_type": "markdown",
      "metadata": {
        "id": "1RggTxR5n3gl",
        "colab_type": "text"
      },
      "source": [
        "## Fetch Custom Libraries (from git or Drive)"
      ]
    },
    {
      "cell_type": "code",
      "metadata": {
        "id": "LcUFitIon78p",
        "colab_type": "code",
        "colab": {}
      },
      "source": [
        "# Custom library containing functions to preprocess and process images\n",
        "# This is a third party library and uses an older version of scipy commands which may cause compatibility issues\n",
        "from nst_utils import *\n",
        "\n",
        "# Execute the code below if the you have scipy 1.3 or later installed \n",
        "# This is to enable scipy.misc commands used by the third party library above.\n",
        "# Some of the commands can be replaced with openCV commands or skimage commands\n",
        "\n",
        "#!pip install -U scipy==1.2.0"
      ],
      "execution_count": 0,
      "outputs": []
    },
    {
      "cell_type": "markdown",
      "metadata": {
        "id": "2Mh-thOnqTaq",
        "colab_type": "text"
      },
      "source": [
        "#2 - Neural Style Transfer (Function Definitions)"
      ]
    },
    {
      "cell_type": "markdown",
      "metadata": {
        "id": "d1l3EgLYZulM",
        "colab_type": "text"
      },
      "source": [
        "## 1 - Problem Statement\n",
        "\n",
        "Neural Style Transfer (NST) is one of the most fun techniques in deep learning. As seen below, it merges two images, namely, a \"content\" image (C) and a \"style\" image (S), to create a \"generated\" image (G). The generated image G combines the \"content\" of the image C with the \"style\" of image S. \n",
        "\n",
        "In this example, you are going to generate an image of the Louvre museum in Paris (content image C), mixed with a painting by Claude Monet, a leader of the impressionist movement (style image S).\n",
        "<img src=\"https://github.com/SindhuSobhan/DeepLearn/blob/CNN/CNN/images/louvre_generated.png?raw=1\" style=\"width:750px;height:200px;\">\n",
        "\n",
        "Let's see how you can do this. "
      ]
    },
    {
      "cell_type": "markdown",
      "metadata": {
        "id": "b-CIQeycZulP",
        "colab_type": "text"
      },
      "source": [
        "## 2 - Transfer Learning\n",
        "\n",
        "Neural Style Transfer (NST) uses a previously trained convolutional network, and builds on top of that. The idea of using a network trained on a different task and applying it to a new task is called transfer learning. \n",
        "\n",
        "Following the original NST paper (https://arxiv.org/abs/1508.06576), we will use the VGG network. Specifically, we'll use VGG-19, a 19-layer version of the VGG network. This model has already been trained on the very large ImageNet database, and thus has learned to recognize a variety of low level features (at the earlier layers) and high level features (at the deeper layers). \n",
        "\n",
        "Run the following code to load parameters from the VGG model. This may take a few seconds. "
      ]
    },
    {
      "cell_type": "code",
      "metadata": {
        "id": "uzLvS2mLZulQ",
        "colab_type": "code",
        "outputId": "390d473b-0041-4574-807d-c9e4cbaa54d9",
        "colab": {
          "base_uri": "https://localhost:8080/",
          "height": 88
        }
      },
      "source": [
        "model = load_vgg_model(\"/content/drive/My Drive/Colab/Workspace/DeepLearn/CNN_Data/Neural Style Transfer/imagenet-vgg-verydeep-19.mat\")\n",
        "print(model)"
      ],
      "execution_count": 5,
      "outputs": [
        {
          "output_type": "stream",
          "text": [
            "WARNING:tensorflow:From /content/Github/CNN/Neural Style Transfer/nst_utils.py:124: The name tf.nn.avg_pool is deprecated. Please use tf.nn.avg_pool2d instead.\n",
            "\n",
            "{'input': <tf.Variable 'Variable:0' shape=(1, 300, 400, 3) dtype=float32_ref>, 'conv1_1': <tf.Tensor 'Relu:0' shape=(1, 300, 400, 64) dtype=float32>, 'conv1_2': <tf.Tensor 'Relu_1:0' shape=(1, 300, 400, 64) dtype=float32>, 'avgpool1': <tf.Tensor 'AvgPool:0' shape=(1, 150, 200, 64) dtype=float32>, 'conv2_1': <tf.Tensor 'Relu_2:0' shape=(1, 150, 200, 128) dtype=float32>, 'conv2_2': <tf.Tensor 'Relu_3:0' shape=(1, 150, 200, 128) dtype=float32>, 'avgpool2': <tf.Tensor 'AvgPool_1:0' shape=(1, 75, 100, 128) dtype=float32>, 'conv3_1': <tf.Tensor 'Relu_4:0' shape=(1, 75, 100, 256) dtype=float32>, 'conv3_2': <tf.Tensor 'Relu_5:0' shape=(1, 75, 100, 256) dtype=float32>, 'conv3_3': <tf.Tensor 'Relu_6:0' shape=(1, 75, 100, 256) dtype=float32>, 'conv3_4': <tf.Tensor 'Relu_7:0' shape=(1, 75, 100, 256) dtype=float32>, 'avgpool3': <tf.Tensor 'AvgPool_2:0' shape=(1, 38, 50, 256) dtype=float32>, 'conv4_1': <tf.Tensor 'Relu_8:0' shape=(1, 38, 50, 512) dtype=float32>, 'conv4_2': <tf.Tensor 'Relu_9:0' shape=(1, 38, 50, 512) dtype=float32>, 'conv4_3': <tf.Tensor 'Relu_10:0' shape=(1, 38, 50, 512) dtype=float32>, 'conv4_4': <tf.Tensor 'Relu_11:0' shape=(1, 38, 50, 512) dtype=float32>, 'avgpool4': <tf.Tensor 'AvgPool_3:0' shape=(1, 19, 25, 512) dtype=float32>, 'conv5_1': <tf.Tensor 'Relu_12:0' shape=(1, 19, 25, 512) dtype=float32>, 'conv5_2': <tf.Tensor 'Relu_13:0' shape=(1, 19, 25, 512) dtype=float32>, 'conv5_3': <tf.Tensor 'Relu_14:0' shape=(1, 19, 25, 512) dtype=float32>, 'conv5_4': <tf.Tensor 'Relu_15:0' shape=(1, 19, 25, 512) dtype=float32>, 'avgpool5': <tf.Tensor 'AvgPool_4:0' shape=(1, 10, 13, 512) dtype=float32>}\n"
          ],
          "name": "stdout"
        }
      ]
    },
    {
      "cell_type": "markdown",
      "metadata": {
        "id": "BEfbHYr8ZulV",
        "colab_type": "text"
      },
      "source": [
        "The model is stored in a python dictionary where each variable name is the key and the corresponding value is a tensor containing that variable's value. To run an image through this network, you just have to feed the image to the model. In TensorFlow, you can do so using the [tf.assign](https://www.tensorflow.org/api_docs/python/tf/assign) function. In particular, you will use the assign function like this:  \n",
        "```python\n",
        "model[\"input\"].assign(image)\n",
        "```\n",
        "This assigns the image as an input to the model. After this, if you want to access the activations of a particular layer, say layer `4_2` when the network is run on this image, you would run a TensorFlow session on the correct tensor `conv4_2`, as follows:  \n",
        "```python\n",
        "sess.run(model[\"conv4_2\"])\n",
        "```"
      ]
    },
    {
      "cell_type": "markdown",
      "metadata": {
        "id": "CjXyOCmSZulW",
        "colab_type": "text"
      },
      "source": [
        "## 3 - Neural Style Transfer \n",
        "\n",
        "We will build the NST algorithm in three steps:\n",
        "\n",
        "- Build the content cost function $J_{content}(C,G)$\n",
        "- Build the style cost function $J_{style}(S,G)$\n",
        "- Put it together to get $J(G) = \\alpha J_{content}(C,G) + \\beta J_{style}(S,G)$. \n",
        "\n",
        "### 3.1 - Computing the content cost\n",
        "\n",
        "In our running example, the content image C will be the picture of the Louvre Museum in Paris. Run the code below to see a picture of the Louvre."
      ]
    },
    {
      "cell_type": "code",
      "metadata": {
        "scrolled": true,
        "id": "eQCsyjgzZulY",
        "colab_type": "code",
        "colab": {}
      },
      "source": [
        "content_image = scipy.misc.imread(\"/images/Taj Mahal.jpg\")\n",
        "imshow(content_image)"
      ],
      "execution_count": 0,
      "outputs": []
    },
    {
      "cell_type": "markdown",
      "metadata": {
        "id": "4YFdJ5IxZulc",
        "colab_type": "text"
      },
      "source": [
        "The content image (C) shows the Louvre museum's pyramid surrounded by old Paris buildings, against a sunny sky with a few clouds.\n",
        "\n",
        "** 3.1.1 - How do you ensure the generated image G matches the content of the image C?**\n",
        "\n",
        "As we saw in lecture, the earlier (shallower) layers of a ConvNet tend to detect lower-level features such as edges and simple textures, and the later (deeper) layers tend to detect higher-level features such as more complex textures as well as object classes. \n",
        "\n",
        "We would like the \"generated\" image G to have similar content as the input image C. Suppose you have chosen some layer's activations to represent the content of an image. In practice, you'll get the most visually pleasing results if you choose a layer in the middle of the network--neither too shallow nor too deep. (After you have finished this exercise, feel free to come back and experiment with using different layers, to see how the results vary.)\n",
        "\n",
        "So, suppose you have picked one particular hidden layer to use. Now, set the image C as the input to the pretrained VGG network, and run forward propagation. Let $a^{(C)}$ be the hidden layer activations in the layer you had chosen. (In lecture, we had written this as $a^{[l](C)}$, but here we'll drop the superscript $[l]$ to simplify the notation.) This will be a $n_H \\times n_W \\times n_C$ tensor. Repeat this process with the image G: Set G as the input, and run forward progation. Let $$a^{(G)}$$ be the corresponding hidden layer activation. We will define as the content cost function as:\n",
        "\n",
        "$$J_{content}(C,G) =  \\frac{1}{4 \\times n_H \\times n_W \\times n_C}\\sum _{ \\text{all entries}} (a^{(C)} - a^{(G)})^2\\tag{1} $$\n",
        "\n",
        "Here, $n_H, n_W$ and $n_C$ are the height, width and number of channels of the hidden layer you have chosen, and appear in a normalization term in the cost. For clarity, note that $a^{(C)}$ and $a^{(G)}$ are the volumes corresponding to a hidden layer's activations. In order to compute the cost $J_{content}(C,G)$, it might also be convenient to unroll these 3D volumes into a 2D matrix, as shown below. (Technically this unrolling step isn't needed to compute $J_{content}$, but it will be good practice for when you do need to carry out a similar operation later for computing the style const $J_{style}$.)\n",
        "\n",
        "\n",
        "**Exercise:** Compute the \"content cost\" using TensorFlow. \n",
        "\n",
        "**Instructions**: The 3 steps to implement this function are:\n",
        "1. Retrieve dimensions from a_G: \n",
        "    - To retrieve dimensions from a tensor X, use: `X.get_shape().as_list()`\n",
        "2. Unroll a_C and a_G as explained in the picture above\n",
        "    - If you are stuck, take a look at [Hint1](https://www.tensorflow.org/versions/r1.3/api_docs/python/tf/transpose) and [Hint2](https://www.tensorflow.org/versions/r1.2/api_docs/python/tf/reshape).\n",
        "3. Compute the content cost:\n",
        "    - If you are stuck, take a look at [Hint3](https://www.tensorflow.org/api_docs/python/tf/reduce_sum), [Hint4](https://www.tensorflow.org/api_docs/python/tf/square) and [Hint5](https://www.tensorflow.org/api_docs/python/tf/subtract)."
      ]
    },
    {
      "cell_type": "code",
      "metadata": {
        "id": "i5Grqb6yZuld",
        "colab_type": "code",
        "colab": {}
      },
      "source": [
        "# GRADED FUNCTION: compute_content_cost\n",
        "\n",
        "def compute_content_cost(a_C, a_G):\n",
        "    \"\"\"\n",
        "    Computes the content cost\n",
        "    \n",
        "    Arguments:\n",
        "    a_C -- tensor of dimension (1, n_H, n_W, n_C), hidden layer activations representing content of the image C \n",
        "    a_G -- tensor of dimension (1, n_H, n_W, n_C), hidden layer activations representing content of the image G\n",
        "    \n",
        "    Returns: \n",
        "    J_content -- scalar that you compute using equation 1 above.\n",
        "    \"\"\"\n",
        "    \n",
        "    ### START CODE HERE ###\n",
        "    # Retrieve dimensions from a_G (≈1 line)\n",
        "    m, n_H, n_W, n_C = a_G.get_shape().as_list()\n",
        "    \n",
        "    # Reshape a_C and a_G (≈2 lines)\n",
        "    a_C_unrolled = tf.reshape(a_C, [n_H * n_W, n_C])\n",
        "    a_G_unrolled = tf.reshape(a_G, [n_H * n_W, n_C])\n",
        "    \n",
        "    # compute the cost with tensorflow (≈1 line)\n",
        "    J_content = 0.25 * (1 / (n_H * n_W * n_C)) * tf.reduce_sum(tf.square(tf.subtract(a_C_unrolled, a_G_unrolled)))\n",
        "    ### END CODE HERE ###\n",
        "    \n",
        "    return J_content"
      ],
      "execution_count": 0,
      "outputs": []
    },
    {
      "cell_type": "code",
      "metadata": {
        "colab_type": "code",
        "outputId": "1439fd0e-6d02-4357-8117-d29fff5fd896",
        "id": "76bdrHcKtqTy",
        "colab": {
          "base_uri": "https://localhost:8080/",
          "height": 34
        }
      },
      "source": [
        "tf.reset_default_graph()\n",
        "\n",
        "with tf.Session() as test:\n",
        "    tf.set_random_seed(1)\n",
        "    a_C = tf.random_normal([1, 4, 4, 3], mean=1, stddev=4)\n",
        "    a_G = tf.random_normal([1, 4, 4, 3], mean=1, stddev=4)\n",
        "    J_content = compute_content_cost(a_C, a_G)\n",
        "    print(\"J_content = \" + str(J_content.eval()))"
      ],
      "execution_count": 0,
      "outputs": [
        {
          "output_type": "stream",
          "text": [
            "J_content = 6.7655935\n"
          ],
          "name": "stdout"
        }
      ]
    },
    {
      "cell_type": "markdown",
      "metadata": {
        "id": "DbpPmUJEZulm",
        "colab_type": "text"
      },
      "source": [
        "**Expected Output**:\n",
        "\n",
        "<table>\n",
        "    <tr>\n",
        "        <td>\n",
        "            **J_content**\n",
        "        </td>\n",
        "        <td>\n",
        "           6.76559\n",
        "        </td>\n",
        "    </tr>\n",
        "\n",
        "</table>"
      ]
    },
    {
      "cell_type": "markdown",
      "metadata": {
        "id": "TK7loVNCZuln",
        "colab_type": "text"
      },
      "source": [
        "<font color='blue'>\n",
        "**What you should remember**:\n",
        "- The content cost takes a hidden layer activation of the neural network, and measures how different $a^{(C)}$ and $a^{(G)}$ are. \n",
        "- When we minimize the content cost later, this will help make sure $G$ has similar content as $C$."
      ]
    },
    {
      "cell_type": "markdown",
      "metadata": {
        "id": "4QPiXQ0DZulo",
        "colab_type": "text"
      },
      "source": [
        "### 3.2 - Computing the style cost\n",
        "\n",
        "For our running example, we will use the following style image: "
      ]
    },
    {
      "cell_type": "code",
      "metadata": {
        "id": "s6iQE08WZulp",
        "colab_type": "code",
        "outputId": "742f9938-c52c-4da6-ba20-8809296ed047",
        "colab": {
          "base_uri": "https://localhost:8080/",
          "height": 354
        }
      },
      "source": [
        "style_image = scipy.misc.imread(\"/images/oil-pastel.jpg\")\n",
        "imshow(style_image)"
      ],
      "execution_count": 8,
      "outputs": [
        {
          "output_type": "stream",
          "text": [
            "/usr/local/lib/python3.6/dist-packages/ipykernel_launcher.py:1: DeprecationWarning: `imread` is deprecated!\n",
            "`imread` is deprecated in SciPy 1.0.0, and will be removed in 1.2.0.\n",
            "Use ``imageio.imread`` instead.\n",
            "  \"\"\"Entry point for launching an IPython kernel.\n"
          ],
          "name": "stderr"
        },
        {
          "output_type": "execute_result",
          "data": {
            "text/plain": [
              "<matplotlib.image.AxesImage at 0x7f9563cc7c18>"
            ]
          },
          "metadata": {
            "tags": []
          },
          "execution_count": 8
        },
        {
          "output_type": "display_data",
          "data": {
            "image/png": "[encoded data removed]",
            "text/plain": [
              "<Figure size 432x288 with 1 Axes>"
            ]
          },
          "metadata": {
            "tags": []
          }
        }
      ]
    },
    {
      "cell_type": "markdown",
      "metadata": {
        "id": "n3JtbcgVZult",
        "colab_type": "text"
      },
      "source": [
        "\n",
        "Lets see how you can now define a \"style\" const function $J_{style}(S,G)$. "
      ]
    },
    {
      "cell_type": "markdown",
      "metadata": {
        "id": "J7j0lwPXZulu",
        "colab_type": "text"
      },
      "source": [
        "### 3.2.1 - Style matrix\n",
        "\n",
        "The style matrix is also called a \"Gram matrix.\" In linear algebra, the Gram matrix G of a set of vectors $(v_{1},\\dots ,v_{n})$ is the matrix of dot products, whose entries are ${\\displaystyle G_{ij} = v_{i}^T v_{j} = np.dot(v_{i}, v_{j})  }$. In other words, $G_{ij}$ compares how similar $v_i$ is to $v_j$: If they are highly similar, you would expect them to have a large dot product, and thus for $G_{ij}$ to be large. \n",
        "\n",
        "Note that there is an unfortunate collision in the variable names used here. We are following common terminology used in the literature, but $G$ is used to denote the Style matrix (or Gram matrix) as well as to denote the generated image $G$. We will try to make sure which $G$ we are referring to is always clear from the context. \n",
        "\n",
        "In NST, you can compute the Style matrix by multiplying the \"unrolled\" filter matrix with their transpose:\n",
        "\n",
        "\n",
        "\n",
        "The result is a matrix of dimension $(n_C,n_C)$ where $n_C$ is the number of filters. The value $G_{ij}$ measures how similar the activations of filter $i$ are to the activations of filter $j$. \n",
        "\n",
        "One important part of the gram matrix is that the diagonal elements such as $G_{ii}$ also measures how active filter $i$ is. For example, suppose filter $i$ is detecting vertical textures in the image. Then $G_{ii}$ measures how common  vertical textures are in the image as a whole: If $G_{ii}$ is large, this means that the image has a lot of vertical texture. \n",
        "\n",
        "By capturing the prevalence of different types of features ($G_{ii}$), as well as how much different features occur together ($G_{ij}$), the Style matrix $G$ measures the style of an image. \n",
        "\n",
        "**Exercise**:\n",
        "Using TensorFlow, implement a function that computes the Gram matrix of a matrix A. The formula is: The gram matrix of A is $G_A = AA^T$. If you are stuck, take a look at [Hint 1](https://www.tensorflow.org/api_docs/python/tf/matmul) and [Hint 2](https://www.tensorflow.org/api_docs/python/tf/transpose)."
      ]
    },
    {
      "cell_type": "code",
      "metadata": {
        "id": "PpR4nb79Zuly",
        "colab_type": "code",
        "colab": {}
      },
      "source": [
        "# GRADED FUNCTION: gram_matrix\n",
        "\n",
        "def gram_matrix(A):\n",
        "    \"\"\"\n",
        "    Argument:\n",
        "    A -- matrix of shape (n_C, n_H*n_W)\n",
        "    \n",
        "    Returns:\n",
        "    GA -- Gram matrix of A, of shape (n_C, n_C)\n",
        "    \"\"\"\n",
        "    \n",
        "    ### START CODE HERE ### (≈1 line)\n",
        "    GA = tf.matmul(A, tf.transpose(A))\n",
        "    ### END CODE HERE ###\n",
        "    \n",
        "    return GA"
      ],
      "execution_count": 0,
      "outputs": []
    },
    {
      "cell_type": "code",
      "metadata": {
        "id": "buKtIaxUZul1",
        "colab_type": "code",
        "outputId": "d5acc112-1f8f-4b6a-853c-cba16079beab",
        "colab": {
          "base_uri": "https://localhost:8080/",
          "height": 68
        }
      },
      "source": [
        "tf.reset_default_graph()\n",
        "\n",
        "with tf.Session() as test:\n",
        "    tf.set_random_seed(1)\n",
        "    A = tf.random_normal([3, 2*1], mean=1, stddev=4)\n",
        "    GA = gram_matrix(A)\n",
        "    print(\"GA = \" + str(GA.eval()))"
      ],
      "execution_count": 0,
      "outputs": [
        {
          "output_type": "stream",
          "text": [
            "GA = [[ 6.422305  -4.4291224 -2.096682 ]\n",
            " [-4.4291224 19.465837  19.563871 ]\n",
            " [-2.096682  19.563871  20.686462 ]]\n"
          ],
          "name": "stdout"
        }
      ]
    },
    {
      "cell_type": "markdown",
      "metadata": {
        "id": "T2_10xmdZul5",
        "colab_type": "text"
      },
      "source": [
        "**Expected Output**:\n",
        "\n",
        "<table>\n",
        "    <tr>\n",
        "        <td>\n",
        "            **GA**\n",
        "        </td>\n",
        "        <td>\n",
        "           [[  6.42230511  -4.42912197  -2.09668207] <br>\n",
        " [ -4.42912197  19.46583748  19.56387138] <br>\n",
        " [ -2.09668207  19.56387138  20.6864624 ]]\n",
        "        </td>\n",
        "    </tr>\n",
        "\n",
        "</table>"
      ]
    },
    {
      "cell_type": "markdown",
      "metadata": {
        "id": "QLZcJHjVZul6",
        "colab_type": "text"
      },
      "source": [
        "### 3.2.2 - Style cost"
      ]
    },
    {
      "cell_type": "markdown",
      "metadata": {
        "id": "DEw46AR0Zul7",
        "colab_type": "text"
      },
      "source": [
        "After generating the Style matrix (Gram matrix), your goal will be to minimize the distance between the Gram matrix of the \"style\" image S and that of the \"generated\" image G. For now, we are using only a single hidden layer $a^{[l]}$, and the corresponding style cost for this layer is defined as: \n",
        "\n",
        "$$J_{style}^{[l]}(S,G) = \\frac{1}{4 \\times {n_C}^2 \\times (n_H \\times n_W)^2} \\sum _{i=1}^{n_C}\\sum_{j=1}^{n_C}(G^{(S)}_{ij} - G^{(G)}_{ij})^2\\tag{2} $$\n",
        "\n",
        "where $G^{(S)}$ and $G^{(G)}$ are respectively the Gram matrices of the \"style\" image and the \"generated\" image, computed using the hidden layer activations for a particular hidden layer in the network.  \n"
      ]
    },
    {
      "cell_type": "markdown",
      "metadata": {
        "id": "fIi_aojAZul8",
        "colab_type": "text"
      },
      "source": [
        "**Exercise**: Compute the style cost for a single layer. \n",
        "\n",
        "**Instructions**: The 3 steps to implement this function are:\n",
        "1. Retrieve dimensions from the hidden layer activations a_G: \n",
        "    - To retrieve dimensions from a tensor X, use: `X.get_shape().as_list()`\n",
        "2. Unroll the hidden layer activations a_S and a_G into 2D matrices, as explained in the picture above.\n",
        "    - You may find [Hint1](https://www.tensorflow.org/versions/r1.3/api_docs/python/tf/transpose) and [Hint2](https://www.tensorflow.org/versions/r1.2/api_docs/python/tf/reshape) useful.\n",
        "3. Compute the Style matrix of the images S and G. (Use the function you had previously written.) \n",
        "4. Compute the Style cost:\n",
        "    - You may find [Hint3](https://www.tensorflow.org/api_docs/python/tf/reduce_sum), [Hint4](https://www.tensorflow.org/api_docs/python/tf/square) and [Hint5](https://www.tensorflow.org/api_docs/python/tf/subtract) useful."
      ]
    },
    {
      "cell_type": "code",
      "metadata": {
        "id": "xfEyoiOiZul9",
        "colab_type": "code",
        "colab": {}
      },
      "source": [
        "# GRADED FUNCTION: compute_layer_style_cost\n",
        "\n",
        "def compute_layer_style_cost(a_S, a_G):\n",
        "    \"\"\"\n",
        "    Arguments:\n",
        "    a_S -- tensor of dimension (1, n_H, n_W, n_C), hidden layer activations representing style of the image S \n",
        "    a_G -- tensor of dimension (1, n_H, n_W, n_C), hidden layer activations representing style of the image G\n",
        "    \n",
        "    Returns: \n",
        "    J_style_layer -- tensor representing a scalar value, style cost defined above by equation (2)\n",
        "    \"\"\"\n",
        "    \n",
        "    ### START CODE HERE ###\n",
        "    # Retrieve dimensions from a_G (≈1 line)\n",
        "    m, n_H, n_W, n_C = a_G.get_shape().as_list()\n",
        "    \n",
        "    # Reshape the images to have them of shape (n_C, n_H*n_W) (≈2 lines)\n",
        "    a_S = tf.reshape(a_S, [n_C, n_H * n_W])\n",
        "    a_G = tf.reshape(a_G, [n_C, n_H * n_W])\n",
        "\n",
        "    # Computing gram_matrices for both images S and G (≈2 lines)\n",
        "    GS = tf.matmul(a_S, tf.transpose(a_S))\n",
        "    GG = tf.matmul(a_G, tf.transpose(a_G))\n",
        "\n",
        "    # Computing the loss (≈1 line)\n",
        "    J_style_layer = 0.25 * (1 / ((n_C * n_H * n_W)**2)) * tf.reduce_sum(tf.square(tf.subtract(GS, GG)))\n",
        "    \n",
        "    ### END CODE HERE ###\n",
        "    \n",
        "    return J_style_layer"
      ],
      "execution_count": 0,
      "outputs": []
    },
    {
      "cell_type": "code",
      "metadata": {
        "scrolled": false,
        "id": "YEkOriojZumB",
        "colab_type": "code",
        "outputId": "163dd060-0254-4ffb-e16b-cfcee68bc581",
        "colab": {
          "base_uri": "https://localhost:8080/",
          "height": 34
        }
      },
      "source": [
        "tf.reset_default_graph()\n",
        "\n",
        "with tf.Session() as test:\n",
        "    tf.set_random_seed(1)\n",
        "    a_S = tf.random_normal([1, 4, 4, 3], mean=1, stddev=4)\n",
        "    a_G = tf.random_normal([1, 4, 4, 3], mean=1, stddev=4)\n",
        "    J_style_layer = compute_layer_style_cost(a_S, a_G)\n",
        "    \n",
        "    print(\"J_style_layer = \" + str(J_style_layer.eval()))"
      ],
      "execution_count": 0,
      "outputs": [
        {
          "output_type": "stream",
          "text": [
            "J_style_layer = 11.34522\n"
          ],
          "name": "stdout"
        }
      ]
    },
    {
      "cell_type": "markdown",
      "metadata": {
        "id": "EVnyyO7GZumG",
        "colab_type": "text"
      },
      "source": [
        "**Expected Output**:\n",
        "\n",
        "<table>\n",
        "    <tr>\n",
        "        <td>\n",
        "            **J_style_layer**\n",
        "        </td>\n",
        "        <td>\n",
        "           9.19028\n",
        "        </td>\n",
        "    </tr>\n",
        "\n",
        "</table>"
      ]
    },
    {
      "cell_type": "markdown",
      "metadata": {
        "id": "B_7M0JsiZumH",
        "colab_type": "text"
      },
      "source": [
        "### 3.2.3 Style Weights\n",
        "\n",
        "So far you have captured the style from only one layer. We'll get better results if we \"merge\" style costs from several different layers. After completing this exercise, feel free to come back and experiment with different weights to see how it changes the generated image $G$. But for now, this is a pretty reasonable default: "
      ]
    },
    {
      "cell_type": "code",
      "metadata": {
        "id": "R9nb6GbqZumI",
        "colab_type": "code",
        "colab": {}
      },
      "source": [
        "STYLE_LAYERS = [\n",
        "    ('conv1_1', 0.2),\n",
        "    ('conv2_1', 0.2),\n",
        "    ('conv3_1', 0.2),\n",
        "    ('conv4_1', 0.4),\n",
        "    ('conv5_1', 0.4)]"
      ],
      "execution_count": 0,
      "outputs": []
    },
    {
      "cell_type": "markdown",
      "metadata": {
        "id": "EvWs4JDzZumL",
        "colab_type": "text"
      },
      "source": [
        "You can combine the style costs for different layers as follows:\n",
        "\n",
        "$$J_{style}(S,G) = \\sum_{l} \\lambda^{[l]} J^{[l]}_{style}(S,G)$$\n",
        "\n",
        "where the values for $\\lambda^{[l]}$ are given in `STYLE_LAYERS`. \n"
      ]
    },
    {
      "cell_type": "markdown",
      "metadata": {
        "id": "JgF50Z-HZumM",
        "colab_type": "text"
      },
      "source": [
        "We've implemented a compute_style_cost(...) function. It simply calls your `compute_layer_style_cost(...)` several times, and weights their results using the values in `STYLE_LAYERS`. Read over it to make sure you understand what it's doing. \n",
        "\n",
        "<!-- \n",
        "2. Loop over (layer_name, coeff) from STYLE_LAYERS:\n",
        "        a. Select the output tensor of the current layer. As an example, to call the tensor from the \"conv1_1\" layer you would do: out = model[\"conv1_1\"]\n",
        "        b. Get the style of the style image from the current layer by running the session on the tensor \"out\"\n",
        "        c. Get a tensor representing the style of the generated image from the current layer. It is just \"out\".\n",
        "        d. Now that you have both styles. Use the function you've implemented above to compute the style_cost for the current layer\n",
        "        e. Add (style_cost x coeff) of the current layer to overall style cost (J_style)\n",
        "3. Return J_style, which should now be the sum of the (style_cost x coeff) for each layer.\n",
        "!--> \n"
      ]
    },
    {
      "cell_type": "code",
      "metadata": {
        "id": "YMVu262lZumN",
        "colab_type": "code",
        "colab": {}
      },
      "source": [
        "def compute_style_cost(model, STYLE_LAYERS):\n",
        "    \"\"\"\n",
        "    Computes the overall style cost from several chosen layers\n",
        "    \n",
        "    Arguments:\n",
        "    model -- our tensorflow model\n",
        "    STYLE_LAYERS -- A python list containing:\n",
        "                        - the names of the layers we would like to extract style from\n",
        "                        - a coefficient for each of them\n",
        "    \n",
        "    Returns: \n",
        "    J_style -- tensor representing a scalar value, style cost defined above by equation (2)\n",
        "    \"\"\"\n",
        "    \n",
        "    # initialize the overall style cost\n",
        "    J_style = 0\n",
        "\n",
        "    for layer_name, coeff in STYLE_LAYERS:\n",
        "\n",
        "        # Select the output tensor of the currently selected layer\n",
        "        out = model[layer_name]\n",
        "\n",
        "        # Set a_S to be the hidden layer activation from the layer we have selected, by running the session on out\n",
        "        a_S = sess.run(out)\n",
        "\n",
        "        # Set a_G to be the hidden layer activation from same layer. Here, a_G references model[layer_name] \n",
        "        # and isn't evaluated yet. Later in the code, we'll assign the image G as the model input, so that\n",
        "        # when we run the session, this will be the activations drawn from the appropriate layer, with G as input.\n",
        "        a_G = out\n",
        "        \n",
        "        # Compute style_cost for the current layer\n",
        "        J_style_layer = compute_layer_style_cost(a_S, a_G)\n",
        "\n",
        "        # Add coeff * J_style_layer of this layer to overall style cost\n",
        "        J_style += coeff * J_style_layer\n",
        "\n",
        "    return J_style"
      ],
      "execution_count": 0,
      "outputs": []
    },
    {
      "cell_type": "markdown",
      "metadata": {
        "id": "9XHBhOPnZumR",
        "colab_type": "text"
      },
      "source": [
        "**Note**: In the inner-loop of the for-loop above, `a_G` is a tensor and hasn't been evaluated yet. It will be evaluated and updated at each iteration when we run the TensorFlow graph in model_nn() below.\n",
        "\n",
        "<!-- \n",
        "How do you choose the coefficients for each layer? The deeper layers capture higher-level concepts, and the features in the deeper layers are less localized in the image relative to each other. So if you want the generated image to softly follow the style image, try choosing larger weights for deeper layers and smaller weights for the first layers. In contrast, if you want the generated image to strongly follow the style image, try choosing smaller weights for deeper layers and larger weights for the first layers\n",
        "!-->\n",
        "\n",
        "\n",
        "<font color='blue'>\n",
        "**What you should remember**:\n",
        "- The style of an image can be represented using the Gram matrix of a hidden layer's activations. However, we get even better results combining this representation from multiple different layers. This is in contrast to the content representation, where usually using just a single hidden layer is sufficient.\n",
        "- Minimizing the style cost will cause the image $G$ to follow the style of the image $S$. \n",
        "</font color='blue'>\n",
        "\n"
      ]
    },
    {
      "cell_type": "markdown",
      "metadata": {
        "id": "xS9-IAEhZumU",
        "colab_type": "text"
      },
      "source": [
        "### 3.3 - Defining the total cost to optimize"
      ]
    },
    {
      "cell_type": "markdown",
      "metadata": {
        "id": "xHPzEXomZumV",
        "colab_type": "text"
      },
      "source": [
        "Finally, let's create a cost function that minimizes both the style and the content cost. The formula is: \n",
        "\n",
        "$$J(G) = \\alpha J_{content}(C,G) + \\beta J_{style}(S,G)$$\n",
        "\n",
        "**Exercise**: Implement the total cost function which includes both the content cost and the style cost. "
      ]
    },
    {
      "cell_type": "code",
      "metadata": {
        "id": "sG34AtASZumX",
        "colab_type": "code",
        "colab": {}
      },
      "source": [
        "# GRADED FUNCTION: total_cost\n",
        "\n",
        "def total_cost(J_content, J_style, alpha = 1, beta = 9):\n",
        "    \"\"\"\n",
        "    Computes the total cost function\n",
        "    \n",
        "    Arguments:\n",
        "    J_content -- content cost coded above\n",
        "    J_style -- style cost coded above\n",
        "    alpha -- hyperparameter weighting the importance of the content cost\n",
        "    beta -- hyperparameter weighting the importance of the style cost\n",
        "    \n",
        "    Returns:\n",
        "    J -- total cost as defined by the formula above.\n",
        "    \"\"\"\n",
        "    \n",
        "    ### START CODE HERE ### (≈1 line)\n",
        "    J = alpha * J_content + beta * J_style\n",
        "    ### END CODE HERE ###\n",
        "    \n",
        "    return J"
      ],
      "execution_count": 0,
      "outputs": []
    },
    {
      "cell_type": "code",
      "metadata": {
        "id": "HBegcW5JZumb",
        "colab_type": "code",
        "outputId": "81853688-3ca4-4bed-ec95-1cca64ab1493",
        "colab": {
          "base_uri": "https://localhost:8080/",
          "height": 34
        }
      },
      "source": [
        "tf.reset_default_graph()\n",
        "\n",
        "with tf.Session() as test:\n",
        "    np.random.seed(3)\n",
        "    J_content = np.random.randn()    \n",
        "    J_style = np.random.randn()\n",
        "    J = total_cost(J_content, J_style)\n",
        "    print(\"J = \" + str(J))"
      ],
      "execution_count": 0,
      "outputs": [
        {
          "output_type": "stream",
          "text": [
            "J = 5.717217128038223\n"
          ],
          "name": "stdout"
        }
      ]
    },
    {
      "cell_type": "markdown",
      "metadata": {
        "id": "4FWpWKZWZumk",
        "colab_type": "text"
      },
      "source": [
        "**Expected Output**:\n",
        "\n",
        "<table>\n",
        "    <tr>\n",
        "        <td>\n",
        "            **J**\n",
        "        </td>\n",
        "        <td>\n",
        "           35.34667875478276\n",
        "        </td>\n",
        "    </tr>\n",
        "\n",
        "</table>"
      ]
    },
    {
      "cell_type": "markdown",
      "metadata": {
        "id": "uul5ZB7wZuml",
        "colab_type": "text"
      },
      "source": [
        "<font color='blue'>\n",
        "**What you should remember**:\n",
        "- The total cost is a linear combination of the content cost $J_{content}(C,G)$ and the style cost $J_{style}(S,G)$\n",
        "- $\\alpha$ and $\\beta$ are hyperparameters that control the relative weighting between content and style"
      ]
    },
    {
      "cell_type": "markdown",
      "metadata": {
        "id": "dUxBvbYNZumn",
        "colab_type": "text"
      },
      "source": [
        "#3 - Neural Style Transfer (Solve the optimization problem)"
      ]
    },
    {
      "cell_type": "markdown",
      "metadata": {
        "id": "WkQYho9zZumo",
        "colab_type": "text"
      },
      "source": [
        "Finally, let's put everything together to implement Neural Style Transfer!\n",
        "\n",
        "\n",
        "Here's what the program will have to do:\n",
        "<font color='purple'>\n",
        "\n",
        "1. Create an Interactive Session\n",
        "2. Load the content image \n",
        "3. Load the style image\n",
        "4. Randomly initialize the image to be generated \n",
        "5. Load the VGG16 model\n",
        "7. Build the TensorFlow graph:\n",
        "    - Run the content image through the VGG16 model and compute the content cost\n",
        "    - Run the style image through the VGG16 model and compute the style cost\n",
        "    - Compute the total cost\n",
        "    - Define the optimizer and the learning rate\n",
        "8. Initialize the TensorFlow graph and run it for a large number of iterations, updating the generated image at every step.\n",
        "\n",
        "</font>\n",
        "Lets go through the individual steps in detail. "
      ]
    },
    {
      "cell_type": "markdown",
      "metadata": {
        "id": "n-i-v2LsZump",
        "colab_type": "text"
      },
      "source": [
        "You've previously implemented the overall cost $J(G)$. We'll now set up TensorFlow to optimize this with respect to $G$. To do so, your program has to reset the graph and use an \"[Interactive Session](https://www.tensorflow.org/api_docs/python/tf/InteractiveSession)\". Unlike a regular session, the \"Interactive Session\" installs itself as the default session to build a graph.  This allows you to run variables without constantly needing to refer to the session object, which simplifies the code.  \n",
        "\n",
        "Lets start the interactive session."
      ]
    },
    {
      "cell_type": "code",
      "metadata": {
        "id": "7uukL1M0Zumr",
        "colab_type": "code",
        "colab": {}
      },
      "source": [
        "# Reset the graph\n",
        "tf.reset_default_graph()\n",
        "\n",
        "# Start interactive session\n",
        "sess = tf.InteractiveSession()"
      ],
      "execution_count": 0,
      "outputs": []
    },
    {
      "cell_type": "markdown",
      "metadata": {
        "id": "vazLH6rEZumz",
        "colab_type": "text"
      },
      "source": [
        "Let's load, reshape, and normalize our \"content\" image (the Louvre museum picture):"
      ]
    },
    {
      "cell_type": "code",
      "metadata": {
        "id": "d2A0sreuZumz",
        "colab_type": "code",
        "colab": {}
      },
      "source": [
        "import cv2\n",
        "content_image = scipy.misc.imread(\"/images/oil-pastel.jpg\")\n",
        "content_image = cv2.resize(content_image, (400, 300), interpolation = cv2.INTER_AREA)\n",
        "content_image = reshape_and_normalize_image(content_image)\n",
        "imshow(content_image[0,:,:,:])"
      ],
      "execution_count": 0,
      "outputs": []
    },
    {
      "cell_type": "markdown",
      "metadata": {
        "id": "HSaHlbGTZum3",
        "colab_type": "text"
      },
      "source": [
        "Let's load, reshape and normalize our \"style\" image (Claude Monet's painting):"
      ]
    },
    {
      "cell_type": "code",
      "metadata": {
        "id": "uWfLu186Zum4",
        "colab_type": "code",
        "colab": {
          "base_uri": "https://localhost:8080/",
          "height": 85
        },
        "outputId": "a25ff087-160a-4c18-e526-70b9f87b855d"
      },
      "source": [
        "style_image = scipy.misc.imread(\"/images/Taj Mahal.jpg\")\n",
        "style_image = cv2.resize(style_image, (400, 300), interpolation = cv2.INTER_AREA)\n",
        "style_image = reshape_and_normalize_image(style_image)"
      ],
      "execution_count": 103,
      "outputs": [
        {
          "output_type": "stream",
          "text": [
            "/usr/local/lib/python3.6/dist-packages/ipykernel_launcher.py:1: DeprecationWarning: `imread` is deprecated!\n",
            "`imread` is deprecated in SciPy 1.0.0, and will be removed in 1.2.0.\n",
            "Use ``imageio.imread`` instead.\n",
            "  \"\"\"Entry point for launching an IPython kernel.\n"
          ],
          "name": "stderr"
        }
      ]
    },
    {
      "cell_type": "markdown",
      "metadata": {
        "id": "dXXX7TqvZum7",
        "colab_type": "text"
      },
      "source": [
        "Now, we initialize the \"generated\" image as a noisy image created from the content_image. By initializing the pixels of the generated image to be mostly noise but still slightly correlated with the content image, this will help the content of the \"generated\" image more rapidly match the content of the \"content\" image. (Feel free to look in `nst_utils.py` to see the details of `generate_noise_image(...)`; to do so, click \"File-->Open...\" at the upper-left corner of this Jupyter notebook.)"
      ]
    },
    {
      "cell_type": "code",
      "metadata": {
        "id": "CBZmcW0sZum8",
        "colab_type": "code",
        "colab": {}
      },
      "source": [
        "generated_image = generate_noise_image(content_image)\n",
        "imshow(generated_image[0])"
      ],
      "execution_count": 0,
      "outputs": []
    },
    {
      "cell_type": "markdown",
      "metadata": {
        "id": "HGYrxk0HZunC",
        "colab_type": "text"
      },
      "source": [
        "Next, as explained in part (2), let's load the VGG16 model."
      ]
    },
    {
      "cell_type": "code",
      "metadata": {
        "id": "3qO8nsIJZunD",
        "colab_type": "code",
        "colab": {}
      },
      "source": [
        "model = load_vgg_model(\"/content/drive/My Drive/Colab/Workspace/DeepLearn/CNN_Data/Neural Style Transfer/imagenet-vgg-verydeep-19.mat\")"
      ],
      "execution_count": 0,
      "outputs": []
    },
    {
      "cell_type": "markdown",
      "metadata": {
        "id": "UnOX8f2yZunG",
        "colab_type": "text"
      },
      "source": [
        "To get the program to compute the content cost, we will now assign `a_C` and `a_G` to be the appropriate hidden layer activations. We will use layer `conv4_2` to compute the content cost. The code below does the following:\n",
        "\n",
        "1. Assign the content image to be the input to the VGG model.\n",
        "2. Set a_C to be the tensor giving the hidden layer activation for layer \"conv4_2\".\n",
        "3. Set a_G to be the tensor giving the hidden layer activation for the same layer. \n",
        "4. Compute the content cost using a_C and a_G."
      ]
    },
    {
      "cell_type": "code",
      "metadata": {
        "id": "ZmBqRU3QZunH",
        "colab_type": "code",
        "colab": {}
      },
      "source": [
        "# Assign the content image to be the input of the VGG model.  \n",
        "sess.run(model['input'].assign(content_image))\n",
        "\n",
        "# Select the output tensor of layer you want (conv4_2 or conv5_1 would do)\n",
        "out = model['conv5_1']\n",
        "\n",
        "# Set a_C to be the hidden layer activation from the layer we have selected\n",
        "a_C = sess.run(out)\n",
        "\n",
        "# Set a_G to be the hidden layer activation from same layer. Here, a_G references model['conv4_2'] \n",
        "# and isn't evaluated yet. Later in the code, we'll assign the image G as the model input, so that\n",
        "# when we run the session, this will be the activations drawn from the appropriate layer, with G as input.\n",
        "a_G = out\n",
        "\n",
        "# Compute the content cost\n",
        "J_content = compute_content_cost(a_C, a_G)"
      ],
      "execution_count": 0,
      "outputs": []
    },
    {
      "cell_type": "markdown",
      "metadata": {
        "id": "tZD_AdnUZunL",
        "colab_type": "text"
      },
      "source": [
        "**Note**: At this point, a_G is a tensor and hasn't been evaluated. It will be evaluated and updated at each iteration when we run the Tensorflow graph in model_nn() below."
      ]
    },
    {
      "cell_type": "code",
      "metadata": {
        "id": "QlXR2UvEZunM",
        "colab_type": "code",
        "colab": {}
      },
      "source": [
        "# Assign the input of the model to be the \"style\" image \n",
        "sess.run(model['input'].assign(style_image))\n",
        "\n",
        "# Compute the style cost\n",
        "J_style = compute_style_cost(model, STYLE_LAYERS)"
      ],
      "execution_count": 0,
      "outputs": []
    },
    {
      "cell_type": "markdown",
      "metadata": {
        "id": "yoAJSefm3JpM",
        "colab_type": "text"
      },
      "source": [
        ""
      ]
    },
    {
      "cell_type": "markdown",
      "metadata": {
        "id": "1owP3UdYZunP",
        "colab_type": "text"
      },
      "source": [
        "**Exercise**: Now that you have J_content and J_style, compute the total cost J by calling `total_cost()`. Use `alpha = 10` and `beta = 40`."
      ]
    },
    {
      "cell_type": "code",
      "metadata": {
        "id": "LL1YSPg4ZunV",
        "colab_type": "code",
        "colab": {}
      },
      "source": [
        "### START CODE HERE ### (1 line)\n",
        "J = total_cost(J_content, J_style, alpha = 1, beta = 9)\n",
        "### END CODE HERE ###"
      ],
      "execution_count": 0,
      "outputs": []
    },
    {
      "cell_type": "markdown",
      "metadata": {
        "id": "mKDYqrGkZunY",
        "colab_type": "text"
      },
      "source": [
        "You'd previously learned how to set up the Adam optimizer in TensorFlow. Lets do that here, using a learning rate of 2.0.  [See reference](https://www.tensorflow.org/api_docs/python/tf/train/AdamOptimizer)"
      ]
    },
    {
      "cell_type": "code",
      "metadata": {
        "id": "ICPg4qR4ZunZ",
        "colab_type": "code",
        "colab": {}
      },
      "source": [
        "# define optimizer (1 line)\n",
        "optimizer = tf.train.AdamOptimizer(2.0)\n",
        "\n",
        "\n",
        "# define train_step (1 line)\n",
        "train_step = optimizer.minimize(J)"
      ],
      "execution_count": 0,
      "outputs": []
    },
    {
      "cell_type": "markdown",
      "metadata": {
        "id": "ZDfPFqliZunc",
        "colab_type": "text"
      },
      "source": [
        "**Exercise**: Implement the model_nn() function which initializes the variables of the tensorflow graph, assigns the input image (initial generated image) as the input of the VGG16 model and runs the train_step for a large number of steps."
      ]
    },
    {
      "cell_type": "code",
      "metadata": {
        "id": "eIAd6GhzZund",
        "colab_type": "code",
        "colab": {}
      },
      "source": [
        "def model_nn(sess, input_image, num_iterations = 1500):\n",
        "    \n",
        "    # Initialize global variables (you need to run the session on the initializer)\n",
        "    ### START CODE HERE ### (1 line)\n",
        "    sess.run(tf.global_variables_initializer())\n",
        "    ### END CODE HERE ###\n",
        "    \n",
        "    # Run the noisy input image (initial generated image) through the model. Use assign().\n",
        "    ### START CODE HERE ### (1 line)\n",
        "    sess.run(model['input'].assign(input_image))\n",
        "    ### END CODE HERE ###\n",
        "    \n",
        "    for i in range(num_iterations):\n",
        "    \n",
        "        # Run the session on the train_step to minimize the total cost\n",
        "        ### START CODE HERE ### (1 line)\n",
        "        sess.run(train_step)\n",
        "        ### END CODE HERE ###\n",
        "        \n",
        "        # Compute the generated image by running the session on the current model['input']\n",
        "        ### START CODE HERE ### (1 line)\n",
        "        generated_image = sess.run(model['input'])\n",
        "        ### END CODE HERE ###\n",
        "\n",
        "        # Print every nth iteration. (n is a number of your choice)\n",
        "        if i%100== 0:\n",
        "            Jt, Jc, Js = sess.run([J, J_content, J_style])\n",
        "            print(\"Iteration \" + str(i) + \" :\")\n",
        "            print(\"total cost = \" + str(Jt))\n",
        "            print(\"content cost = \" + str(Jc))\n",
        "            print(\"style cost = \" + str(Js))\n",
        "            \n",
        "            # save current generated image in the \"/output\" directory\n",
        "            save_image(\"/content/\" + str(i) + \".png\", generated_image)\n",
        "    \n",
        "    # save last generated image\n",
        "    save_image('/content/generated_image.jpg', generated_image)\n",
        "    \n",
        "    return generated_image"
      ],
      "execution_count": 0,
      "outputs": []
    },
    {
      "cell_type": "markdown",
      "metadata": {
        "id": "uGsAkm0hZunh",
        "colab_type": "text"
      },
      "source": [
        "Run the following cell to generate an artistic image. It should take about 3min on CPU for every 20 iterations but you start observing attractive results after ≈140 iterations. Neural Style Transfer is generally trained using GPUs."
      ]
    },
    {
      "cell_type": "code",
      "metadata": {
        "scrolled": true,
        "id": "cxLqvKewZuni",
        "colab_type": "code",
        "outputId": "ed51cb07-e6a3-494a-ee08-c9b220a7f3be",
        "colab": {
          "base_uri": "https://localhost:8080/",
          "height": 1000
        }
      },
      "source": [
        "model_nn(sess, generated_image)"
      ],
      "execution_count": 118,
      "outputs": [
        {
          "output_type": "stream",
          "text": [
            "Iteration 0 :\n",
            "total cost = 773799900.0\n",
            "content cost = 48.455517\n",
            "style cost = 85977760.0\n",
            "Iteration 100 :\n",
            "total cost = 15390686.0\n",
            "content cost = 159.86058\n",
            "style cost = 1710058.5\n",
            "Iteration 200 :\n",
            "total cost = 12350164.0\n",
            "content cost = 174.55486\n",
            "style cost = 1372221.0\n",
            "Iteration 300 :\n",
            "total cost = 11029398.0\n",
            "content cost = 186.5575\n",
            "style cost = 1225467.9\n",
            "Iteration 400 :\n",
            "total cost = 10226984.0\n",
            "content cost = 195.6993\n",
            "style cost = 1136309.8\n",
            "Iteration 500 :\n",
            "total cost = 9662000.0\n",
            "content cost = 201.77235\n",
            "style cost = 1073533.1\n",
            "Iteration 600 :\n",
            "total cost = 9236010.0\n",
            "content cost = 206.5162\n",
            "style cost = 1026200.3\n",
            "Iteration 700 :\n",
            "total cost = 8897456.0\n",
            "content cost = 209.62685\n",
            "style cost = 988582.9\n",
            "Iteration 800 :\n",
            "total cost = 8617626.0\n",
            "content cost = 211.83118\n",
            "style cost = 957490.44\n",
            "Iteration 900 :\n",
            "total cost = 8383276.0\n",
            "content cost = 213.21196\n",
            "style cost = 931451.44\n",
            "Iteration 1000 :\n",
            "total cost = 8179686.5\n",
            "content cost = 214.27986\n",
            "style cost = 908830.25\n",
            "Iteration 1100 :\n",
            "total cost = 8003785.5\n",
            "content cost = 215.12057\n",
            "style cost = 889285.6\n",
            "Iteration 1200 :\n",
            "total cost = 7843588.5\n",
            "content cost = 216.13441\n",
            "style cost = 871485.8\n",
            "Iteration 1300 :\n",
            "total cost = 7695865.0\n",
            "content cost = 217.49936\n",
            "style cost = 855071.94\n",
            "Iteration 1400 :\n",
            "total cost = 7562180.0\n",
            "content cost = 218.05301\n",
            "style cost = 840218.0\n"
          ],
          "name": "stdout"
        },
        {
          "output_type": "execute_result",
          "data": {
            "text/plain": [
              "array([[[[ -51.0453   ,  -63.78494  ,  -98.10883  ],\n",
              "         [  -7.6755853,  -14.939606 ,  -13.41691  ],\n",
              "         [  11.352695 ,    8.982402 ,   27.60088  ],\n",
              "         ...,\n",
              "         [ -79.80012  , -216.6829   , -129.40038  ],\n",
              "         [-141.65729  , -102.22937  ,  -48.365154 ],\n",
              "         [ 529.80896  ,   53.206123 ,  144.97467  ]],\n",
              "\n",
              "        [[-257.1039   ,  -84.89164  , -185.68849  ],\n",
              "         [ -94.72581  ,  -72.79592  ,  -92.69707  ],\n",
              "         [ -29.45677  ,  -36.52964  ,  -19.590988 ],\n",
              "         ...,\n",
              "         [ -84.88884  , -130.56169  ,  -92.75493  ],\n",
              "         [-130.24811  , -381.9773   , -255.0649   ],\n",
              "         [ -59.544846 , -142.7192   ,  -50.328106 ]],\n",
              "\n",
              "        [[ -90.32105  ,  -43.219402 ,  -21.399416 ],\n",
              "         [ -43.024487 , -144.62715  ,  -53.799553 ],\n",
              "         [ -47.719494 , -193.32365  ,  -95.58749  ],\n",
              "         ...,\n",
              "         [ -17.58456  ,   -8.161069 ,   20.196281 ],\n",
              "         [  -4.4432397,  -46.08997  ,   31.098295 ],\n",
              "         [  -8.433602 ,  -97.613045 ,  129.07292  ]],\n",
              "\n",
              "        ...,\n",
              "\n",
              "        [[ 114.025665 ,   36.827915 , -135.65714  ],\n",
              "         [  43.840015 ,   34.95333  , -153.1477   ],\n",
              "         [  39.250866 ,   20.174158 ,  -64.937904 ],\n",
              "         ...,\n",
              "         [ -38.97384  ,  -65.38801  ,   64.432335 ],\n",
              "         [ -24.898449 ,   32.841446 ,   71.27189  ],\n",
              "         [  29.655642 ,   67.74256  ,   88.71997  ]],\n",
              "\n",
              "        [[  52.801224 ,    2.908846 ,  -66.51596  ],\n",
              "         [  54.25775  ,   28.250687 ,  -24.92848  ],\n",
              "         [  94.684006 ,   34.315212 , -158.09897  ],\n",
              "         ...,\n",
              "         [ -31.066727 ,    5.8265805,  106.862175 ],\n",
              "         [ -11.989246 ,  285.38403  ,  118.530174 ],\n",
              "         [  70.97909  ,  107.85695  ,  121.96473  ]],\n",
              "\n",
              "        [[-371.09274  , -185.39244  , -280.2606   ],\n",
              "         [ -84.71392  ,  -71.99568  , -440.0238   ],\n",
              "         [  78.66181  ,   -1.030468 ,  -68.38283  ],\n",
              "         ...,\n",
              "         [   4.62219  ,  159.09448  ,   91.97073  ],\n",
              "         [ -14.88252  ,  139.46509  ,  103.14234  ],\n",
              "         [  -6.811713 ,   79.68345  ,   91.46241  ]]]], dtype=float32)"
            ]
          },
          "metadata": {
            "tags": []
          },
          "execution_count": 118
        }
      ]
    },
    {
      "cell_type": "code",
      "metadata": {
        "id": "4SXlZalSAozI",
        "colab_type": "code",
        "colab": {}
      },
      "source": [
        "# Display intermediate images\n",
        "for i in range(0, 1500, 100):\n",
        "  plt.figure(figsize = (50, 50))\n",
        "  plt.subplot(10,10, i//100 + 1)\n",
        "  imshow(scipy.misc.imread('/content/' + str(i) + '.png'))"
      ],
      "execution_count": 0,
      "outputs": []
    },
    {
      "cell_type": "code",
      "metadata": {
        "id": "BANFzobi45do",
        "colab_type": "code",
        "colab": {}
      },
      "source": [
        "# Check the final image\n",
        "imshow(scipy.misc.imread('/content/generated_image.jpg'))"
      ],
      "execution_count": 0,
      "outputs": []
    },
    {
      "cell_type": "markdown",
      "metadata": {
        "collapsed": true,
        "id": "i84mzqaZZuoj",
        "colab_type": "text"
      },
      "source": [
        "### References:\n",
        "\n",
        "The Neural Style Transfer algorithm was due to Gatys et al. (2015). Harish Narayanan and Github user \"log0\" also have highly readable write-ups from which we drew inspiration. The pre-trained network used in this implementation is a VGG network, which is due to Simonyan and Zisserman (2015). Pre-trained weights were from the work of the MathConvNet team. \n",
        "\n",
        "- Leon A. Gatys, Alexander S. Ecker, Matthias Bethge, (2015). A Neural Algorithm of Artistic Style (https://arxiv.org/abs/1508.06576) \n",
        "- Harish Narayanan, Convolutional neural networks for artistic style transfer. https://harishnarayanan.org/writing/artistic-style-transfer/\n",
        "- Log0, TensorFlow Implementation of \"A Neural Algorithm of Artistic Style\". http://www.chioka.in/tensorflow-implementation-neural-algorithm-of-artistic-style\n",
        "- Karen Simonyan and Andrew Zisserman (2015). Very deep convolutional networks for large-scale image recognition (https://arxiv.org/pdf/1409.1556.pdf)\n",
        "- MatConvNet. http://www.vlfeat.org/matconvnet/pretrained/\n"
      ]
    }
  ]
}